{
 "cells": [
  {
   "cell_type": "code",
   "execution_count": 9,
   "metadata": {},
   "outputs": [],
   "source": [
    "import pandas as pd"
   ]
  },
  {
   "cell_type": "code",
   "execution_count": 50,
   "metadata": {},
   "outputs": [],
   "source": [
    "df = pd.read_csv(\"data\\prix-carburants-fichier-quotidien-test-ods.csv\", sep=';', on_bad_lines='skip')\n",
    "df.isna().sum()\n",
    "df.info\n",
    "\n",
    "df_ess=df[['prix_valeur', 'id']]"
   ]
  },
  {
   "cell_type": "code",
   "execution_count": 11,
   "metadata": {},
   "outputs": [
    {
     "name": "stdout",
     "output_type": "stream",
     "text": [
      "Note: you may need to restart the kernel to use updated packages.\n"
     ]
    },
    {
     "name": "stderr",
     "output_type": "stream",
     "text": [
      "ERROR: Could not find a version that satisfies the requirement geopy.geocoders (from versions: none)\n",
      "ERROR: No matching distribution found for geopy.geocoders\n",
      "WARNING: You are using pip version 21.2.3; however, version 22.3.1 is available.\n",
      "You should consider upgrading via the 'c:\\Users\\arman\\AppData\\Local\\Programs\\Python\\Python310\\python.exe -m pip install --upgrade pip' command.\n"
     ]
    }
   ],
   "source": [
    "%pip install geopy.geocoders"
   ]
  },
  {
   "cell_type": "code",
   "execution_count": null,
   "metadata": {},
   "outputs": [
    {
     "name": "stdout",
     "output_type": "stream",
     "text": [
      "Rue d'Arsonval, Belvedère, Corbeville, Orsay, Palaiseau, Essonne, Île-de-France, France métropolitaine, 91400, France\n",
      "(48.7087952, 2.1742033)\n",
      "{'place_id': 295655111, 'licence': 'Data © OpenStreetMap contributors, ODbL 1.0. https://osm.org/copyright', 'osm_type': 'way', 'osm_id': 1061978191, 'boundingbox': ['48.7085478', '48.7092506', '2.1741957', '2.1742094'], 'lat': '48.7087952', 'lon': '2.1742033', 'display_name': \"Rue d'Arsonval, Belvedère, Corbeville, Orsay, Palaiseau, Essonne, Île-de-France, France métropolitaine, 91400, France\", 'class': 'highway', 'type': 'residential', 'importance': 0.72}\n"
     ]
    }
   ],
   "source": [
    "#Fonction adresse --> coordonées https://geopy.readthedocs.io/en/stable/\n",
    "from geopy.geocoders import Nominatim\n",
    "\n",
    "\n",
    "def Adresse_to_gps(Adresse) : \n",
    "\n",
    "    geolocator = Nominatim(user_agent=\"Projet Python\")\n",
    "    location = geolocator.geocode(Adresse)\n",
    "    return location.latitude, location.longitude\n",
    "\n",
    "\n",
    "print(Adresse_to_gps(\"1 rue d'Arsonval, Orsay, France'))\n"
   ]
  },
  {
   "cell_type": "code",
   "execution_count": 5,
   "metadata": {},
   "outputs": [
    {
     "name": "stdout",
     "output_type": "stream",
     "text": [
      "Steinecke, Potsdamer Platz, Tiergarten, Mitte, Berlin, 10785, Deutschland\n",
      "(52.5098134, 13.37631790998454)\n",
      "{'place_id': 209709902, 'licence': 'Data © OpenStreetMap contributors, ODbL 1.0. https://osm.org/copyright', 'osm_type': 'way', 'osm_id': 464904418, 'lat': '52.5098134', 'lon': '13.37631790998454', 'display_name': 'Steinecke, Potsdamer Platz, Tiergarten, Mitte, Berlin, 10785, Deutschland', 'address': {'shop': 'Steinecke', 'road': 'Potsdamer Platz', 'suburb': 'Tiergarten', 'borough': 'Mitte', 'city': 'Berlin', 'ISO3166-2-lvl4': 'DE-BE', 'postcode': '10785', 'country': 'Deutschland', 'country_code': 'de'}, 'boundingbox': ['52.5097484', '52.5098379', '13.3762557', '13.3763681']}\n"
     ]
    }
   ],
   "source": [
    "#Coordonées --> adresse \n",
    "\n",
    "from geopy.geocoders import Nominatim\n",
    "geolocator = Nominatim(user_agent=\"Projet Python\")\n",
    "location = geolocator.reverse(\"52.509669, 13.376294\")\n",
    "print(location.address)\n",
    "print((location.latitude, location.longitude))\n",
    "print(location.raw)\n"
   ]
  },
  {
   "cell_type": "code",
   "execution_count": 59,
   "metadata": {},
   "outputs": [
    {
     "data": {
      "text/html": [
       "<div>\n",
       "<style scoped>\n",
       "    .dataframe tbody tr th:only-of-type {\n",
       "        vertical-align: middle;\n",
       "    }\n",
       "\n",
       "    .dataframe tbody tr th {\n",
       "        vertical-align: top;\n",
       "    }\n",
       "\n",
       "    .dataframe thead th {\n",
       "        text-align: right;\n",
       "    }\n",
       "</style>\n",
       "<table border=\"1\" class=\"dataframe\">\n",
       "  <thead>\n",
       "    <tr style=\"text-align: right;\">\n",
       "      <th></th>\n",
       "      <th>prix_valeur</th>\n",
       "      <th>id</th>\n",
       "    </tr>\n",
       "  </thead>\n",
       "  <tbody>\n",
       "    <tr>\n",
       "      <th>18199</th>\n",
       "      <td>1.596</td>\n",
       "      <td>62260003</td>\n",
       "    </tr>\n",
       "    <tr>\n",
       "      <th>45627</th>\n",
       "      <td>1.630</td>\n",
       "      <td>70200008</td>\n",
       "    </tr>\n",
       "    <tr>\n",
       "      <th>74587</th>\n",
       "      <td>1.760</td>\n",
       "      <td>75016001</td>\n",
       "    </tr>\n",
       "    <tr>\n",
       "      <th>64490</th>\n",
       "      <td>1.762</td>\n",
       "      <td>63300002</td>\n",
       "    </tr>\n",
       "    <tr>\n",
       "      <th>63223</th>\n",
       "      <td>1.779</td>\n",
       "      <td>80150003</td>\n",
       "    </tr>\n",
       "    <tr>\n",
       "      <th>61368</th>\n",
       "      <td>1.799</td>\n",
       "      <td>83170006</td>\n",
       "    </tr>\n",
       "    <tr>\n",
       "      <th>59835</th>\n",
       "      <td>1.839</td>\n",
       "      <td>42160005</td>\n",
       "    </tr>\n",
       "    <tr>\n",
       "      <th>12190</th>\n",
       "      <td>1.865</td>\n",
       "      <td>84000011</td>\n",
       "    </tr>\n",
       "    <tr>\n",
       "      <th>6795</th>\n",
       "      <td>2.050</td>\n",
       "      <td>49630006</td>\n",
       "    </tr>\n",
       "    <tr>\n",
       "      <th>74971</th>\n",
       "      <td>2.200</td>\n",
       "      <td>42220003</td>\n",
       "    </tr>\n",
       "  </tbody>\n",
       "</table>\n",
       "</div>"
      ],
      "text/plain": [
       "       prix_valeur        id\n",
       "18199        1.596  62260003\n",
       "45627        1.630  70200008\n",
       "74587        1.760  75016001\n",
       "64490        1.762  63300002\n",
       "63223        1.779  80150003\n",
       "61368        1.799  83170006\n",
       "59835        1.839  42160005\n",
       "12190        1.865  84000011\n",
       "6795         2.050  49630006\n",
       "74971        2.200  42220003"
      ]
     },
     "execution_count": 59,
     "metadata": {},
     "output_type": "execute_result"
    }
   ],
   "source": [
    "#Fonction de tri par prix \n",
    "Samp = df_ess.sample(10)\n",
    "Samp.sort_values(by=['prix_valeur'], ascending=True)\n"
   ]
  }
 ],
 "metadata": {
  "kernelspec": {
   "display_name": "Python 3.10.0 64-bit",
   "language": "python",
   "name": "python3"
  },
  "language_info": {
   "codemirror_mode": {
    "name": "ipython",
    "version": 3
   },
   "file_extension": ".py",
   "mimetype": "text/x-python",
   "name": "python",
   "nbconvert_exporter": "python",
   "pygments_lexer": "ipython3",
   "version": "3.10.0"
  },
  "orig_nbformat": 4,
  "vscode": {
   "interpreter": {
    "hash": "ee4c60ed9f2d143d855c3de7cdf8e81ef9399a07140d5084c19be7d5d534dff2"
   }
  }
 },
 "nbformat": 4,
 "nbformat_minor": 2
}
