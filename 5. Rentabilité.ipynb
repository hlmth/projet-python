{
 "cells": [
  {
   "attachments": {},
   "cell_type": "markdown",
   "metadata": {},
   "source": [
    "Le notebook Rentabilité contient le coeur de notre projet : en indiquant une position de départ, une quantité de carburant et le type de carburant, notre fonction va retourner la station essence dans laquelle il est le plus rentable d'aller faire le plein. On prend en compte la distance, la consommation, le prix du trajet et le prix du carburant dans la station d'arrivée "
   ]
  },
  {
   "cell_type": "code",
   "execution_count": 76,
   "metadata": {},
   "outputs": [],
   "source": [
    "import pandas as pd\n",
    "import module_projet as md\n",
    "from geopy.geocoders import Nominatim\n",
    "\n"
   ]
  },
  {
   "attachments": {},
   "cell_type": "markdown",
   "metadata": {},
   "source": [
    "On récupère les données, on travaille ici sur la base de données instantanées"
   ]
  },
  {
   "cell_type": "code",
   "execution_count": null,
   "metadata": {},
   "outputs": [],
   "source": [
    "dat_inst = pd.read_csv('data/fichier_inst.csv', sep= ';')"
   ]
  },
  {
   "attachments": {},
   "cell_type": "markdown",
   "metadata": {},
   "source": [
    "Nous avons besoin d'informations sur l'utilisateur pour faire marcher notre algorithme"
   ]
  },
  {
   "cell_type": "code",
   "execution_count": null,
   "metadata": {},
   "outputs": [],
   "source": [
    "adresse=input(\"renseigner votre adresse\")\n",
    "carburant=input(\"Renseigner le carburant souhaité\")\n",
    "quanti=input(\"renseigner le nombre de litre souhaité\")\n",
    "\n",
    "df_renta=md.data_carb(dat_inst, carburant, ['id', 'ville', 'geom','prix_valeur','prix_nom'])"
   ]
  },
  {
   "cell_type": "code",
   "execution_count": null,
   "metadata": {},
   "outputs": [],
   "source": [
    "\n",
    "#fonctions a récuperer dans le md\n",
    "\n",
    "def Adresse_to_gps(Adresse) : \n",
    "\n",
    "    geolocator = Nominatim(user_agent=\"arman.akgonul@ensae.fr\")\n",
    "    location = geolocator.geocode(Adresse, timeout=10000)\n",
    "    return str(str(location.latitude) + ','+ str(location.longitude))\n",
    "\n",
    "\n",
    "def data_carb(df, carb, colonnes_utiles):\n",
    "    data_1 = df[df.prix_nom == carb]\n",
    "    d = data_1[colonnes_utiles]\n",
    "    d.drop_duplicates(keep = 'first', inplace=True) \n",
    "    return d\n",
    "\n",
    "# a ajouter : un traitement des NaN\n",
    "    return d\n"
   ]
  },
  {
   "attachments": {},
   "cell_type": "markdown",
   "metadata": {},
   "source": [
    "On a donc besoin d'une fonction qui calcule le prix du plein en fonction de la station d'essence choisie"
   ]
  },
  {
   "cell_type": "code",
   "execution_count": 80,
   "metadata": {},
   "outputs": [],
   "source": [
    "df_test=df_renta.sample(50) #à remplacer par le df contentenant les plus proches stations\n",
    "df_opti=df_test.assign(cout=1) #nouvelle colonne avec le cout du plein en tenant compte du trajet et du prix\n",
    "\n",
    "\n",
    "\n",
    "def prix_plein(Quantité, position, station) : \n",
    "    A = list(map(float,position.split(',')))\n",
    "    B = list(map(float,df_opti.iloc[station,2].split(',')))\n",
    "    \n",
    "    D= distance1(A,B)/100    #calcul de la distance avec la station \n",
    "    conso_trajet=D*0.06 #calcul du nb de litre d'essence necessaire pour aller a la station\n",
    "    P=Quantité+conso_trajet #calcul du nb de litre necessaire pour faire le plein après le trajet\n",
    "    prix_L=df_opti.iloc[station,3] #prix au litre à la station\n",
    "    px_plein=prix_L*P #prix du plein de base + prix du trajet\n",
    "    return px_plein\n",
    "\n"
   ]
  },
  {
   "attachments": {},
   "cell_type": "markdown",
   "metadata": {},
   "source": [
    "Ici on fait une boucle qui calcule le prix du plein pour toutes les stations pour trouver celle où il est le plus rentable d'aller"
   ]
  },
  {
   "cell_type": "code",
   "execution_count": null,
   "metadata": {},
   "outputs": [],
   "source": [
    "\n",
    "position=Adresse_to_gps(adresse) #on sort cette ligne de la boucle, sinon le package \"Nomatim\" nous bloque pour usage trop récurrent\n",
    "for i in range(len(df_opti)) : \n",
    "    C=prix_plein(50,position,i) #on calcule le prix du plein pour chaque station\n",
    "    df_opti.iloc[i,5]=C #on ajoute ce prix dans le dataframe\n",
    "\n",
    "df_opti = df_opti.sort_values('cout', ascending=True)\n"
   ]
  },
  {
   "attachments": {},
   "cell_type": "markdown",
   "metadata": {},
   "source": [
    "Enfin, on affiche la meilleure station calculée par l'algorithme"
   ]
  },
  {
   "cell_type": "code",
   "execution_count": 85,
   "metadata": {},
   "outputs": [
    {
     "name": "stdout",
     "output_type": "stream",
     "text": [
      "            id   ville          geom  prix_valeur prix_nom   cout\n",
      "17572  8190001  ASFELD  49.465,4.112        1.697   Gazole  84.85\n"
     ]
    }
   ],
   "source": [
    "print(df_opti.head(1)) #station la plus rentable"
   ]
  }
 ],
 "metadata": {
  "kernelspec": {
   "display_name": "Python 3",
   "language": "python",
   "name": "python3"
  },
  "language_info": {
   "codemirror_mode": {
    "name": "ipython",
    "version": 3
   },
   "file_extension": ".py",
   "mimetype": "text/x-python",
   "name": "python",
   "nbconvert_exporter": "python",
   "pygments_lexer": "ipython3",
   "version": "3.10.0"
  },
  "orig_nbformat": 4,
  "vscode": {
   "interpreter": {
    "hash": "ee4c60ed9f2d143d855c3de7cdf8e81ef9399a07140d5084c19be7d5d534dff2"
   }
  }
 },
 "nbformat": 4,
 "nbformat_minor": 2
}
