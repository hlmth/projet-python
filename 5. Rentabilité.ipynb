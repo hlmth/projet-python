{
 "cells": [
  {
   "attachments": {},
   "cell_type": "markdown",
   "metadata": {},
   "source": [
    "Le notebook Rentabilité contient le coeur de notre projet : en indiquant une position de départ, une quantité de carburant et le type de carburant, notre fonction va retourner la station essence dans laquelle il est le plus rentable d'aller faire le plein. On prend en compte la distance, la consommation, le prix du trajet et le prix du carburant dans la station d'arrivée "
   ]
  },
  {
   "cell_type": "code",
   "execution_count": 76,
   "metadata": {},
   "outputs": [],
   "source": [
    "import pandas as pd\n",
    "import module_projet as md\n",
    "from geopy.geocoders import Nominatim\n",
    "\n"
   ]
  },
  {
   "attachments": {},
   "cell_type": "markdown",
   "metadata": {},
   "source": [
    "On récupère les données, on travaille ici sur la base de données instantanées"
   ]
  },
  {
   "cell_type": "code",
   "execution_count": null,
   "metadata": {},
   "outputs": [],
   "source": [
    "dat_inst = pd.read_csv('data/fichier_inst.csv', sep= ';')"
   ]
  },
  {
   "attachments": {},
   "cell_type": "markdown",
   "metadata": {},
   "source": [
    "Nous avons besoin d'informations sur l'utilisateur pour faire marcher notre algorithme"
   ]
  },
  {
   "cell_type": "code",
   "execution_count": null,
   "metadata": {},
   "outputs": [],
   "source": [
    "adresse=input(\"renseigner votre adresse\")\n",
    "carburant=input(\"Renseigner le carburant souhaité\")\n",
    "quanti=input(\"renseigner le nombre de litre souhaité\")\n",
    "\n",
    "df_renta=md.data_carb(dat_inst, carburant, ['id', 'ville', 'geom','prix_valeur','prix_nom'])"
   ]
  },
  {
   "cell_type": "code",
   "execution_count": null,
   "metadata": {},
   "outputs": [],
   "source": [
    "\n",
    "#fonctions a récuperer dans le md\n",
    "\n",
    "def Adresse_to_gps(Adresse) : \n",
    "\n",
    "    geolocator = Nominatim(user_agent=\"arman.akgonul@ensae.fr\")\n",
    "    location = geolocator.geocode(Adresse, timeout=10000)\n",
    "    return str(str(location.latitude) + ','+ str(location.longitude))\n",
    "\n",
    "\n",
    "def data_carb(df, carb, colonnes_utiles):\n",
    "    data_1 = df[df.prix_nom == carb]\n",
    "    d = data_1[colonnes_utiles]\n",
    "    d.drop_duplicates(keep = 'first', inplace=True) \n",
    "    return d\n",
    "\n",
    "# a ajouter : un traitement des NaN\n",
    "    return d\n"
   ]
  },
  {
   "attachments": {},
   "cell_type": "markdown",
   "metadata": {},
   "source": [
    "On a donc besoin d'une fonction qui calcule le prix du plein en fonction de la station d'essence choisie"
   ]
  },
  {
   "cell_type": "code",
   "execution_count": 80,
   "metadata": {},
   "outputs": [],
   "source": [
    "df_test=df_renta.sample(50) #à remplacer par le df contentenant les plus proches stations\n",
    "df_opti=df_test.assign(cout=1) #nouvelle colonne avec le cout du plein en tenant compte du trajet et du prix\n",
    "\n",
    "\n",
    "\n",
    "def prix_plein(Quantité, position, station) : \n",
    "    A = list(map(float,position.split(',')))\n",
    "    B = list(map(float,df_opti.iloc[station,2].split(',')))\n",
    "    \n",
    "    D= distance1(A,B)/100    #calcul de la distance avec la station \n",
    "    conso_trajet=D*0.06 #calcul du nb de litre d'essence necessaire pour aller a la station\n",
    "    P=Quantité+conso_trajet #calcul du nb de litre necessaire pour faire le plein après le trajet\n",
    "    prix_L=df_opti.iloc[station,3] #prix au litre à la station\n",
    "    px_plein=prix_L*P #prix du plein de base + prix du trajet\n",
    "    return px_plein\n",
    "\n"
   ]
  },
  {
   "attachments": {},
   "cell_type": "markdown",
   "metadata": {},
   "source": [
    "Ici on fait une boucle qui calcule le prix du plein pour toutes les stations pour trouver celle où il est le plus rentable d'aller"
   ]
  },
  {
   "cell_type": "code",
   "execution_count": null,
   "metadata": {},
   "outputs": [],
   "source": [
    "\n",
    "position=Adresse_to_gps(adresse) #on sort cette ligne de la boucle, sinon le package \"Nomatim\" nous bloque pour usage trop récurrent\n",
    "for i in range(len(df_opti)) : \n",
    "    C=prix_plein(50,position,i) #on calcule le prix du plein pour chaque station\n",
    "    df_opti.iloc[i,5]=C #on ajoute ce prix dans le dataframe\n",
    "\n",
    "df_opti = df_opti.sort_values('cout', ascending=True)\n"
   ]
  },
  {
   "attachments": {},
   "cell_type": "markdown",
   "metadata": {},
   "source": [
    "Enfin, on affiche la meilleure station calculée par l'algorithme"
   ]
  },
  {
   "cell_type": "code",
   "execution_count": 85,
   "metadata": {},
   "outputs": [
    {
     "name": "stdout",
     "output_type": "stream",
     "text": [
      "            id   ville          geom  prix_valeur prix_nom   cout\n",
      "17572  8190001  ASFELD  49.465,4.112        1.697   Gazole  84.85\n"
     ]
    }
   ],
   "source": [
    "print(df_opti.head(1)) #station la plus rentable"
   ]
  },
  {
   "cell_type": "markdown",
   "metadata": {},
   "source": [
    "Cette méthode a le défaut de calculer la distance à vol d'oiseau ce qui n'est pas nécessairement e chemin suivi par les voies routières. Ainsi, on va vouloir calculer des itinéraires pour déterminer les stations les plus proches en voiture.\n",
    "Tout d'abord, on importe les modules suivants : "
   ]
  },
  {
   "cell_type": "code",
   "execution_count": null,
   "metadata": {},
   "outputs": [],
   "source": [
    "import osmnx as ox\n",
    "import networkx as nx"
   ]
  },
  {
   "cell_type": "markdown",
   "metadata": {},
   "source": [
    "qui vont permettrent de créer des graphes à partir des données de OpenStreetMap :"
   ]
  },
  {
   "cell_type": "code",
   "execution_count": null,
   "metadata": {},
   "outputs": [],
   "source": [
    "def create_graph(loc, dist, transport_mode, loc_type=\"address\"):\n",
    "###Transport mode = ‘walk’, ‘bike’, ‘drive’, ‘drive_service’, ‘all’, ‘all_private’, ‘none’\n",
    "    if loc_type == \"address\":\n",
    "        G = ox.graph_from_address(loc, dist=dist, network_type=transport_mode)\n",
    "    elif loc_type == \"points\":\n",
    "        G = ox.graph_from_point(loc, dist=dist, network_type=transport_mode )\n",
    "    return G"
   ]
  },
  {
   "cell_type": "code",
   "execution_count": null,
   "metadata": {},
   "outputs": [],
   "source": [
    "G = create_graph(\"Ile de France\", 50000, \"drive\")"
   ]
  },
  {
   "cell_type": "markdown",
   "metadata": {},
   "source": [
    "dont on pondère les arêtes : "
   ]
  },
  {
   "cell_type": "code",
   "execution_count": null,
   "metadata": {},
   "outputs": [],
   "source": [
    "G = ox.add_edge_speeds(G) #Impute\n",
    "G = ox.add_edge_travel_times(G)\n",
    "G = ox.distance.add_edge_lengths(G) "
   ]
  },
  {
   "cell_type": "markdown",
   "metadata": {},
   "source": [
    "ce qui à l'aide d'un algorithme de recherche du plus court chemin (basé sur Dijkstra) permet de créer des itinéraires entre deux points : "
   ]
  },
  {
   "cell_type": "code",
   "execution_count": null,
   "metadata": {},
   "outputs": [],
   "source": [
    "def itinéraire(position, station):\n",
    "    a,b = position\n",
    "    x,y = station\n",
    "    start_node = ox.nearest_nodes(G, a,b) #trouve le noeud du graphe le plus proche de la position\n",
    "    end_node = ox.nearest_nodes(G, x,y) \n",
    "    route = nx.shortest_path(G, start_node, end_node, weight='length') #trouve le plus court chemin\n",
    "    length = nx.shortest_path_length(G, source=start_node, target=end_node, weight='length', method=\"dijkstra\") #trouve la longueur de ce chemin\n",
    "    return(route, length)"
   ]
  },
  {
   "cell_type": "markdown",
   "metadata": {},
   "source": [
    "qui renvoie le meilleur itinéraire (en terme de distance) entre deux points ainsi que sa longueur (en mètre). Cela permet alors de trouver les x stations les plus proches en terme de distance à parcourir en voiture et non à vol d'oiseau : "
   ]
  },
  {
   "cell_type": "code",
   "execution_count": null,
   "metadata": {},
   "outputs": [],
   "source": [
    "import module_projet as md\n",
    "\n",
    "def x_plus_proche(data, position , carb, nbr_stations):\n",
    "    data_mask = data['Nom Officiel Région']=='Île-de-France'\n",
    "    data_1 = data[data_mask]\n",
    "    data_2 = md.data_carb(data_1, carb, ['adresse', 'ville', 'prix_valeur', 'prix_nom', 'geom'])\n",
    "    pos = list(map(float,md.Adresse_to_gps2(position).split(',')))\n",
    "    def iti(station):\n",
    "        pos_sta = list(map(float, station.split(',')))\n",
    "        a = pos_sta[0]\n",
    "        pos_sta[0] = pos_sta[1]\n",
    "        pos_sta[1] = a\n",
    "        return(itinéraire(pos, pos_sta)[1])\n",
    "    vector = data_2['geom'].apply(iti).sort_values().head(nbr_stations)\n",
    "    return(vector)"
   ]
  }
 ],
 "metadata": {
  "kernelspec": {
   "display_name": "Python 3.9.7 ('base')",
   "language": "python",
   "name": "python3"
  },
  "language_info": {
   "codemirror_mode": {
    "name": "ipython",
    "version": 3
   },
   "file_extension": ".py",
   "mimetype": "text/x-python",
   "name": "python",
   "nbconvert_exporter": "python",
   "pygments_lexer": "ipython3",
   "version": "3.9.7"
  },
  "orig_nbformat": 4,
  "vscode": {
   "interpreter": {
    "hash": "cc7739b244f974916000a7d8eb95217d7b293019de62b65f8f3aaabbca2f3ce9"
   }
  }
 },
 "nbformat": 4,
 "nbformat_minor": 2
}
