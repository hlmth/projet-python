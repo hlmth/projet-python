{
 "cells": [
  {
   "attachments": {},
   "cell_type": "markdown",
   "metadata": {},
   "source": [
    "Le notebook Rentabilité contient le coeur de notre projet : en indiquant une position de départ, une quantité de carburant et le type de carburant, notre fonction va retourner la station essence dans laquelle il est le plus rentable d'aller faire le plein. On prend en compte la distance, la consommation, le prix du trajet et le prix du carburant dans la station d'arrivée "
   ]
  },
  {
   "cell_type": "code",
   "execution_count": 9,
   "metadata": {},
   "outputs": [],
   "source": [
    "import osmnx as ox\n",
    "import pandas as pd\n",
    "from geopy.geocoders import Nominatim"
   ]
  },
  {
   "cell_type": "code",
   "execution_count": 13,
   "metadata": {},
   "outputs": [
    {
     "ename": "KeyboardInterrupt",
     "evalue": "",
     "output_type": "error",
     "traceback": [
      "\u001b[1;31m---------------------------------------------------------------------------\u001b[0m",
      "\u001b[1;31mKeyboardInterrupt\u001b[0m                         Traceback (most recent call last)",
      "Cell \u001b[1;32mIn[13], line 1\u001b[0m\n\u001b[1;32m----> 1\u001b[0m \u001b[39mimport\u001b[39;00m \u001b[39mmodule_projet\u001b[39;00m \u001b[39mas\u001b[39;00m \u001b[39mmd\u001b[39;00m\n",
      "File \u001b[1;32mc:\\Users\\arman\\OneDrive\\Bureau\\projet-python\\module_projet.py:92\u001b[0m\n\u001b[0;32m     89\u001b[0m         G \u001b[39m=\u001b[39m ox\u001b[39m.\u001b[39mgraph_from_point(loc, dist\u001b[39m=\u001b[39mdist, network_type\u001b[39m=\u001b[39mtransport_mode )\n\u001b[0;32m     90\u001b[0m     \u001b[39mreturn\u001b[39;00m G\n\u001b[1;32m---> 92\u001b[0m G \u001b[39m=\u001b[39m create_graph(\u001b[39m\"\u001b[39;49m\u001b[39mIle de France\u001b[39;49m\u001b[39m\"\u001b[39;49m, \u001b[39m50000\u001b[39;49m, \u001b[39m\"\u001b[39;49m\u001b[39mdrive\u001b[39;49m\u001b[39m\"\u001b[39;49m)\n\u001b[0;32m     94\u001b[0m G \u001b[39m=\u001b[39m ox\u001b[39m.\u001b[39madd_edge_speeds(G) \u001b[39m#Impute\u001b[39;00m\n\u001b[0;32m     95\u001b[0m G \u001b[39m=\u001b[39m ox\u001b[39m.\u001b[39madd_edge_travel_times(G)\n",
      "File \u001b[1;32mc:\\Users\\arman\\OneDrive\\Bureau\\projet-python\\module_projet.py:87\u001b[0m, in \u001b[0;36mcreate_graph\u001b[1;34m(loc, dist, transport_mode, loc_type)\u001b[0m\n\u001b[0;32m     84\u001b[0m \u001b[39mdef\u001b[39;00m \u001b[39mcreate_graph\u001b[39m(loc, dist, transport_mode, loc_type\u001b[39m=\u001b[39m\u001b[39m\"\u001b[39m\u001b[39maddress\u001b[39m\u001b[39m\"\u001b[39m):\n\u001b[0;32m     85\u001b[0m \u001b[39m###Transport mode = ‘walk’, ‘bike’, ‘drive’, ‘drive_service’, ‘all’, ‘all_private’, ‘none’\u001b[39;00m\n\u001b[0;32m     86\u001b[0m     \u001b[39mif\u001b[39;00m loc_type \u001b[39m==\u001b[39m \u001b[39m\"\u001b[39m\u001b[39maddress\u001b[39m\u001b[39m\"\u001b[39m:\n\u001b[1;32m---> 87\u001b[0m         G \u001b[39m=\u001b[39m ox\u001b[39m.\u001b[39;49mgraph_from_address(loc, dist\u001b[39m=\u001b[39;49mdist, network_type\u001b[39m=\u001b[39;49mtransport_mode)\n\u001b[0;32m     88\u001b[0m     \u001b[39melif\u001b[39;00m loc_type \u001b[39m==\u001b[39m \u001b[39m\"\u001b[39m\u001b[39mpoints\u001b[39m\u001b[39m\"\u001b[39m:\n\u001b[0;32m     89\u001b[0m         G \u001b[39m=\u001b[39m ox\u001b[39m.\u001b[39mgraph_from_point(loc, dist\u001b[39m=\u001b[39mdist, network_type\u001b[39m=\u001b[39mtransport_mode )\n",
      "File \u001b[1;32mc:\\Users\\arman\\AppData\\Local\\Programs\\Python\\Python310\\lib\\site-packages\\osmnx\\graph.py:249\u001b[0m, in \u001b[0;36mgraph_from_address\u001b[1;34m(address, dist, dist_type, network_type, simplify, retain_all, truncate_by_edge, return_coords, clean_periphery, custom_filter)\u001b[0m\n\u001b[0;32m    246\u001b[0m point \u001b[39m=\u001b[39m geocoder\u001b[39m.\u001b[39mgeocode(query\u001b[39m=\u001b[39maddress)\n\u001b[0;32m    248\u001b[0m \u001b[39m# then create a graph from this point\u001b[39;00m\n\u001b[1;32m--> 249\u001b[0m G \u001b[39m=\u001b[39m graph_from_point(\n\u001b[0;32m    250\u001b[0m     point,\n\u001b[0;32m    251\u001b[0m     dist,\n\u001b[0;32m    252\u001b[0m     dist_type,\n\u001b[0;32m    253\u001b[0m     network_type\u001b[39m=\u001b[39;49mnetwork_type,\n\u001b[0;32m    254\u001b[0m     simplify\u001b[39m=\u001b[39;49msimplify,\n\u001b[0;32m    255\u001b[0m     retain_all\u001b[39m=\u001b[39;49mretain_all,\n\u001b[0;32m    256\u001b[0m     truncate_by_edge\u001b[39m=\u001b[39;49mtruncate_by_edge,\n\u001b[0;32m    257\u001b[0m     clean_periphery\u001b[39m=\u001b[39;49mclean_periphery,\n\u001b[0;32m    258\u001b[0m     custom_filter\u001b[39m=\u001b[39;49mcustom_filter,\n\u001b[0;32m    259\u001b[0m )\n\u001b[0;32m    260\u001b[0m utils\u001b[39m.\u001b[39mlog(\u001b[39mf\u001b[39m\u001b[39m\"\u001b[39m\u001b[39mgraph_from_address returned graph with \u001b[39m\u001b[39m{\u001b[39;00m\u001b[39mlen\u001b[39m(G)\u001b[39m}\u001b[39;00m\u001b[39m nodes and \u001b[39m\u001b[39m{\u001b[39;00m\u001b[39mlen\u001b[39m(G\u001b[39m.\u001b[39medges)\u001b[39m}\u001b[39;00m\u001b[39m edges\u001b[39m\u001b[39m\"\u001b[39m)\n\u001b[0;32m    262\u001b[0m \u001b[39mif\u001b[39;00m return_coords:\n",
      "File \u001b[1;32mc:\\Users\\arman\\AppData\\Local\\Programs\\Python\\Python310\\lib\\site-packages\\osmnx\\graph.py:162\u001b[0m, in \u001b[0;36mgraph_from_point\u001b[1;34m(center_point, dist, dist_type, network_type, simplify, retain_all, truncate_by_edge, clean_periphery, custom_filter)\u001b[0m\n\u001b[0;32m    159\u001b[0m north, south, east, west \u001b[39m=\u001b[39m utils_geo\u001b[39m.\u001b[39mbbox_from_point(center_point, dist)\n\u001b[0;32m    161\u001b[0m \u001b[39m# create a graph from the bounding box\u001b[39;00m\n\u001b[1;32m--> 162\u001b[0m G \u001b[39m=\u001b[39m graph_from_bbox(\n\u001b[0;32m    163\u001b[0m     north,\n\u001b[0;32m    164\u001b[0m     south,\n\u001b[0;32m    165\u001b[0m     east,\n\u001b[0;32m    166\u001b[0m     west,\n\u001b[0;32m    167\u001b[0m     network_type\u001b[39m=\u001b[39;49mnetwork_type,\n\u001b[0;32m    168\u001b[0m     simplify\u001b[39m=\u001b[39;49msimplify,\n\u001b[0;32m    169\u001b[0m     retain_all\u001b[39m=\u001b[39;49mretain_all,\n\u001b[0;32m    170\u001b[0m     truncate_by_edge\u001b[39m=\u001b[39;49mtruncate_by_edge,\n\u001b[0;32m    171\u001b[0m     clean_periphery\u001b[39m=\u001b[39;49mclean_periphery,\n\u001b[0;32m    172\u001b[0m     custom_filter\u001b[39m=\u001b[39;49mcustom_filter,\n\u001b[0;32m    173\u001b[0m )\n\u001b[0;32m    175\u001b[0m \u001b[39mif\u001b[39;00m dist_type \u001b[39m==\u001b[39m \u001b[39m\"\u001b[39m\u001b[39mnetwork\u001b[39m\u001b[39m\"\u001b[39m:\n\u001b[0;32m    176\u001b[0m     \u001b[39m# if dist_type is network, find node in graph nearest to center point\u001b[39;00m\n\u001b[0;32m    177\u001b[0m     \u001b[39m# then truncate graph by network dist from it\u001b[39;00m\n\u001b[0;32m    178\u001b[0m     node \u001b[39m=\u001b[39m distance\u001b[39m.\u001b[39mnearest_nodes(G, X\u001b[39m=\u001b[39m[center_point[\u001b[39m1\u001b[39m]], Y\u001b[39m=\u001b[39m[center_point[\u001b[39m0\u001b[39m]])[\u001b[39m0\u001b[39m]\n",
      "File \u001b[1;32mc:\\Users\\arman\\AppData\\Local\\Programs\\Python\\Python310\\lib\\site-packages\\osmnx\\graph.py:85\u001b[0m, in \u001b[0;36mgraph_from_bbox\u001b[1;34m(north, south, east, west, network_type, simplify, retain_all, truncate_by_edge, clean_periphery, custom_filter)\u001b[0m\n\u001b[0;32m     82\u001b[0m polygon \u001b[39m=\u001b[39m utils_geo\u001b[39m.\u001b[39mbbox_to_poly(north, south, east, west)\n\u001b[0;32m     84\u001b[0m \u001b[39m# create graph using this polygon geometry\u001b[39;00m\n\u001b[1;32m---> 85\u001b[0m G \u001b[39m=\u001b[39m graph_from_polygon(\n\u001b[0;32m     86\u001b[0m     polygon,\n\u001b[0;32m     87\u001b[0m     network_type\u001b[39m=\u001b[39;49mnetwork_type,\n\u001b[0;32m     88\u001b[0m     simplify\u001b[39m=\u001b[39;49msimplify,\n\u001b[0;32m     89\u001b[0m     retain_all\u001b[39m=\u001b[39;49mretain_all,\n\u001b[0;32m     90\u001b[0m     truncate_by_edge\u001b[39m=\u001b[39;49mtruncate_by_edge,\n\u001b[0;32m     91\u001b[0m     clean_periphery\u001b[39m=\u001b[39;49mclean_periphery,\n\u001b[0;32m     92\u001b[0m     custom_filter\u001b[39m=\u001b[39;49mcustom_filter,\n\u001b[0;32m     93\u001b[0m )\n\u001b[0;32m     95\u001b[0m utils\u001b[39m.\u001b[39mlog(\u001b[39mf\u001b[39m\u001b[39m\"\u001b[39m\u001b[39mgraph_from_bbox returned graph with \u001b[39m\u001b[39m{\u001b[39;00m\u001b[39mlen\u001b[39m(G)\u001b[39m}\u001b[39;00m\u001b[39m nodes and \u001b[39m\u001b[39m{\u001b[39;00m\u001b[39mlen\u001b[39m(G\u001b[39m.\u001b[39medges)\u001b[39m}\u001b[39;00m\u001b[39m edges\u001b[39m\u001b[39m\"\u001b[39m)\n\u001b[0;32m     96\u001b[0m \u001b[39mreturn\u001b[39;00m G\n",
      "File \u001b[1;32mc:\\Users\\arman\\AppData\\Local\\Programs\\Python\\Python310\\lib\\site-packages\\osmnx\\graph.py:436\u001b[0m, in \u001b[0;36mgraph_from_polygon\u001b[1;34m(polygon, network_type, simplify, retain_all, truncate_by_edge, clean_periphery, custom_filter)\u001b[0m\n\u001b[0;32m    434\u001b[0m \u001b[39m# create buffered graph from the downloaded data\u001b[39;00m\n\u001b[0;32m    435\u001b[0m bidirectional \u001b[39m=\u001b[39m network_type \u001b[39min\u001b[39;00m settings\u001b[39m.\u001b[39mbidirectional_network_types\n\u001b[1;32m--> 436\u001b[0m G_buff \u001b[39m=\u001b[39m _create_graph(response_jsons, retain_all\u001b[39m=\u001b[39;49m\u001b[39mTrue\u001b[39;49;00m, bidirectional\u001b[39m=\u001b[39;49mbidirectional)\n\u001b[0;32m    438\u001b[0m \u001b[39m# truncate buffered graph to the buffered polygon and retain_all for\u001b[39;00m\n\u001b[0;32m    439\u001b[0m \u001b[39m# now. needed because overpass returns entire ways that also include\u001b[39;00m\n\u001b[0;32m    440\u001b[0m \u001b[39m# nodes outside the poly if the way (that is, a way with a single OSM\u001b[39;00m\n\u001b[0;32m    441\u001b[0m \u001b[39m# ID) has a node inside the poly at some point.\u001b[39;00m\n\u001b[0;32m    442\u001b[0m G_buff \u001b[39m=\u001b[39m truncate\u001b[39m.\u001b[39mtruncate_graph_polygon(G_buff, poly_buff, \u001b[39mTrue\u001b[39;00m, truncate_by_edge)\n",
      "File \u001b[1;32mc:\\Users\\arman\\AppData\\Local\\Programs\\Python\\Python310\\lib\\site-packages\\osmnx\\graph.py:568\u001b[0m, in \u001b[0;36m_create_graph\u001b[1;34m(response_jsons, retain_all, bidirectional)\u001b[0m\n\u001b[0;32m    566\u001b[0m paths \u001b[39m=\u001b[39m \u001b[39mdict\u001b[39m()\n\u001b[0;32m    567\u001b[0m \u001b[39mfor\u001b[39;00m response_json \u001b[39min\u001b[39;00m response_jsons:\n\u001b[1;32m--> 568\u001b[0m     nodes_temp, paths_temp \u001b[39m=\u001b[39m _parse_nodes_paths(response_json)\n\u001b[0;32m    569\u001b[0m     nodes\u001b[39m.\u001b[39mupdate(nodes_temp)\n\u001b[0;32m    570\u001b[0m     paths\u001b[39m.\u001b[39mupdate(paths_temp)\n",
      "File \u001b[1;32mc:\\Users\\arman\\AppData\\Local\\Programs\\Python\\Python310\\lib\\site-packages\\osmnx\\graph.py:658\u001b[0m, in \u001b[0;36m_parse_nodes_paths\u001b[1;34m(response_json)\u001b[0m\n\u001b[0;32m    656\u001b[0m         nodes[element[\u001b[39m\"\u001b[39m\u001b[39mid\u001b[39m\u001b[39m\"\u001b[39m]] \u001b[39m=\u001b[39m _convert_node(element)\n\u001b[0;32m    657\u001b[0m     \u001b[39melif\u001b[39;00m element[\u001b[39m\"\u001b[39m\u001b[39mtype\u001b[39m\u001b[39m\"\u001b[39m] \u001b[39m==\u001b[39m \u001b[39m\"\u001b[39m\u001b[39mway\u001b[39m\u001b[39m\"\u001b[39m:\n\u001b[1;32m--> 658\u001b[0m         paths[element[\u001b[39m\"\u001b[39m\u001b[39mid\u001b[39m\u001b[39m\"\u001b[39m]] \u001b[39m=\u001b[39m _convert_path(element)\n\u001b[0;32m    660\u001b[0m \u001b[39mreturn\u001b[39;00m nodes, paths\n",
      "File \u001b[1;32mc:\\Users\\arman\\AppData\\Local\\Programs\\Python\\Python310\\lib\\site-packages\\osmnx\\graph.py:633\u001b[0m, in \u001b[0;36m_convert_path\u001b[1;34m(element)\u001b[0m\n\u001b[0;32m    631\u001b[0m \u001b[39mif\u001b[39;00m \u001b[39m\"\u001b[39m\u001b[39mtags\u001b[39m\u001b[39m\"\u001b[39m \u001b[39min\u001b[39;00m element:\n\u001b[0;32m    632\u001b[0m     \u001b[39mfor\u001b[39;00m useful_tag \u001b[39min\u001b[39;00m settings\u001b[39m.\u001b[39museful_tags_way:\n\u001b[1;32m--> 633\u001b[0m         \u001b[39mif\u001b[39;00m useful_tag \u001b[39min\u001b[39;49;00m element[\u001b[39m\"\u001b[39;49m\u001b[39mtags\u001b[39;49m\u001b[39m\"\u001b[39;49m]:\n\u001b[0;32m    634\u001b[0m             path[useful_tag] \u001b[39m=\u001b[39m element[\u001b[39m\"\u001b[39m\u001b[39mtags\u001b[39m\u001b[39m\"\u001b[39m][useful_tag]\n\u001b[0;32m    635\u001b[0m \u001b[39mreturn\u001b[39;00m path\n",
      "\u001b[1;31mKeyboardInterrupt\u001b[0m: "
     ]
    }
   ],
   "source": [
    "import module_projet as md"
   ]
  },
  {
   "attachments": {},
   "cell_type": "markdown",
   "metadata": {},
   "source": [
    "On récupère les données, on travaille ici sur la base de données instantanées"
   ]
  },
  {
   "cell_type": "code",
   "execution_count": 5,
   "metadata": {},
   "outputs": [],
   "source": [
    "dat_inst = pd.read_csv('data/fichier_inst.csv', sep= ';')"
   ]
  },
  {
   "attachments": {},
   "cell_type": "markdown",
   "metadata": {},
   "source": [
    "Nous avons besoin d'informations sur l'utilisateur pour faire marcher notre algorithme"
   ]
  },
  {
   "cell_type": "code",
   "execution_count": 59,
   "metadata": {},
   "outputs": [],
   "source": [
    "adresse=input(\"renseigner votre adresse au format : numéro Rue, ville, pays\")\n",
    "carburant=input(\"Renseigner le carburant souhaité (E10, E85, GPLc, Gazole, SP95, SP98\")\n",
    "quanti=input(\"renseigner le nombre de litre souhaité\")"
   ]
  },
  {
   "cell_type": "code",
   "execution_count": 7,
   "metadata": {},
   "outputs": [],
   "source": [
    "df_renta=md.data_carb(dat_inst, carburant, ['id', 'ville', 'geom','prix_valeur','prix_nom'])"
   ]
  },
  {
   "cell_type": "code",
   "execution_count": 38,
   "metadata": {},
   "outputs": [],
   "source": [
    "#fonctions a récuperer dans le md\n",
    "\n",
    "def Adresse_to_gps(Adresse) : \n",
    "\n",
    "    geolocator = Nominatim(user_agent=\"arman.akgonul@ensae.fr\")\n",
    "    location = geolocator.geocode(Adresse, timeout=10000)\n",
    "    return str(str(location.latitude) + ','+ str(location.longitude))\n",
    "\n",
    "\n",
    "def data_carb(df, carb, colonnes_utiles):\n",
    "    data_1 = df[df.prix_nom == carb]\n",
    "    d = data_1[colonnes_utiles]\n",
    "    d.drop_duplicates(keep = 'first', inplace=True) \n",
    "    return d\n",
    "\n",
    "# a ajouter : un traitement des NaN\n",
    "    return d\n"
   ]
  },
  {
   "attachments": {},
   "cell_type": "markdown",
   "metadata": {},
   "source": [
    "Tout d'abord, on ne va garder que les stations services les plus proches pour ne pas surcharger la complexité. Il parait assez évident qu'une station classée quinzième en distance par exemple, ne sera pas la station la plus rentable"
   ]
  },
  {
   "cell_type": "code",
   "execution_count": 2,
   "metadata": {},
   "outputs": [
    {
     "ename": "NameError",
     "evalue": "name 'md' is not defined",
     "output_type": "error",
     "traceback": [
      "\u001b[1;31m---------------------------------------------------------------------------\u001b[0m",
      "\u001b[1;31mNameError\u001b[0m                                 Traceback (most recent call last)",
      "Cell \u001b[1;32mIn[2], line 1\u001b[0m\n\u001b[1;32m----> 1\u001b[0m pos\u001b[39m=\u001b[39mmd\u001b[39m.\u001b[39mAdresse_to_gps(\u001b[39m\"\u001b[39m\u001b[39m1 rue de Rivoli, Paris, France\u001b[39m\u001b[39m\"\u001b[39m)\n\u001b[0;32m      3\u001b[0m df_opti\u001b[39m=\u001b[39mmd\u001b[39m.\u001b[39mdix_plus_proche_card(df_renta, pos, \u001b[39m\"\u001b[39m\u001b[39mGazole\u001b[39m\u001b[39m\"\u001b[39m)\n",
      "\u001b[1;31mNameError\u001b[0m: name 'md' is not defined"
     ]
    }
   ],
   "source": [
    "pos=md.Adresse_to_gps(\"1 rue de Rivoli, Paris, France\")\n",
    "\n",
    "df_opti=md.dix_plus_proche_card(df_renta, pos, \"Gazole\")"
   ]
  },
  {
   "attachments": {},
   "cell_type": "markdown",
   "metadata": {},
   "source": [
    "Ensuite, a donc besoin d'une fonction qui calcule le prix du plein en fonction de la station d'essence choisie"
   ]
  },
  {
   "cell_type": "code",
   "execution_count": 44,
   "metadata": {},
   "outputs": [],
   "source": [
    "def prix_plein(Quantité, position, station) : \n",
    "    A = list(map(float,position.split(',')))\n",
    "    B = list(map(float,df_opti.iloc[station,2].split(',')))\n",
    "    \n",
    "    R,Dist= itinéraire(A,B)   #calcul de la distance avec la station \n",
    "    D=Dist/1000 #on converti la distance en kilomètre\n",
    "    conso_trajet=D*0.06 #calcul du nb de litre d'essence necessaire pour aller a la station\n",
    "    P=Quantité+conso_trajet #calcul du nb de litre necessaire pour faire le plein après le trajet\n",
    "    prix_L=df_opti.iloc[station,3] #prix au litre à la station\n",
    "    px_plein=prix_L*P #prix du plein de base + prix du trajet\n",
    "    return px_plein\n",
    "\n"
   ]
  },
  {
   "attachments": {},
   "cell_type": "markdown",
   "metadata": {},
   "source": [
    "On ajoute une nouvelle colonne à notre dataframe dans laquelle on implémentera plus tard le prix du plein dans cette station"
   ]
  },
  {
   "cell_type": "code",
   "execution_count": null,
   "metadata": {},
   "outputs": [],
   "source": [
    "df_test=df_renta.sample(1000) #à remplacer par le df contentenant les plus proches stations\n",
    "df_opti=df_renta.assign(cout=1) #nouvelle colonne avec le cout du plein en tenant compte du trajet et du prix"
   ]
  },
  {
   "cell_type": "code",
   "execution_count": 47,
   "metadata": {},
   "outputs": [
    {
     "name": "stdout",
     "output_type": "stream",
     "text": [
      "89.2\n"
     ]
    }
   ],
   "source": [
    "pos=Adresse_to_gps(\"1 rue de Rivoli, Paris, France\")\n",
    "print(prix_plein(50,pos,6796))"
   ]
  },
  {
   "attachments": {},
   "cell_type": "markdown",
   "metadata": {},
   "source": [
    "Ici on fait une boucle qui calcule le prix du plein pour toutes les stations pour trouver celle où il est le plus rentable d'aller"
   ]
  },
  {
   "cell_type": "code",
   "execution_count": null,
   "metadata": {},
   "outputs": [],
   "source": [
    "\n",
    "position=Adresse_to_gps(adresse) #on sort cette ligne de la boucle, sinon le package \"Nomatim\" nous bloque pour usage trop récurrent\n",
    "for i in df_opti.index : \n",
    "    C=prix_plein(50,position,i) #on calcule le prix du plein pour chaque station\n",
    "    df_opti.iloc[i,5]=C #on ajoute ce prix dans le dataframe\n",
    "\n"
   ]
  },
  {
   "attachments": {},
   "cell_type": "markdown",
   "metadata": {},
   "source": [
    "Enfin, on affiche la meilleure station calculée par l'algorithme"
   ]
  },
  {
   "cell_type": "code",
   "execution_count": 85,
   "metadata": {},
   "outputs": [
    {
     "name": "stdout",
     "output_type": "stream",
     "text": [
      "            id   ville          geom  prix_valeur prix_nom   cout\n",
      "17572  8190001  ASFELD  49.465,4.112        1.697   Gazole  84.85\n"
     ]
    }
   ],
   "source": [
    "df_opti = df_opti.sort_values('cout', ascending=True) #tri de manière croissante du coût les stations \n",
    "\n",
    "print(df_opti.head(1)) #station la plus rentable"
   ]
  },
  {
   "attachments": {},
   "cell_type": "markdown",
   "metadata": {},
   "source": []
  }
 ],
 "metadata": {
  "kernelspec": {
   "display_name": "Python 3",
   "language": "python",
   "name": "python3"
  },
  "language_info": {
   "codemirror_mode": {
    "name": "ipython",
    "version": 3
   },
   "file_extension": ".py",
   "mimetype": "text/x-python",
   "name": "python",
   "nbconvert_exporter": "python",
   "pygments_lexer": "ipython3",
   "version": "3.10.0"
  },
  "orig_nbformat": 4,
  "vscode": {
   "interpreter": {
    "hash": "ee4c60ed9f2d143d855c3de7cdf8e81ef9399a07140d5084c19be7d5d534dff2"
   }
  }
 },
 "nbformat": 4,
 "nbformat_minor": 2
}
