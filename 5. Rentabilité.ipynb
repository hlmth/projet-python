{
 "cells": [
  {
   "attachments": {},
   "cell_type": "markdown",
   "metadata": {},
   "source": [
    "Le notebook Rentabilité contient le coeur de notre projet : en indiquant une position de départ, une quantité de carburant et le type de carburant, notre fonction va retourner la station essence dans laquelle il est le plus rentable d'aller faire le plein. On prend en compte la distance, la consommation, le prix du trajet et le prix du carburant dans la station d'arrivée "
   ]
  },
  {
   "cell_type": "code",
   "execution_count": 36,
   "metadata": {},
   "outputs": [],
   "source": [
    "import osmnx as ox\n",
    "import pandas as pd\n",
    "import networkx as nx\n",
    "from geopy.geocoders import Nominatim"
   ]
  },
  {
   "cell_type": "code",
   "execution_count": 17,
   "metadata": {},
   "outputs": [],
   "source": [
    "import module_projet as md #très long (16min)"
   ]
  },
  {
   "attachments": {},
   "cell_type": "markdown",
   "metadata": {},
   "source": [
    "On récupère les données, on travaille ici sur la base de données instantanées"
   ]
  },
  {
   "cell_type": "code",
   "execution_count": 7,
   "metadata": {},
   "outputs": [],
   "source": [
    "dat_inst = pd.read_csv('data/fichier_inst.csv', sep= ';')"
   ]
  },
  {
   "attachments": {},
   "cell_type": "markdown",
   "metadata": {},
   "source": [
    "Nous avons besoin d'informations sur l'utilisateur pour faire marcher notre algorithme"
   ]
  },
  {
   "cell_type": "code",
   "execution_count": 8,
   "metadata": {},
   "outputs": [],
   "source": [
    "adresse=\"1 rue de Rivoli, France, Paris\"\n",
    "carburant=\"Gazole\"\n",
    "quanti=50"
   ]
  },
  {
   "attachments": {},
   "cell_type": "markdown",
   "metadata": {},
   "source": [
    "Tout d'abord, on ne va garder que les stations services les plus proches pour ne pas surcharger la complexité. Il parait assez évident qu'une station classée quinzième en distance par exemple, ne sera pas la station la plus rentable"
   ]
  },
  {
   "cell_type": "code",
   "execution_count": 20,
   "metadata": {},
   "outputs": [],
   "source": [
    "df_opti=md.dix_plus_proche_card(dat_inst, adresse, carburant) #voir module pour la fonction"
   ]
  },
  {
   "attachments": {},
   "cell_type": "markdown",
   "metadata": {},
   "source": [
    "Ensuite, on a donc besoin d'une fonction qui calcule le prix du plein en fonction de la station d'essence choisie"
   ]
  },
  {
   "cell_type": "code",
   "execution_count": 34,
   "metadata": {},
   "outputs": [],
   "source": [
    "def prix_plein(Quantité, position, station) : \n",
    "    A = list(map(float,position.split(',')))\n",
    "    B = list(map(float,df_opti.iloc[station,2].split(',')))\n",
    "    \n",
    "    R,Dist= md.itinéraire(A,B)   #calcul de la distance avec la station \n",
    "    D=Dist/1000 #on converti la distance en kilomètre\n",
    "    conso_trajet=D*0.06 #calcul du nb de litre d'essence necessaire pour aller a la station\n",
    "    P=Quantité+conso_trajet #calcul du nb de litre necessaire pour faire le plein après le trajet\n",
    "    prix_L=df_opti.iloc[station,3] #prix au litre à la station\n",
    "    px_plein=prix_L*P #prix du plein de base + prix du trajet\n",
    "    return px_plein\n",
    "\n"
   ]
  },
  {
   "attachments": {},
   "cell_type": "markdown",
   "metadata": {},
   "source": [
    "On ajoute une nouvelle colonne à notre dataframe dans laquelle on implémentera plus tard le prix du plein dans cette station"
   ]
  },
  {
   "cell_type": "code",
   "execution_count": 23,
   "metadata": {},
   "outputs": [],
   "source": [
    "df_opti=df_opti.assign(cout=1) #nouvelle colonne avec le cout du plein en tenant compte du trajet et du prix"
   ]
  },
  {
   "attachments": {},
   "cell_type": "markdown",
   "metadata": {},
   "source": [
    "Ici on fait une boucle qui calcule le prix du plein pour toutes les stations pour trouver celle où il est le plus rentable d'aller"
   ]
  },
  {
   "cell_type": "code",
   "execution_count": 38,
   "metadata": {},
   "outputs": [
    {
     "ename": "NameError",
     "evalue": "name 'nx' is not defined",
     "output_type": "error",
     "traceback": [
      "\u001b[1;31m---------------------------------------------------------------------------\u001b[0m",
      "\u001b[1;31mNameError\u001b[0m                                 Traceback (most recent call last)",
      "Cell \u001b[1;32mIn[38], line 4\u001b[0m\n\u001b[0;32m      2\u001b[0m position\u001b[39m=\u001b[39mAdresse_to_gps(adresse) \u001b[39m#on sort cette ligne de la boucle, sinon le package \"Nomatim\" nous bloque pour usage trop récurrent\u001b[39;00m\n\u001b[0;32m      3\u001b[0m \u001b[39mfor\u001b[39;00m i \u001b[39min\u001b[39;00m \u001b[39mrange\u001b[39m(\u001b[39mlen\u001b[39m(df_opti)) : \n\u001b[1;32m----> 4\u001b[0m     C\u001b[39m=\u001b[39mprix_plein(\u001b[39m50\u001b[39;49m,position,i) \u001b[39m#on calcule le prix du plein pour chaque station\u001b[39;00m\n\u001b[0;32m      5\u001b[0m     df_opti\u001b[39m.\u001b[39miloc[i,\u001b[39m5\u001b[39m]\u001b[39m=\u001b[39mC \u001b[39m#on ajoute ce prix dans le dataframe\u001b[39;00m\n",
      "Cell \u001b[1;32mIn[34], line 5\u001b[0m, in \u001b[0;36mprix_plein\u001b[1;34m(Quantité, position, station)\u001b[0m\n\u001b[0;32m      2\u001b[0m A \u001b[39m=\u001b[39m \u001b[39mlist\u001b[39m(\u001b[39mmap\u001b[39m(\u001b[39mfloat\u001b[39m,position\u001b[39m.\u001b[39msplit(\u001b[39m'\u001b[39m\u001b[39m,\u001b[39m\u001b[39m'\u001b[39m)))\n\u001b[0;32m      3\u001b[0m B \u001b[39m=\u001b[39m \u001b[39mlist\u001b[39m(\u001b[39mmap\u001b[39m(\u001b[39mfloat\u001b[39m,df_opti\u001b[39m.\u001b[39miloc[station,\u001b[39m2\u001b[39m]\u001b[39m.\u001b[39msplit(\u001b[39m'\u001b[39m\u001b[39m,\u001b[39m\u001b[39m'\u001b[39m)))\n\u001b[1;32m----> 5\u001b[0m R,Dist\u001b[39m=\u001b[39m md\u001b[39m.\u001b[39;49mitinéraire(A,B)   \u001b[39m#calcul de la distance avec la station \u001b[39;00m\n\u001b[0;32m      6\u001b[0m D\u001b[39m=\u001b[39mDist\u001b[39m/\u001b[39m\u001b[39m1000\u001b[39m \u001b[39m#on converti la distance en kilomètre\u001b[39;00m\n\u001b[0;32m      7\u001b[0m conso_trajet\u001b[39m=\u001b[39mD\u001b[39m*\u001b[39m\u001b[39m0.06\u001b[39m \u001b[39m#calcul du nb de litre d'essence necessaire pour aller a la station\u001b[39;00m\n",
      "File \u001b[1;32mc:\\Users\\arman\\OneDrive\\Bureau\\projet-python\\module_projet.py:103\u001b[0m, in \u001b[0;36mitinéraire\u001b[1;34m(position, station)\u001b[0m\n\u001b[0;32m    101\u001b[0m start_node \u001b[39m=\u001b[39m ox\u001b[39m.\u001b[39mnearest_nodes(G, a,b)\n\u001b[0;32m    102\u001b[0m end_node \u001b[39m=\u001b[39m ox\u001b[39m.\u001b[39mnearest_nodes(G, x,y) \u001b[39m# Calculate the shortest path\u001b[39;00m\n\u001b[1;32m--> 103\u001b[0m route \u001b[39m=\u001b[39m nx\u001b[39m.\u001b[39mshortest_path(G, start_node, end_node, weight\u001b[39m=\u001b[39m\u001b[39m'\u001b[39m\u001b[39mlength\u001b[39m\u001b[39m'\u001b[39m) \u001b[39m#Plot the route and street networks\u001b[39;00m\n\u001b[0;32m    104\u001b[0m length \u001b[39m=\u001b[39m nx\u001b[39m.\u001b[39mshortest_path_length(G, source\u001b[39m=\u001b[39mstart_node, target\u001b[39m=\u001b[39mend_node, weight\u001b[39m=\u001b[39m\u001b[39m'\u001b[39m\u001b[39mlength\u001b[39m\u001b[39m'\u001b[39m, method\u001b[39m=\u001b[39m\u001b[39m\"\u001b[39m\u001b[39mdijkstra\u001b[39m\u001b[39m\"\u001b[39m)\n\u001b[0;32m    105\u001b[0m \u001b[39mreturn\u001b[39;00m(route, length)\n",
      "\u001b[1;31mNameError\u001b[0m: name 'nx' is not defined"
     ]
    }
   ],
   "source": [
    "position=Adresse_to_gps(adresse) #on sort cette ligne de la boucle, sinon le package \"Nomatim\" nous bloque pour usage trop récurrent\n",
    "for i in range(len(df_opti)) : \n",
    "    C=prix_plein(50,position,i) #on calcule le prix du plein pour chaque station\n",
    "    df_opti.iloc[i,5]=C #on ajoute ce prix dans le dataframe\n",
    "\n"
   ]
  },
  {
   "attachments": {},
   "cell_type": "markdown",
   "metadata": {},
   "source": [
    "Enfin, on affiche la meilleure station calculée par l'algorithme"
   ]
  },
  {
   "cell_type": "code",
   "execution_count": 85,
   "metadata": {},
   "outputs": [
    {
     "name": "stdout",
     "output_type": "stream",
     "text": [
      "            id   ville          geom  prix_valeur prix_nom   cout\n",
      "17572  8190001  ASFELD  49.465,4.112        1.697   Gazole  84.85\n"
     ]
    }
   ],
   "source": [
    "df_opti = df_opti.sort_values('cout', ascending=True) #tri de manière croissante du coût les stations \n",
    "\n",
    "print(df_opti.head(1)) #station la plus rentable"
   ]
  }
 ],
 "metadata": {
  "kernelspec": {
   "display_name": "Python 3",
   "language": "python",
   "name": "python3"
  },
  "language_info": {
   "codemirror_mode": {
    "name": "ipython",
    "version": 3
   },
   "file_extension": ".py",
   "mimetype": "text/x-python",
   "name": "python",
   "nbconvert_exporter": "python",
   "pygments_lexer": "ipython3",
   "version": "3.10.0"
  },
  "orig_nbformat": 4,
  "vscode": {
   "interpreter": {
    "hash": "ee4c60ed9f2d143d855c3de7cdf8e81ef9399a07140d5084c19be7d5d534dff2"
   }
  }
 },
 "nbformat": 4,
 "nbformat_minor": 2
}
