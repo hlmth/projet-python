{
 "cells": [
  {
   "attachments": {},
   "cell_type": "markdown",
   "metadata": {},
   "source": [
    "# 3. Les stations les plus proches avec pandas et une fonction distance\n",
    "\n",
    "Pour avoir de meilleur résultat qu'au premier essai nous allons raisonner avec des dataframes et un fonction distance entre des points GPS."
   ]
  },
  {
   "cell_type": "code",
   "execution_count": 8,
   "metadata": {},
   "outputs": [],
   "source": [
    "import pandas as pd \n",
    "import geopandas as gpd\n",
    "pd.options.mode.chained_assignment = None  # default='warn'\n",
    "import module_projet as md"
   ]
  },
  {
   "attachments": {},
   "cell_type": "markdown",
   "metadata": {},
   "source": [
    "On récupère le dataframe instantané et on le nettoie."
   ]
  },
  {
   "cell_type": "code",
   "execution_count": 9,
   "metadata": {},
   "outputs": [],
   "source": [
    "dat_inst = gpd.read_file('data/fichier_inst.csv')"
   ]
  },
  {
   "cell_type": "code",
   "execution_count": 10,
   "metadata": {},
   "outputs": [],
   "source": [
    "data= md.data_carb(dat_inst, 'Gazole',['adresse', 'ville', 'prix_valeur', 'prix_nom', 'geom'])"
   ]
  },
  {
   "attachments": {},
   "cell_type": "markdown",
   "metadata": {},
   "source": [
    "On fait une onction pour calculer la distance en métre à partir de données de longitude et de latitude."
   ]
  },
  {
   "cell_type": "code",
   "execution_count": 11,
   "metadata": {},
   "outputs": [],
   "source": [
    "from math import sin, cos, acos, pi\n",
    " \n",
    "def dms2dd(d, m, s):\n",
    "    \"\"\"Convertit un angle \"degrés minutes secondes\" en \"degrés décimaux\"\n",
    "    \"\"\"\n",
    "    return d + m/60 + s/3600\n",
    " \n",
    "def dd2dms(dd):\n",
    "    \"\"\"Convertit un angle \"degrés décimaux\" en \"degrés minutes secondes\"\n",
    "    \"\"\"\n",
    "    d = int(dd)\n",
    "    x = (dd-d)*60\n",
    "    m = int(x)\n",
    "    s = (x-m)*60\n",
    "    return d, m, s\n",
    " \n",
    "def deg2rad(dd):\n",
    "    \"\"\"Convertit un angle \"degrés décimaux\" en \"radians\"\n",
    "    \"\"\"\n",
    "    return dd/180*pi\n",
    " \n",
    "\n",
    "def rad2deg(rd):\n",
    "    \"\"\"Convertit un angle \"radians\" en \"degrés décimaux\"\n",
    "    \"\"\"\n",
    "    return rd/pi*180\n",
    " \n",
    "#############################################################################\n",
    "def distanceGPS(p1, p2):\n",
    "    \"\"\"Retourne la distance en mètres entre les 2 points A et B connus grâce à\n",
    "       leurs coordonnées GPS (en radians).\n",
    "    \"\"\"\n",
    "    latA, longA = p1\n",
    "    latB, longB = p2\n",
    "    # Rayon de la terre en mètres (sphère IAG-GRS80)\n",
    "    RT = 6378137\n",
    "    # angle en radians entre les 2 points\n",
    "    S = acos(sin(latA)*sin(latB) + cos(latA)*cos(latB)*cos(abs(longB-longA)))\n",
    "    # distance entre les 2 points, comptée sur un arc de grand cercle\n",
    "    return S*RT\n",
    "\n",
    "\n"
   ]
  },
  {
   "attachments": {},
   "cell_type": "markdown",
   "metadata": {},
   "source": [
    "On fait comme précedemment une fonction pour trouver les stations les 10 stations les plus proches. "
   ]
  },
  {
   "cell_type": "code",
   "execution_count": 12,
   "metadata": {},
   "outputs": [],
   "source": [
    "def dix_plus_proche_card(df, posi, carb):\n",
    "    data_1 = md.data_carb(df, carb, ['adresse', 'ville', 'geom', 'prix_valeur', 'prix_nom'])\n",
    "    pos = list(map(float, md.Adresse_to_gps(posi).split(',')))\n",
    "    def distancetoposi(p2):\n",
    "        pos_carb = list(map(float, p2.split(',')))\n",
    "        return distanceGPS(pos, pos_carb)\n",
    "    new_df = data_1['geom'].apply(distancetoposi).sort_values().head(10)\n",
    "    return data_1.loc[new_df.index.to_list()]"
   ]
  },
  {
   "cell_type": "code",
   "execution_count": 13,
   "metadata": {},
   "outputs": [
    {
     "data": {
      "text/html": [
       "<div>\n",
       "<style scoped>\n",
       "    .dataframe tbody tr th:only-of-type {\n",
       "        vertical-align: middle;\n",
       "    }\n",
       "\n",
       "    .dataframe tbody tr th {\n",
       "        vertical-align: top;\n",
       "    }\n",
       "\n",
       "    .dataframe thead th {\n",
       "        text-align: right;\n",
       "    }\n",
       "</style>\n",
       "<table border=\"1\" class=\"dataframe\">\n",
       "  <thead>\n",
       "    <tr style=\"text-align: right;\">\n",
       "      <th></th>\n",
       "      <th>adresse</th>\n",
       "      <th>ville</th>\n",
       "      <th>geom</th>\n",
       "      <th>prix_valeur</th>\n",
       "      <th>prix_nom</th>\n",
       "    </tr>\n",
       "  </thead>\n",
       "  <tbody>\n",
       "    <tr>\n",
       "      <th>11862</th>\n",
       "      <td>175 Avenue Ledru-Rollin</td>\n",
       "      <td>PARIS</td>\n",
       "      <td>48.85667,2.3791</td>\n",
       "      <td>2.9</td>\n",
       "      <td>SP95</td>\n",
       "    </tr>\n",
       "    <tr>\n",
       "      <th>13891</th>\n",
       "      <td>8,10,10bis Rue Bailleul</td>\n",
       "      <td>PARIS</td>\n",
       "      <td>48.861,2.341</td>\n",
       "      <td>2.24</td>\n",
       "      <td>SP95</td>\n",
       "    </tr>\n",
       "    <tr>\n",
       "      <th>880</th>\n",
       "      <td>15 Avenue Duquesne</td>\n",
       "      <td>PARIS</td>\n",
       "      <td>48.853,2.308</td>\n",
       "      <td>2.6</td>\n",
       "      <td>SP95</td>\n",
       "    </tr>\n",
       "    <tr>\n",
       "      <th>4535</th>\n",
       "      <td>69 Avenue KlÃ©ber</td>\n",
       "      <td>Paris</td>\n",
       "      <td>48.865,2.289</td>\n",
       "      <td>2.64</td>\n",
       "      <td>SP95</td>\n",
       "    </tr>\n",
       "    <tr>\n",
       "      <th>17011</th>\n",
       "      <td>44 Avenue de Paris</td>\n",
       "      <td>VINCENNES</td>\n",
       "      <td>48.845,2.433</td>\n",
       "      <td>1.919</td>\n",
       "      <td>SP95</td>\n",
       "    </tr>\n",
       "    <tr>\n",
       "      <th>30640</th>\n",
       "      <td>173 Avenue Daumesnil</td>\n",
       "      <td>Paris</td>\n",
       "      <td>48.84074,2.39104</td>\n",
       "      <td>2.199</td>\n",
       "      <td>SP95</td>\n",
       "    </tr>\n",
       "    <tr>\n",
       "      <th>30187</th>\n",
       "      <td>253 Boulevard Raspail</td>\n",
       "      <td>PARIS</td>\n",
       "      <td>48.838,2.331</td>\n",
       "      <td>2.69</td>\n",
       "      <td>SP95</td>\n",
       "    </tr>\n",
       "    <tr>\n",
       "      <th>10661</th>\n",
       "      <td>RN 197 LIEU-DIT LES PADULES</td>\n",
       "      <td>CALVI</td>\n",
       "      <td>42.572,8.759</td>\n",
       "      <td>1.79</td>\n",
       "      <td>SP95</td>\n",
       "    </tr>\n",
       "    <tr>\n",
       "      <th>7367</th>\n",
       "      <td>Station TOTAL - relais de la balagne</td>\n",
       "      <td>CALVI</td>\n",
       "      <td>42.56429,8.75541</td>\n",
       "      <td>1.69</td>\n",
       "      <td>SP95</td>\n",
       "    </tr>\n",
       "    <tr>\n",
       "      <th>16896</th>\n",
       "      <td>Avenue Christophe Colomb</td>\n",
       "      <td>Calvi</td>\n",
       "      <td>42.561,8.755</td>\n",
       "      <td>1.66</td>\n",
       "      <td>SP95</td>\n",
       "    </tr>\n",
       "  </tbody>\n",
       "</table>\n",
       "</div>"
      ],
      "text/plain": [
       "                                    adresse      ville              geom  \\\n",
       "11862               175 Avenue Ledru-Rollin      PARIS   48.85667,2.3791   \n",
       "13891               8,10,10bis Rue Bailleul      PARIS      48.861,2.341   \n",
       "880                      15 Avenue Duquesne      PARIS      48.853,2.308   \n",
       "4535                      69 Avenue KlÃ©ber      Paris      48.865,2.289   \n",
       "17011                    44 Avenue de Paris  VINCENNES      48.845,2.433   \n",
       "30640                  173 Avenue Daumesnil      Paris  48.84074,2.39104   \n",
       "30187                 253 Boulevard Raspail      PARIS      48.838,2.331   \n",
       "10661           RN 197 LIEU-DIT LES PADULES      CALVI      42.572,8.759   \n",
       "7367   Station TOTAL - relais de la balagne      CALVI  42.56429,8.75541   \n",
       "16896              Avenue Christophe Colomb      Calvi      42.561,8.755   \n",
       "\n",
       "      prix_valeur prix_nom  \n",
       "11862         2.9     SP95  \n",
       "13891        2.24     SP95  \n",
       "880           2.6     SP95  \n",
       "4535         2.64     SP95  \n",
       "17011       1.919     SP95  \n",
       "30640       2.199     SP95  \n",
       "30187        2.69     SP95  \n",
       "10661        1.79     SP95  \n",
       "7367         1.69     SP95  \n",
       "16896        1.66     SP95  "
      ]
     },
     "execution_count": 13,
     "metadata": {},
     "output_type": "execute_result"
    }
   ],
   "source": [
    "dix_plus_proche_card(dat_inst, \"1 rue de Rivoli, Paris, France\" , 'SP95')"
   ]
  },
  {
   "attachments": {},
   "cell_type": "markdown",
   "metadata": {},
   "source": [
    "Le résultat est beaucoup plus concluant et l'on obtient bien les dix stations les plus proches de l'usager. On peut cependant noter que le résultat est donnée pour la distance à vol d'oiseau, on pourrait améliorer en faisant selon un itinéraire."
   ]
  }
 ],
 "metadata": {
  "kernelspec": {
   "display_name": "Python 3.9.13 64-bit (microsoft store)",
   "language": "python",
   "name": "python3"
  },
  "language_info": {
   "codemirror_mode": {
    "name": "ipython",
    "version": 3
   },
   "file_extension": ".py",
   "mimetype": "text/x-python",
   "name": "python",
   "nbconvert_exporter": "python",
   "pygments_lexer": "ipython3",
   "version": "3.9.13"
  },
  "orig_nbformat": 4,
  "vscode": {
   "interpreter": {
    "hash": "b49ab16f02f294ae267a674cbb49c428cfb2ab8f5024afc5c58c85bfa43db9ee"
   }
  }
 },
 "nbformat": 4,
 "nbformat_minor": 2
}
