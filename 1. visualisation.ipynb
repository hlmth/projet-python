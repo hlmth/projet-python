{
 "cells": [
  {
   "attachments": {},
   "cell_type": "markdown",
   "metadata": {},
   "source": [
    "# 1. Visualisation\n",
    "\n",
    "Dans ce notebook nous avons pour objectif de récupérer les données sur toutes les stations essences en France métropolitaine sur le site data.gouv. \n",
    "Ensuite nous analysons ces données pour faire ressortir caractéristiques les plus pertinentes pour la suite de notre projet."
   ]
  },
  {
   "cell_type": "code",
   "execution_count": 62,
   "metadata": {},
   "outputs": [],
   "source": [
    "import module_projet as md\n",
    "import urllib\n",
    "import pandas as pd\n",
    "import geopandas as gpd\n",
    "import matplotlib.pyplot as plt"
   ]
  },
  {
   "attachments": {},
   "cell_type": "markdown",
   "metadata": {},
   "source": [
    "Nous récupérons désormais les différents fichier contenant les données grâce aux url de téléchargement du site data.gouv pour avoir respectivement un dataframe avec les données mis à jour à chaque instant sur les stations, un avec les données mise à jour quotidiennement, puis pour avoir un geodataframe avec de la même manière les données instantannées et quotdiennes (toutes les fonctions et variables concernant geopandas seront suivi de _g)."
   ]
  },
  {
   "cell_type": "code",
   "execution_count": 27,
   "metadata": {},
   "outputs": [
    {
     "data": {
      "text/plain": [
       "('data/fichier_quot_g.geojson', <http.client.HTTPMessage at 0x2238a26b520>)"
      ]
     },
     "execution_count": 27,
     "metadata": {},
     "output_type": "execute_result"
    }
   ],
   "source": [
    "\n",
    "urllib.request.urlretrieve(\n",
    "    \"https://data.economie.gouv.fr/explore/dataset/prix-carburants-fichier-instantane-test-ods-copie/download/?format=csv&timezone=Europe/Berlin&lang=fr&use_labels_for_header=true&csv_separator=%3B\",\n",
    "    \"data/fichier_inst.csv\")\n",
    "urllib.request.urlretrieve(\n",
    "    \"https://data.economie.gouv.fr/explore/dataset/prix-carburants-fichier-quotidien-test-ods/download/?format=csv&timezone=Europe/Berlin&lang=fr&use_labels_for_header=true&csv_separator=%3B\",\n",
    "    \"data/fichier_quot.csv\")\n",
    "urllib.request.urlretrieve(\n",
    "    \"https://data.economie.gouv.fr/explore/dataset/prix-carburants-fichier-instantane-test-ods-copie/download/?format=geojson&timezone=Europe/Berlin&lang=fr\",\n",
    "    \"data/fichier_inst_g.geojson\")\n",
    "urllib.request.urlretrieve(\n",
    "    \"https://data.economie.gouv.fr/explore/dataset/prix-carburants-fichier-quotidien-test-ods/download/?format=geojson&timezone=Europe/Berlin&lang=fr\",\n",
    "    \"data/fichier_quot_g.geojson\")\n",
    "\n"
   ]
  },
  {
   "cell_type": "code",
   "execution_count": 30,
   "metadata": {},
   "outputs": [],
   "source": [
    "dat_inst = pd.read_csv('data/fichier_inst.csv', sep= ';')\n",
    "dat_quot =pd.read_csv('data/fichier_quot.csv', sep= ';')\n",
    "dat_inst_g = gpd.read_file('data/fichier_inst_g.geojson')\n",
    "data_quot_g = gpd.read_file('data/fichier_quot_g.geojson')"
   ]
  },
  {
   "attachments": {},
   "cell_type": "markdown",
   "metadata": {},
   "source": [
    "Les dataframes instantannés et quotidiens étant similaire que ce soit avec pandas ou geopandas, on se concentre pour l'instant uniquement sur les dataframes pandas."
   ]
  },
  {
   "cell_type": "code",
   "execution_count": 41,
   "metadata": {},
   "outputs": [
    {
     "data": {
      "text/plain": [
       "prix_nom\n",
       "E10       6657\n",
       "E85       3054\n",
       "GPLc      1358\n",
       "Gazole    9348\n",
       "SP95      3725\n",
       "SP98      7540\n",
       "Name: id, dtype: int64"
      ]
     },
     "execution_count": 41,
     "metadata": {},
     "output_type": "execute_result"
    }
   ],
   "source": [
    "dat_inst.groupby('prix_nom').id.count()"
   ]
  },
  {
   "cell_type": "code",
   "execution_count": 42,
   "metadata": {},
   "outputs": [
    {
     "data": {
      "text/plain": [
       "prix_nom\n",
       "E10       14325\n",
       "E85        5706\n",
       "GPLc       2245\n",
       "Gazole    22359\n",
       "SP95       9243\n",
       "SP98      16632\n",
       "Name: id, dtype: int64"
      ]
     },
     "execution_count": 42,
     "metadata": {},
     "output_type": "execute_result"
    }
   ],
   "source": [
    "dat_quot.groupby('prix_nom').id.count()"
   ]
  },
  {
   "attachments": {},
   "cell_type": "markdown",
   "metadata": {},
   "source": [
    "On veut nettoyer nos données en gardant selement les colonnes intéréssantes et selon le carburant que notre usager à choisi, nous prendrons ici le Gazole car c'est le carburant le plus présent en France comme on peut le voir. \n",
    "On définit donc maintenant des fonctions pour avoir des dataframes gardant uniquement les données qui nous intéressent selon le carburant qui nous intéresse."
   ]
  },
  {
   "cell_type": "code",
   "execution_count": 55,
   "metadata": {},
   "outputs": [],
   "source": [
    "def data_carb(df, carb, colonnes_utiles):\n",
    "    data_1 = df[df.prix_nom == carb]\n",
    "    d = data_1[colonnes_utiles]\n",
    "    d.drop_duplicates(keep = 'first', inplace=True) \n",
    "    return d"
   ]
  },
  {
   "cell_type": "code",
   "execution_count": 81,
   "metadata": {},
   "outputs": [],
   "source": [
    "df_visu_inst = data_carb(dat_inst,\"Gazole\", ['id','adresse', 'ville', 'geom', 'Code Officiel Département',\n",
    "       'Nom Officiel Département'])\n",
    "df_visu_quot = data_carb(dat_quot,\"Gazole\", ['id','adresse', 'ville', 'geom', 'Code Officiel Département',\n",
    "       'Nom Officiel Département'])"
   ]
  },
  {
   "cell_type": "code",
   "execution_count": 82,
   "metadata": {},
   "outputs": [
    {
     "name": "stdout",
     "output_type": "stream",
     "text": [
      "(9348, 6)\n",
      "(9325, 6)\n"
     ]
    }
   ],
   "source": [
    "print(df_visu_inst.shape)\n",
    "print(df_visu_quot.shape)\n"
   ]
  },
  {
   "attachments": {},
   "cell_type": "markdown",
   "metadata": {},
   "source": [
    "On travaillera ensuite uniquement sur le instantanné puisque les dataframes actuels sont presque identiques. "
   ]
  },
  {
   "cell_type": "code",
   "execution_count": 73,
   "metadata": {},
   "outputs": [],
   "source": [
    "from cartiflette.download import get_vectorfile_ign"
   ]
  },
  {
   "cell_type": "code",
   "execution_count": 84,
   "metadata": {},
   "outputs": [
    {
     "data": {
      "text/plain": [
       "Code Officiel Département\n",
       "01    110\n",
       "02     87\n",
       "03     69\n",
       "04     51\n",
       "05     44\n",
       "     ... \n",
       "91    121\n",
       "92     64\n",
       "93     72\n",
       "94     79\n",
       "95     98\n",
       "Name: id, Length: 96, dtype: int64"
      ]
     },
     "execution_count": 84,
     "metadata": {},
     "output_type": "execute_result"
    }
   ],
   "source": [
    "df_visu_inst.groupby('Code Officiel Département').id.count()"
   ]
  },
  {
   "cell_type": "code",
   "execution_count": 86,
   "metadata": {},
   "outputs": [
    {
     "name": "stdout",
     "output_type": "stream",
     "text": [
      "http://files.opendatarchives.fr/professionnels.ign.fr/adminexpress/ADMIN-EXPRESS-COG_3-1__SHP__FRA_L93_2022-04-15.7z\n",
      "Data have been previously downloaded and are still available in C:\\Users\\hugol\\AppData\\Local\\Temp/COG-2022\n"
     ]
    },
    {
     "data": {
      "image/png": "[encoded data removed]",
      "text/plain": [
       "<Figure size 640x480 with 1 Axes>"
      ]
     },
     "metadata": {},
     "output_type": "display_data"
    }
   ],
   "source": [
    "dep = get_vectorfile_ign(\n",
    "  level = \"DEPARTEMENT\", field = \"metropole\",\n",
    "  source = \"COG\", provider=\"opendatarchives\")\n",
    "dep['count_stations'] = df_visu_inst.groupby('Code Officiel Département').id.count()\n",
    "ax = dep.plot(column = \"count_stations\")\n",
    "ax.set_axis_off()"
   ]
  },
  {
   "cell_type": "code",
   "execution_count": 87,
   "metadata": {},
   "outputs": [
    {
     "data": {
      "text/html": [
       "<div>\n",
       "<style scoped>\n",
       "    .dataframe tbody tr th:only-of-type {\n",
       "        vertical-align: middle;\n",
       "    }\n",
       "\n",
       "    .dataframe tbody tr th {\n",
       "        vertical-align: top;\n",
       "    }\n",
       "\n",
       "    .dataframe thead th {\n",
       "        text-align: right;\n",
       "    }\n",
       "</style>\n",
       "<table border=\"1\" class=\"dataframe\">\n",
       "  <thead>\n",
       "    <tr style=\"text-align: right;\">\n",
       "      <th></th>\n",
       "      <th>ID</th>\n",
       "      <th>NOM_M</th>\n",
       "      <th>NOM</th>\n",
       "      <th>INSEE_DEP</th>\n",
       "      <th>INSEE_REG</th>\n",
       "      <th>geometry</th>\n",
       "      <th>count_stations</th>\n",
       "    </tr>\n",
       "  </thead>\n",
       "  <tbody>\n",
       "    <tr>\n",
       "      <th>0</th>\n",
       "      <td>DEPARTEM_FXX_00000000001</td>\n",
       "      <td>AIN</td>\n",
       "      <td>Ain</td>\n",
       "      <td>01</td>\n",
       "      <td>84</td>\n",
       "      <td>POLYGON ((838383.200 6570485.800, 838483.800 6...</td>\n",
       "      <td>NaN</td>\n",
       "    </tr>\n",
       "    <tr>\n",
       "      <th>1</th>\n",
       "      <td>DEPARTEM_FXX_00000000002</td>\n",
       "      <td>AISNE</td>\n",
       "      <td>Aisne</td>\n",
       "      <td>02</td>\n",
       "      <td>32</td>\n",
       "      <td>POLYGON ((708719.000 6956305.000, 708718.700 6...</td>\n",
       "      <td>NaN</td>\n",
       "    </tr>\n",
       "    <tr>\n",
       "      <th>2</th>\n",
       "      <td>DEPARTEM_FXX_00000000003</td>\n",
       "      <td>CORSE-DU-SUD</td>\n",
       "      <td>Corse-du-Sud</td>\n",
       "      <td>2A</td>\n",
       "      <td>94</td>\n",
       "      <td>MULTIPOLYGON (((1165315.300 6103089.200, 11653...</td>\n",
       "      <td>NaN</td>\n",
       "    </tr>\n",
       "    <tr>\n",
       "      <th>3</th>\n",
       "      <td>DEPARTEM_FXX_00000000004</td>\n",
       "      <td>HAUTE-CORSE</td>\n",
       "      <td>Haute-Corse</td>\n",
       "      <td>2B</td>\n",
       "      <td>94</td>\n",
       "      <td>MULTIPOLYGON (((1222168.900 6235253.100, 12221...</td>\n",
       "      <td>NaN</td>\n",
       "    </tr>\n",
       "    <tr>\n",
       "      <th>4</th>\n",
       "      <td>DEPARTEM_FXX_00000000005</td>\n",
       "      <td>ALLIER</td>\n",
       "      <td>Allier</td>\n",
       "      <td>03</td>\n",
       "      <td>84</td>\n",
       "      <td>POLYGON ((664478.800 6602292.500, 664503.600 6...</td>\n",
       "      <td>NaN</td>\n",
       "    </tr>\n",
       "    <tr>\n",
       "      <th>...</th>\n",
       "      <td>...</td>\n",
       "      <td>...</td>\n",
       "      <td>...</td>\n",
       "      <td>...</td>\n",
       "      <td>...</td>\n",
       "      <td>...</td>\n",
       "      <td>...</td>\n",
       "    </tr>\n",
       "    <tr>\n",
       "      <th>91</th>\n",
       "      <td>DEPARTEM_FXX_00000000092</td>\n",
       "      <td>ESSONNE</td>\n",
       "      <td>Essonne</td>\n",
       "      <td>91</td>\n",
       "      <td>11</td>\n",
       "      <td>POLYGON ((629444.100 6836670.800, 629365.600 6...</td>\n",
       "      <td>NaN</td>\n",
       "    </tr>\n",
       "    <tr>\n",
       "      <th>92</th>\n",
       "      <td>DEPARTEM_FXX_00000000093</td>\n",
       "      <td>HAUTS-DE-SEINE</td>\n",
       "      <td>Hauts-de-Seine</td>\n",
       "      <td>92</td>\n",
       "      <td>11</td>\n",
       "      <td>POLYGON ((642868.900 6869240.500, 642874.900 6...</td>\n",
       "      <td>NaN</td>\n",
       "    </tr>\n",
       "    <tr>\n",
       "      <th>93</th>\n",
       "      <td>DEPARTEM_FXX_00000000094</td>\n",
       "      <td>SEINE-SAINT-DENIS</td>\n",
       "      <td>Seine-Saint-Denis</td>\n",
       "      <td>93</td>\n",
       "      <td>11</td>\n",
       "      <td>POLYGON ((660415.900 6872923.300, 660423.700 6...</td>\n",
       "      <td>NaN</td>\n",
       "    </tr>\n",
       "    <tr>\n",
       "      <th>94</th>\n",
       "      <td>DEPARTEM_FXX_00000000095</td>\n",
       "      <td>VAL-DE-MARNE</td>\n",
       "      <td>Val-de-Marne</td>\n",
       "      <td>94</td>\n",
       "      <td>11</td>\n",
       "      <td>POLYGON ((650731.000 6857288.700, 650942.200 6...</td>\n",
       "      <td>NaN</td>\n",
       "    </tr>\n",
       "    <tr>\n",
       "      <th>95</th>\n",
       "      <td>DEPARTEM_FXX_00000000096</td>\n",
       "      <td>VAL-D'OISE</td>\n",
       "      <td>Val-d'Oise</td>\n",
       "      <td>95</td>\n",
       "      <td>11</td>\n",
       "      <td>POLYGON ((658799.800 6892842.500, 658820.800 6...</td>\n",
       "      <td>NaN</td>\n",
       "    </tr>\n",
       "  </tbody>\n",
       "</table>\n",
       "<p>96 rows × 7 columns</p>\n",
       "</div>"
      ],
      "text/plain": [
       "                          ID              NOM_M                NOM INSEE_DEP  \\\n",
       "0   DEPARTEM_FXX_00000000001                AIN                Ain        01   \n",
       "1   DEPARTEM_FXX_00000000002              AISNE              Aisne        02   \n",
       "2   DEPARTEM_FXX_00000000003       CORSE-DU-SUD       Corse-du-Sud        2A   \n",
       "3   DEPARTEM_FXX_00000000004        HAUTE-CORSE        Haute-Corse        2B   \n",
       "4   DEPARTEM_FXX_00000000005             ALLIER             Allier        03   \n",
       "..                       ...                ...                ...       ...   \n",
       "91  DEPARTEM_FXX_00000000092            ESSONNE            Essonne        91   \n",
       "92  DEPARTEM_FXX_00000000093     HAUTS-DE-SEINE     Hauts-de-Seine        92   \n",
       "93  DEPARTEM_FXX_00000000094  SEINE-SAINT-DENIS  Seine-Saint-Denis        93   \n",
       "94  DEPARTEM_FXX_00000000095       VAL-DE-MARNE       Val-de-Marne        94   \n",
       "95  DEPARTEM_FXX_00000000096         VAL-D'OISE         Val-d'Oise        95   \n",
       "\n",
       "   INSEE_REG                                           geometry  \\\n",
       "0         84  POLYGON ((838383.200 6570485.800, 838483.800 6...   \n",
       "1         32  POLYGON ((708719.000 6956305.000, 708718.700 6...   \n",
       "2         94  MULTIPOLYGON (((1165315.300 6103089.200, 11653...   \n",
       "3         94  MULTIPOLYGON (((1222168.900 6235253.100, 12221...   \n",
       "4         84  POLYGON ((664478.800 6602292.500, 664503.600 6...   \n",
       "..       ...                                                ...   \n",
       "91        11  POLYGON ((629444.100 6836670.800, 629365.600 6...   \n",
       "92        11  POLYGON ((642868.900 6869240.500, 642874.900 6...   \n",
       "93        11  POLYGON ((660415.900 6872923.300, 660423.700 6...   \n",
       "94        11  POLYGON ((650731.000 6857288.700, 650942.200 6...   \n",
       "95        11  POLYGON ((658799.800 6892842.500, 658820.800 6...   \n",
       "\n",
       "    count_stations  \n",
       "0              NaN  \n",
       "1              NaN  \n",
       "2              NaN  \n",
       "3              NaN  \n",
       "4              NaN  \n",
       "..             ...  \n",
       "91             NaN  \n",
       "92             NaN  \n",
       "93             NaN  \n",
       "94             NaN  \n",
       "95             NaN  \n",
       "\n",
       "[96 rows x 7 columns]"
      ]
     },
     "execution_count": 87,
     "metadata": {},
     "output_type": "execute_result"
    }
   ],
   "source": [
    "dep"
   ]
  },
  {
   "cell_type": "code",
   "execution_count": 71,
   "metadata": {},
   "outputs": [
    {
     "ename": "TypeError",
     "evalue": "no numeric data to plot",
     "output_type": "error",
     "traceback": [
      "\u001b[1;31m---------------------------------------------------------------------------\u001b[0m",
      "\u001b[1;31mTypeError\u001b[0m                                 Traceback (most recent call last)",
      "File \u001b[1;32m~\\AppData\\Local\\Packages\\PythonSoftwareFoundation.Python.3.9_qbz5n2kfra8p0\\LocalCache\\local-packages\\Python39\\site-packages\\pandas\\core\\groupby\\groupby.py:1558\u001b[0m, in \u001b[0;36mGroupBy.apply\u001b[1;34m(self, func, *args, **kwargs)\u001b[0m\n\u001b[0;32m   1557\u001b[0m \u001b[39mtry\u001b[39;00m:\n\u001b[1;32m-> 1558\u001b[0m     result \u001b[39m=\u001b[39m \u001b[39mself\u001b[39;49m\u001b[39m.\u001b[39;49m_python_apply_general(f, \u001b[39mself\u001b[39;49m\u001b[39m.\u001b[39;49m_selected_obj)\n\u001b[0;32m   1559\u001b[0m \u001b[39mexcept\u001b[39;00m \u001b[39mTypeError\u001b[39;00m:\n\u001b[0;32m   1560\u001b[0m     \u001b[39m# gh-20949\u001b[39;00m\n\u001b[0;32m   1561\u001b[0m     \u001b[39m# try again, with .apply acting as a filtering\u001b[39;00m\n\u001b[1;32m   (...)\u001b[0m\n\u001b[0;32m   1565\u001b[0m     \u001b[39m# fails on *some* columns, e.g. a numeric operation\u001b[39;00m\n\u001b[0;32m   1566\u001b[0m     \u001b[39m# on a string grouper column\u001b[39;00m\n",
      "File \u001b[1;32m~\\AppData\\Local\\Packages\\PythonSoftwareFoundation.Python.3.9_qbz5n2kfra8p0\\LocalCache\\local-packages\\Python39\\site-packages\\pandas\\core\\groupby\\groupby.py:1610\u001b[0m, in \u001b[0;36mGroupBy._python_apply_general\u001b[1;34m(self, f, data, not_indexed_same, is_transform, is_agg)\u001b[0m\n\u001b[0;32m   1582\u001b[0m \u001b[39m\"\"\"\u001b[39;00m\n\u001b[0;32m   1583\u001b[0m \u001b[39mApply function f in python space\u001b[39;00m\n\u001b[0;32m   1584\u001b[0m \n\u001b[1;32m   (...)\u001b[0m\n\u001b[0;32m   1608\u001b[0m \u001b[39m    data after applying f\u001b[39;00m\n\u001b[0;32m   1609\u001b[0m \u001b[39m\"\"\"\u001b[39;00m\n\u001b[1;32m-> 1610\u001b[0m values, mutated \u001b[39m=\u001b[39m \u001b[39mself\u001b[39;49m\u001b[39m.\u001b[39;49mgrouper\u001b[39m.\u001b[39;49mapply(f, data, \u001b[39mself\u001b[39;49m\u001b[39m.\u001b[39;49maxis)\n\u001b[0;32m   1611\u001b[0m \u001b[39mif\u001b[39;00m not_indexed_same \u001b[39mis\u001b[39;00m \u001b[39mNone\u001b[39;00m:\n",
      "File \u001b[1;32m~\\AppData\\Local\\Packages\\PythonSoftwareFoundation.Python.3.9_qbz5n2kfra8p0\\LocalCache\\local-packages\\Python39\\site-packages\\pandas\\core\\groupby\\ops.py:839\u001b[0m, in \u001b[0;36mBaseGrouper.apply\u001b[1;34m(self, f, data, axis)\u001b[0m\n\u001b[0;32m    838\u001b[0m group_axes \u001b[39m=\u001b[39m group\u001b[39m.\u001b[39maxes\n\u001b[1;32m--> 839\u001b[0m res \u001b[39m=\u001b[39m f(group)\n\u001b[0;32m    840\u001b[0m \u001b[39mif\u001b[39;00m \u001b[39mnot\u001b[39;00m mutated \u001b[39mand\u001b[39;00m \u001b[39mnot\u001b[39;00m _is_indexed_like(res, group_axes, axis):\n",
      "File \u001b[1;32m~\\AppData\\Local\\Packages\\PythonSoftwareFoundation.Python.3.9_qbz5n2kfra8p0\\LocalCache\\local-packages\\Python39\\site-packages\\pandas\\core\\groupby\\groupby.py:603\u001b[0m, in \u001b[0;36mGroupByPlot.__call__.<locals>.f\u001b[1;34m(self)\u001b[0m\n\u001b[0;32m    602\u001b[0m \u001b[39mdef\u001b[39;00m \u001b[39mf\u001b[39m(\u001b[39mself\u001b[39m):\n\u001b[1;32m--> 603\u001b[0m     \u001b[39mreturn\u001b[39;00m \u001b[39mself\u001b[39m\u001b[39m.\u001b[39mplot(\u001b[39m*\u001b[39margs, \u001b[39m*\u001b[39m\u001b[39m*\u001b[39mkwargs)\n",
      "File \u001b[1;32m~\\AppData\\Local\\Packages\\PythonSoftwareFoundation.Python.3.9_qbz5n2kfra8p0\\LocalCache\\local-packages\\Python39\\site-packages\\pandas\\plotting\\_core.py:1001\u001b[0m, in \u001b[0;36mPlotAccessor.__call__\u001b[1;34m(self, *args, **kwargs)\u001b[0m\n\u001b[0;32m    999\u001b[0m             data\u001b[39m.\u001b[39mcolumns \u001b[39m=\u001b[39m label_name\n\u001b[1;32m-> 1001\u001b[0m \u001b[39mreturn\u001b[39;00m plot_backend\u001b[39m.\u001b[39mplot(data, kind\u001b[39m=\u001b[39mkind, \u001b[39m*\u001b[39m\u001b[39m*\u001b[39mkwargs)\n",
      "File \u001b[1;32m~\\AppData\\Local\\Packages\\PythonSoftwareFoundation.Python.3.9_qbz5n2kfra8p0\\LocalCache\\local-packages\\Python39\\site-packages\\pandas\\plotting\\_matplotlib\\__init__.py:71\u001b[0m, in \u001b[0;36mplot\u001b[1;34m(data, kind, **kwargs)\u001b[0m\n\u001b[0;32m     70\u001b[0m plot_obj \u001b[39m=\u001b[39m PLOT_CLASSES[kind](data, \u001b[39m*\u001b[39m\u001b[39m*\u001b[39mkwargs)\n\u001b[1;32m---> 71\u001b[0m plot_obj\u001b[39m.\u001b[39;49mgenerate()\n\u001b[0;32m     72\u001b[0m plot_obj\u001b[39m.\u001b[39mdraw()\n",
      "File \u001b[1;32m~\\AppData\\Local\\Packages\\PythonSoftwareFoundation.Python.3.9_qbz5n2kfra8p0\\LocalCache\\local-packages\\Python39\\site-packages\\pandas\\plotting\\_matplotlib\\core.py:451\u001b[0m, in \u001b[0;36mMPLPlot.generate\u001b[1;34m(self)\u001b[0m\n\u001b[0;32m    450\u001b[0m \u001b[39mself\u001b[39m\u001b[39m.\u001b[39m_args_adjust()\n\u001b[1;32m--> 451\u001b[0m \u001b[39mself\u001b[39;49m\u001b[39m.\u001b[39;49m_compute_plot_data()\n\u001b[0;32m    452\u001b[0m \u001b[39mself\u001b[39m\u001b[39m.\u001b[39m_setup_subplots()\n",
      "File \u001b[1;32m~\\AppData\\Local\\Packages\\PythonSoftwareFoundation.Python.3.9_qbz5n2kfra8p0\\LocalCache\\local-packages\\Python39\\site-packages\\pandas\\plotting\\_matplotlib\\core.py:636\u001b[0m, in \u001b[0;36mMPLPlot._compute_plot_data\u001b[1;34m(self)\u001b[0m\n\u001b[0;32m    635\u001b[0m \u001b[39mif\u001b[39;00m is_empty:\n\u001b[1;32m--> 636\u001b[0m     \u001b[39mraise\u001b[39;00m \u001b[39mTypeError\u001b[39;00m(\u001b[39m\"\u001b[39m\u001b[39mno numeric data to plot\u001b[39m\u001b[39m\"\u001b[39m)\n\u001b[0;32m    638\u001b[0m \u001b[39mself\u001b[39m\u001b[39m.\u001b[39mdata \u001b[39m=\u001b[39m numeric_data\u001b[39m.\u001b[39mapply(\u001b[39mself\u001b[39m\u001b[39m.\u001b[39m_convert_to_ndarray)\n",
      "\u001b[1;31mTypeError\u001b[0m: no numeric data to plot",
      "\nDuring handling of the above exception, another exception occurred:\n",
      "\u001b[1;31mTypeError\u001b[0m                                 Traceback (most recent call last)",
      "\u001b[1;32md:\\code\\2ème année\\projet-python\\1. visualisation.ipynb Cell 14\u001b[0m in \u001b[0;36m<cell line: 2>\u001b[1;34m()\u001b[0m\n\u001b[0;32m      <a href='vscode-notebook-cell:/d%3A/code/2%C3%A8me%20ann%C3%A9e/projet-python/1.%20visualisation.ipynb#X61sZmlsZQ%3D%3D?line=0'>1</a>\u001b[0m fig,ax \u001b[39m=\u001b[39m plt\u001b[39m.\u001b[39msubplots(figsize\u001b[39m=\u001b[39m(\u001b[39m10\u001b[39m, \u001b[39m10\u001b[39m))\n\u001b[1;32m----> <a href='vscode-notebook-cell:/d%3A/code/2%C3%A8me%20ann%C3%A9e/projet-python/1.%20visualisation.ipynb#X61sZmlsZQ%3D%3D?line=1'>2</a>\u001b[0m df_visu_inst\u001b[39m.\u001b[39;49mgroupby(\u001b[39m'\u001b[39;49m\u001b[39mCode Officiel Département\u001b[39;49m\u001b[39m'\u001b[39;49m)\u001b[39m.\u001b[39;49mplot(ax \u001b[39m=\u001b[39;49m ax, column \u001b[39m=\u001b[39;49m \u001b[39m\"\u001b[39;49m\u001b[39mid\u001b[39;49m\u001b[39m\"\u001b[39;49m)\n\u001b[0;32m      <a href='vscode-notebook-cell:/d%3A/code/2%C3%A8me%20ann%C3%A9e/projet-python/1.%20visualisation.ipynb#X61sZmlsZQ%3D%3D?line=2'>3</a>\u001b[0m ax\u001b[39m.\u001b[39mset_axis_off()\n\u001b[0;32m      <a href='vscode-notebook-cell:/d%3A/code/2%C3%A8me%20ann%C3%A9e/projet-python/1.%20visualisation.ipynb#X61sZmlsZQ%3D%3D?line=3'>4</a>\u001b[0m ax\n",
      "File \u001b[1;32m~\\AppData\\Local\\Packages\\PythonSoftwareFoundation.Python.3.9_qbz5n2kfra8p0\\LocalCache\\local-packages\\Python39\\site-packages\\pandas\\core\\groupby\\groupby.py:606\u001b[0m, in \u001b[0;36mGroupByPlot.__call__\u001b[1;34m(self, *args, **kwargs)\u001b[0m\n\u001b[0;32m    603\u001b[0m     \u001b[39mreturn\u001b[39;00m \u001b[39mself\u001b[39m\u001b[39m.\u001b[39mplot(\u001b[39m*\u001b[39margs, \u001b[39m*\u001b[39m\u001b[39m*\u001b[39mkwargs)\n\u001b[0;32m    605\u001b[0m f\u001b[39m.\u001b[39m\u001b[39m__name__\u001b[39m \u001b[39m=\u001b[39m \u001b[39m\"\u001b[39m\u001b[39mplot\u001b[39m\u001b[39m\"\u001b[39m\n\u001b[1;32m--> 606\u001b[0m \u001b[39mreturn\u001b[39;00m \u001b[39mself\u001b[39;49m\u001b[39m.\u001b[39;49m_groupby\u001b[39m.\u001b[39;49mapply(f)\n",
      "File \u001b[1;32m~\\AppData\\Local\\Packages\\PythonSoftwareFoundation.Python.3.9_qbz5n2kfra8p0\\LocalCache\\local-packages\\Python39\\site-packages\\pandas\\core\\groupby\\groupby.py:1569\u001b[0m, in \u001b[0;36mGroupBy.apply\u001b[1;34m(self, func, *args, **kwargs)\u001b[0m\n\u001b[0;32m   1559\u001b[0m     \u001b[39mexcept\u001b[39;00m \u001b[39mTypeError\u001b[39;00m:\n\u001b[0;32m   1560\u001b[0m         \u001b[39m# gh-20949\u001b[39;00m\n\u001b[0;32m   1561\u001b[0m         \u001b[39m# try again, with .apply acting as a filtering\u001b[39;00m\n\u001b[1;32m   (...)\u001b[0m\n\u001b[0;32m   1565\u001b[0m         \u001b[39m# fails on *some* columns, e.g. a numeric operation\u001b[39;00m\n\u001b[0;32m   1566\u001b[0m         \u001b[39m# on a string grouper column\u001b[39;00m\n\u001b[0;32m   1568\u001b[0m         \u001b[39mwith\u001b[39;00m \u001b[39mself\u001b[39m\u001b[39m.\u001b[39m_group_selection_context():\n\u001b[1;32m-> 1569\u001b[0m             \u001b[39mreturn\u001b[39;00m \u001b[39mself\u001b[39;49m\u001b[39m.\u001b[39;49m_python_apply_general(f, \u001b[39mself\u001b[39;49m\u001b[39m.\u001b[39;49m_selected_obj)\n\u001b[0;32m   1571\u001b[0m \u001b[39mreturn\u001b[39;00m result\n",
      "File \u001b[1;32m~\\AppData\\Local\\Packages\\PythonSoftwareFoundation.Python.3.9_qbz5n2kfra8p0\\LocalCache\\local-packages\\Python39\\site-packages\\pandas\\core\\groupby\\groupby.py:1610\u001b[0m, in \u001b[0;36mGroupBy._python_apply_general\u001b[1;34m(self, f, data, not_indexed_same, is_transform, is_agg)\u001b[0m\n\u001b[0;32m   1573\u001b[0m \u001b[39m@final\u001b[39m\n\u001b[0;32m   1574\u001b[0m \u001b[39mdef\u001b[39;00m \u001b[39m_python_apply_general\u001b[39m(\n\u001b[0;32m   1575\u001b[0m     \u001b[39mself\u001b[39m,\n\u001b[1;32m   (...)\u001b[0m\n\u001b[0;32m   1580\u001b[0m     is_agg: \u001b[39mbool\u001b[39m \u001b[39m=\u001b[39m \u001b[39mFalse\u001b[39;00m,\n\u001b[0;32m   1581\u001b[0m ) \u001b[39m-\u001b[39m\u001b[39m>\u001b[39m NDFrameT:\n\u001b[0;32m   1582\u001b[0m     \u001b[39m\"\"\"\u001b[39;00m\n\u001b[0;32m   1583\u001b[0m \u001b[39m    Apply function f in python space\u001b[39;00m\n\u001b[0;32m   1584\u001b[0m \n\u001b[1;32m   (...)\u001b[0m\n\u001b[0;32m   1608\u001b[0m \u001b[39m        data after applying f\u001b[39;00m\n\u001b[0;32m   1609\u001b[0m \u001b[39m    \"\"\"\u001b[39;00m\n\u001b[1;32m-> 1610\u001b[0m     values, mutated \u001b[39m=\u001b[39m \u001b[39mself\u001b[39;49m\u001b[39m.\u001b[39;49mgrouper\u001b[39m.\u001b[39;49mapply(f, data, \u001b[39mself\u001b[39;49m\u001b[39m.\u001b[39;49maxis)\n\u001b[0;32m   1611\u001b[0m     \u001b[39mif\u001b[39;00m not_indexed_same \u001b[39mis\u001b[39;00m \u001b[39mNone\u001b[39;00m:\n\u001b[0;32m   1612\u001b[0m         not_indexed_same \u001b[39m=\u001b[39m mutated \u001b[39mor\u001b[39;00m \u001b[39mself\u001b[39m\u001b[39m.\u001b[39mmutated\n",
      "File \u001b[1;32m~\\AppData\\Local\\Packages\\PythonSoftwareFoundation.Python.3.9_qbz5n2kfra8p0\\LocalCache\\local-packages\\Python39\\site-packages\\pandas\\core\\groupby\\ops.py:839\u001b[0m, in \u001b[0;36mBaseGrouper.apply\u001b[1;34m(self, f, data, axis)\u001b[0m\n\u001b[0;32m    837\u001b[0m \u001b[39m# group might be modified\u001b[39;00m\n\u001b[0;32m    838\u001b[0m group_axes \u001b[39m=\u001b[39m group\u001b[39m.\u001b[39maxes\n\u001b[1;32m--> 839\u001b[0m res \u001b[39m=\u001b[39m f(group)\n\u001b[0;32m    840\u001b[0m \u001b[39mif\u001b[39;00m \u001b[39mnot\u001b[39;00m mutated \u001b[39mand\u001b[39;00m \u001b[39mnot\u001b[39;00m _is_indexed_like(res, group_axes, axis):\n\u001b[0;32m    841\u001b[0m     mutated \u001b[39m=\u001b[39m \u001b[39mTrue\u001b[39;00m\n",
      "File \u001b[1;32m~\\AppData\\Local\\Packages\\PythonSoftwareFoundation.Python.3.9_qbz5n2kfra8p0\\LocalCache\\local-packages\\Python39\\site-packages\\pandas\\core\\groupby\\groupby.py:603\u001b[0m, in \u001b[0;36mGroupByPlot.__call__.<locals>.f\u001b[1;34m(self)\u001b[0m\n\u001b[0;32m    602\u001b[0m \u001b[39mdef\u001b[39;00m \u001b[39mf\u001b[39m(\u001b[39mself\u001b[39m):\n\u001b[1;32m--> 603\u001b[0m     \u001b[39mreturn\u001b[39;00m \u001b[39mself\u001b[39m\u001b[39m.\u001b[39mplot(\u001b[39m*\u001b[39margs, \u001b[39m*\u001b[39m\u001b[39m*\u001b[39mkwargs)\n",
      "File \u001b[1;32m~\\AppData\\Local\\Packages\\PythonSoftwareFoundation.Python.3.9_qbz5n2kfra8p0\\LocalCache\\local-packages\\Python39\\site-packages\\pandas\\plotting\\_core.py:1001\u001b[0m, in \u001b[0;36mPlotAccessor.__call__\u001b[1;34m(self, *args, **kwargs)\u001b[0m\n\u001b[0;32m    998\u001b[0m             label_name \u001b[39m=\u001b[39m label_kw \u001b[39mor\u001b[39;00m data\u001b[39m.\u001b[39mcolumns\n\u001b[0;32m    999\u001b[0m             data\u001b[39m.\u001b[39mcolumns \u001b[39m=\u001b[39m label_name\n\u001b[1;32m-> 1001\u001b[0m \u001b[39mreturn\u001b[39;00m plot_backend\u001b[39m.\u001b[39mplot(data, kind\u001b[39m=\u001b[39mkind, \u001b[39m*\u001b[39m\u001b[39m*\u001b[39mkwargs)\n",
      "File \u001b[1;32m~\\AppData\\Local\\Packages\\PythonSoftwareFoundation.Python.3.9_qbz5n2kfra8p0\\LocalCache\\local-packages\\Python39\\site-packages\\pandas\\plotting\\_matplotlib\\__init__.py:71\u001b[0m, in \u001b[0;36mplot\u001b[1;34m(data, kind, **kwargs)\u001b[0m\n\u001b[0;32m     69\u001b[0m         kwargs[\u001b[39m\"\u001b[39m\u001b[39max\u001b[39m\u001b[39m\"\u001b[39m] \u001b[39m=\u001b[39m \u001b[39mgetattr\u001b[39m(ax, \u001b[39m\"\u001b[39m\u001b[39mleft_ax\u001b[39m\u001b[39m\"\u001b[39m, ax)\n\u001b[0;32m     70\u001b[0m plot_obj \u001b[39m=\u001b[39m PLOT_CLASSES[kind](data, \u001b[39m*\u001b[39m\u001b[39m*\u001b[39mkwargs)\n\u001b[1;32m---> 71\u001b[0m plot_obj\u001b[39m.\u001b[39;49mgenerate()\n\u001b[0;32m     72\u001b[0m plot_obj\u001b[39m.\u001b[39mdraw()\n\u001b[0;32m     73\u001b[0m \u001b[39mreturn\u001b[39;00m plot_obj\u001b[39m.\u001b[39mresult\n",
      "File \u001b[1;32m~\\AppData\\Local\\Packages\\PythonSoftwareFoundation.Python.3.9_qbz5n2kfra8p0\\LocalCache\\local-packages\\Python39\\site-packages\\pandas\\plotting\\_matplotlib\\core.py:451\u001b[0m, in \u001b[0;36mMPLPlot.generate\u001b[1;34m(self)\u001b[0m\n\u001b[0;32m    449\u001b[0m \u001b[39mdef\u001b[39;00m \u001b[39mgenerate\u001b[39m(\u001b[39mself\u001b[39m) \u001b[39m-\u001b[39m\u001b[39m>\u001b[39m \u001b[39mNone\u001b[39;00m:\n\u001b[0;32m    450\u001b[0m     \u001b[39mself\u001b[39m\u001b[39m.\u001b[39m_args_adjust()\n\u001b[1;32m--> 451\u001b[0m     \u001b[39mself\u001b[39;49m\u001b[39m.\u001b[39;49m_compute_plot_data()\n\u001b[0;32m    452\u001b[0m     \u001b[39mself\u001b[39m\u001b[39m.\u001b[39m_setup_subplots()\n\u001b[0;32m    453\u001b[0m     \u001b[39mself\u001b[39m\u001b[39m.\u001b[39m_make_plot()\n",
      "File \u001b[1;32m~\\AppData\\Local\\Packages\\PythonSoftwareFoundation.Python.3.9_qbz5n2kfra8p0\\LocalCache\\local-packages\\Python39\\site-packages\\pandas\\plotting\\_matplotlib\\core.py:636\u001b[0m, in \u001b[0;36mMPLPlot._compute_plot_data\u001b[1;34m(self)\u001b[0m\n\u001b[0;32m    634\u001b[0m \u001b[39m# no non-numeric frames or series allowed\u001b[39;00m\n\u001b[0;32m    635\u001b[0m \u001b[39mif\u001b[39;00m is_empty:\n\u001b[1;32m--> 636\u001b[0m     \u001b[39mraise\u001b[39;00m \u001b[39mTypeError\u001b[39;00m(\u001b[39m\"\u001b[39m\u001b[39mno numeric data to plot\u001b[39m\u001b[39m\"\u001b[39m)\n\u001b[0;32m    638\u001b[0m \u001b[39mself\u001b[39m\u001b[39m.\u001b[39mdata \u001b[39m=\u001b[39m numeric_data\u001b[39m.\u001b[39mapply(\u001b[39mself\u001b[39m\u001b[39m.\u001b[39m_convert_to_ndarray)\n",
      "\u001b[1;31mTypeError\u001b[0m: no numeric data to plot"
     ]
    },
    {
     "data": {
      "image/png": "[encoded data removed]",
      "text/plain": [
       "<Figure size 1000x1000 with 1 Axes>"
      ]
     },
     "metadata": {},
     "output_type": "display_data"
    }
   ],
   "source": [
    "fig,ax = plt.subplots(figsize=(10, 10))\n",
    "df_visu_inst.groupby('Code Officiel Département').plot(ax = ax, column = \"id\")\n",
    "ax.set_axis_off()\n",
    "ax"
   ]
  },
  {
   "attachments": {},
   "cell_type": "markdown",
   "metadata": {},
   "source": [
    "Pour savoir le nombre de stations que l'on va proposer à l'usager on regarde le nombre de stations autour de l'usager en fonction de la distance. "
   ]
  },
  {
   "cell_type": "code",
   "execution_count": 60,
   "metadata": {},
   "outputs": [
    {
     "name": "stdout",
     "output_type": "stream",
     "text": [
      "1\n"
     ]
    }
   ],
   "source": [
    "def nb_station(df,Adresse, rayon) : #calcul de nb de station dans un rayon spécifié\n",
    "    n=0\n",
    "    position= md.Adresse_to_gps(Adresse)\n",
    "    A = list(map(float,position.split(',')))\n",
    "    for station in range(len(df)) : \n",
    "        B = list(map(float,df.iloc[station,2].split(',')))\n",
    "        D=md.distanceGPS(A,B)\n",
    "        if D<rayon : \n",
    "            n=n+1\n",
    "    return n \n",
    "\n",
    "print(nb_station(df_visu_inst, \"1 rue d'Arsonval, Orsay, France\", 20000))"
   ]
  },
  {
   "cell_type": "code",
   "execution_count": 61,
   "metadata": {},
   "outputs": [
    {
     "data": {
      "image/png": "[encoded data removed]",
      "text/plain": [
       "<Figure size 640x480 with 1 Axes>"
      ]
     },
     "metadata": {},
     "output_type": "display_data"
    }
   ],
   "source": [
    "import numpy as np\n",
    "import matplotlib.pyplot as plt\n",
    "\n",
    "x = np.linspace(20000, 1000000, 500)\n",
    "y=[]\n",
    "\n",
    "for l in range(len(x)) : #prend 7min !\n",
    "    y.append(nb_station(df_visu_inst, \"1 rue d'Arsonval, Orsay, France\", x[l]))\n",
    "\n",
    "plt.plot(x, y, linewidth=4)\n",
    "plt.xlabel(\"Distance\")\n",
    "plt.ylabel(\"Nombre de stations essence\")\n",
    "plt.title(\"Nombre de stations essence accessibles en fonction de la distance\")\n",
    "\n",
    "\n",
    "plt.show()"
   ]
  },
  {
   "cell_type": "code",
   "execution_count": 14,
   "metadata": {},
   "outputs": [],
   "source": [
    "#calcul du prix du carburant par département\n",
    "\n",
    "df_moy=df_visu\n",
    "df_tst=df_moy.sample(200)\n",
    "\n",
    "Prix_moy_dep=df_tst.groupby('Code Officiel Département')['prix_valeur'].mean()\n",
    "\n",
    "Df_tstf= df_tst.merge(Prix_moy_dep, how='outer', on=['Code Officiel Département'] )\n"
   ]
  }
 ],
 "metadata": {
  "kernelspec": {
   "display_name": "Python 3",
   "language": "python",
   "name": "python3"
  },
  "language_info": {
   "codemirror_mode": {
    "name": "ipython",
    "version": 3
   },
   "file_extension": ".py",
   "mimetype": "text/x-python",
   "name": "python",
   "nbconvert_exporter": "python",
   "pygments_lexer": "ipython3",
   "version": "3.9.13"
  },
  "orig_nbformat": 4,
  "vscode": {
   "interpreter": {
    "hash": "b49ab16f02f294ae267a674cbb49c428cfb2ab8f5024afc5c58c85bfa43db9ee"
   }
  }
 },
 "nbformat": 4,
 "nbformat_minor": 2
}
