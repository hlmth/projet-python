{
 "cells": [
  {
   "cell_type": "code",
   "execution_count": 1,
   "metadata": {},
   "outputs": [],
   "source": [
    "import pandas as pd \n",
    "import geopandas as gpd\n",
    "import urllib\n",
    "import shapely\n",
    "pd.options.mode.chained_assignment = None  # default='warn'\n",
    "from math import *\n",
    "from geopy.geocoders import Nominatim\n"
   ]
  },
  {
   "cell_type": "code",
   "execution_count": 2,
   "metadata": {},
   "outputs": [],
   "source": [
    "data_g = gpd.read_file('data/prix-carburants-fichier-quotidien-test-ods.geojson')"
   ]
  },
  {
   "cell_type": "code",
   "execution_count": 3,
   "metadata": {},
   "outputs": [],
   "source": [
    "def data_carb_g(df, carb):\n",
    "    data_1 = df[['adresse', 'ville', 'prix_valeur', 'prix_nom', 'geometry']]\n",
    "    d = data_1[data_1.prix_nom == carb]\n",
    "    d.drop_duplicates(keep = 'first', inplace=True) \n",
    "    #df.drop_duplicates(subset =\"'column'\", keep = 'first', inplace=True) si on veut supprimer selon une colonne\n",
    "    return d"
   ]
  },
  {
   "cell_type": "code",
   "execution_count": 4,
   "metadata": {},
   "outputs": [],
   "source": [
    "data_2_g = data_carb_g(data_g, 'SP95').sort_values('prix_valeur')"
   ]
  },
  {
   "cell_type": "code",
   "execution_count": 5,
   "metadata": {},
   "outputs": [
    {
     "data": {
      "text/plain": [
       "(48.7087952, 2.1742033)"
      ]
     },
     "execution_count": 5,
     "metadata": {},
     "output_type": "execute_result"
    }
   ],
   "source": [
    "def Adresse_to_gps(Adresse) : \n",
    "\n",
    "    geolocator = Nominatim(user_agent=\"Projet Python\")\n",
    "    location = geolocator.geocode(Adresse)\n",
    "    return location.latitude, location.longitude\n",
    "\n",
    "\n",
    "Adresse_to_gps(\"1 rue d'Arsonval, Orsay, France\")"
   ]
  },
  {
   "cell_type": "code",
   "execution_count": 53,
   "metadata": {},
   "outputs": [
    {
     "data": {
      "text/plain": [
       "2402     POINT (6956939.356 3081851.193)\n",
       "60125    POINT (6956939.356 3081851.193)\n",
       "36655    POINT (6956939.356 3081851.193)\n",
       "22911    POINT (6956939.356 3081851.193)\n",
       "25102    POINT (6956939.356 3081851.193)\n",
       "                      ...               \n",
       "44978    POINT (6956939.356 3081851.193)\n",
       "11148    POINT (6956939.356 3081851.193)\n",
       "43359    POINT (6956939.356 3081851.193)\n",
       "4049     POINT (6956939.356 3081851.193)\n",
       "58312    POINT (6956939.356 3081851.193)\n",
       "Length: 3709, dtype: geometry"
      ]
     },
     "execution_count": 53,
     "metadata": {},
     "output_type": "execute_result"
    }
   ],
   "source": [
    "point = shapely.geometry.Point(Adresse_to_gps(\"1 rue d'Arsonval, Orsay, France\"))\n",
    "col_adresse = gpd.GeoSeries((point for i in range(len(data_2_g))),index= data_2_g.index, crs = 4326)\n",
    "col_adresse.to_crs(2154)"
   ]
  },
  {
   "cell_type": "code",
   "execution_count": 8,
   "metadata": {},
   "outputs": [
    {
     "name": "stderr",
     "output_type": "stream",
     "text": [
      "C:\\Users\\hugol\\AppData\\Local\\Temp\\ipykernel_17068\\3041818366.py:1: UserWarning: Geometry is in a geographic CRS. Results from 'distance' are likely incorrect. Use 'GeoSeries.to_crs()' to re-project geometries to a projected CRS before this operation.\n",
      "\n",
      "  type(data_2_g.distance(col_adresse))\n"
     ]
    },
    {
     "data": {
      "text/plain": [
       "pandas.core.series.Series"
      ]
     },
     "execution_count": 8,
     "metadata": {},
     "output_type": "execute_result"
    }
   ],
   "source": [
    "type(data_2_g.distance(col_adresse))"
   ]
  },
  {
   "cell_type": "code",
   "execution_count": 50,
   "metadata": {},
   "outputs": [],
   "source": [
    "def dix_plus_proche_g(df, posi, carb): \n",
    "    data = data_carb_g(df, carb)\n",
    "    p = shapely.geometry.Point(Adresse_to_gps(posi))\n",
    "    col_ad = gpd.GeoSeries((p for i in range(len(data))),index= data.index, crs = 4326)\n",
    "    new_data = data.to_crs(2154)\n",
    "    new_col = col_ad.to_crs(2154)\n",
    "    data_1 = new_data.distance(new_col).sort_values().head(10)\n",
    "    \n",
    "    return data.loc[data_1.index.to_list()]"
   ]
  },
  {
   "cell_type": "code",
   "execution_count": 52,
   "metadata": {},
   "outputs": [
    {
     "data": {
      "text/html": [
       "<div>\n",
       "<style scoped>\n",
       "    .dataframe tbody tr th:only-of-type {\n",
       "        vertical-align: middle;\n",
       "    }\n",
       "\n",
       "    .dataframe tbody tr th {\n",
       "        vertical-align: top;\n",
       "    }\n",
       "\n",
       "    .dataframe thead th {\n",
       "        text-align: right;\n",
       "    }\n",
       "</style>\n",
       "<table border=\"1\" class=\"dataframe\">\n",
       "  <thead>\n",
       "    <tr style=\"text-align: right;\">\n",
       "      <th></th>\n",
       "      <th>adresse</th>\n",
       "      <th>ville</th>\n",
       "      <th>prix_valeur</th>\n",
       "      <th>prix_nom</th>\n",
       "      <th>geometry</th>\n",
       "    </tr>\n",
       "  </thead>\n",
       "  <tbody>\n",
       "    <tr>\n",
       "      <th>37807</th>\n",
       "      <td>Cala Longa</td>\n",
       "      <td>Bonifacio</td>\n",
       "      <td>1.731</td>\n",
       "      <td>SP95</td>\n",
       "      <td>POINT (9.16600 41.39200)</td>\n",
       "    </tr>\n",
       "    <tr>\n",
       "      <th>7382</th>\n",
       "      <td>sennola</td>\n",
       "      <td>BONIFACIO</td>\n",
       "      <td>1.730</td>\n",
       "      <td>SP95</td>\n",
       "      <td>POINT (9.16500 41.39100)</td>\n",
       "    </tr>\n",
       "    <tr>\n",
       "      <th>2592</th>\n",
       "      <td>358 San Cipriano</td>\n",
       "      <td>Lecci</td>\n",
       "      <td>1.790</td>\n",
       "      <td>SP95</td>\n",
       "      <td>POINT (9.33600 41.63900)</td>\n",
       "    </tr>\n",
       "    <tr>\n",
       "      <th>17548</th>\n",
       "      <td>Route de Bonifacio</td>\n",
       "      <td>Porto-Vecchio</td>\n",
       "      <td>1.770</td>\n",
       "      <td>SP95</td>\n",
       "      <td>POINT (9.27300 41.57100)</td>\n",
       "    </tr>\n",
       "    <tr>\n",
       "      <th>14738</th>\n",
       "      <td>Route de bonifacio BP115</td>\n",
       "      <td>Porto-Vecchio</td>\n",
       "      <td>1.790</td>\n",
       "      <td>SP95</td>\n",
       "      <td>POINT (9.27469 41.57844)</td>\n",
       "    </tr>\n",
       "    <tr>\n",
       "      <th>29264</th>\n",
       "      <td>Les 4 Chemins BP115</td>\n",
       "      <td>Porto-Vecchio</td>\n",
       "      <td>1.790</td>\n",
       "      <td>SP95</td>\n",
       "      <td>POINT (9.27600 41.59800)</td>\n",
       "    </tr>\n",
       "    <tr>\n",
       "      <th>4933</th>\n",
       "      <td>Station TOTAL - Quartier La Poretta</td>\n",
       "      <td>PORTO-VECCHIO</td>\n",
       "      <td>1.750</td>\n",
       "      <td>SP95</td>\n",
       "      <td>POINT (9.27600 41.60200)</td>\n",
       "    </tr>\n",
       "    <tr>\n",
       "      <th>7396</th>\n",
       "      <td>RTE N 198</td>\n",
       "      <td>Porto-Vecchio</td>\n",
       "      <td>1.790</td>\n",
       "      <td>SP95</td>\n",
       "      <td>POINT (9.27700 41.60400)</td>\n",
       "    </tr>\n",
       "    <tr>\n",
       "      <th>32440</th>\n",
       "      <td>route de bastia</td>\n",
       "      <td>Porto-Vecchio</td>\n",
       "      <td>1.790</td>\n",
       "      <td>SP95</td>\n",
       "      <td>POINT (9.28000 41.61400)</td>\n",
       "    </tr>\n",
       "    <tr>\n",
       "      <th>14737</th>\n",
       "      <td>Station TOTAL La Trinité - RN 198 - Pitrera</td>\n",
       "      <td>PORTO-VECCHIO</td>\n",
       "      <td>1.640</td>\n",
       "      <td>SP95</td>\n",
       "      <td>POINT (9.29420 41.63490)</td>\n",
       "    </tr>\n",
       "  </tbody>\n",
       "</table>\n",
       "</div>"
      ],
      "text/plain": [
       "                                           adresse          ville  \\\n",
       "37807                                   Cala Longa      Bonifacio   \n",
       "7382                                       sennola      BONIFACIO   \n",
       "2592                              358 San Cipriano          Lecci   \n",
       "17548                           Route de Bonifacio  Porto-Vecchio   \n",
       "14738                     Route de bonifacio BP115  Porto-Vecchio   \n",
       "29264                          Les 4 Chemins BP115  Porto-Vecchio   \n",
       "4933           Station TOTAL - Quartier La Poretta  PORTO-VECCHIO   \n",
       "7396                                     RTE N 198  Porto-Vecchio   \n",
       "32440                              route de bastia  Porto-Vecchio   \n",
       "14737  Station TOTAL La Trinité - RN 198 - Pitrera  PORTO-VECCHIO   \n",
       "\n",
       "       prix_valeur prix_nom                  geometry  \n",
       "37807        1.731     SP95  POINT (9.16600 41.39200)  \n",
       "7382         1.730     SP95  POINT (9.16500 41.39100)  \n",
       "2592         1.790     SP95  POINT (9.33600 41.63900)  \n",
       "17548        1.770     SP95  POINT (9.27300 41.57100)  \n",
       "14738        1.790     SP95  POINT (9.27469 41.57844)  \n",
       "29264        1.790     SP95  POINT (9.27600 41.59800)  \n",
       "4933         1.750     SP95  POINT (9.27600 41.60200)  \n",
       "7396         1.790     SP95  POINT (9.27700 41.60400)  \n",
       "32440        1.790     SP95  POINT (9.28000 41.61400)  \n",
       "14737        1.640     SP95  POINT (9.29420 41.63490)  "
      ]
     },
     "execution_count": 52,
     "metadata": {},
     "output_type": "execute_result"
    }
   ],
   "source": [
    "dix_plus_proche_g(data_2_g, \"1 rue d'Arsonval, Orsay, France\", \"SP95\")"
   ]
  }
 ],
 "metadata": {
  "kernelspec": {
   "display_name": "Python 3.9.13 64-bit (microsoft store)",
   "language": "python",
   "name": "python3"
  },
  "language_info": {
   "codemirror_mode": {
    "name": "ipython",
    "version": 3
   },
   "file_extension": ".py",
   "mimetype": "text/x-python",
   "name": "python",
   "nbconvert_exporter": "python",
   "pygments_lexer": "ipython3",
   "version": "3.9.13 (tags/v3.9.13:6de2ca5, May 17 2022, 16:36:42) [MSC v.1929 64 bit (AMD64)]"
  },
  "orig_nbformat": 4,
  "vscode": {
   "interpreter": {
    "hash": "b49ab16f02f294ae267a674cbb49c428cfb2ab8f5024afc5c58c85bfa43db9ee"
   }
  }
 },
 "nbformat": 4,
 "nbformat_minor": 2
}
