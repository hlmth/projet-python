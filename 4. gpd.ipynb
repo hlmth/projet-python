{
 "cells": [
  {
   "cell_type": "code",
   "execution_count": null,
   "metadata": {},
   "outputs": [],
   "source": [
    "import pandas as pd \n",
    "import geopandas as gpd\n",
    "import urllib\n",
    "import shapely\n",
    "pd.options.mode.chained_assignment = None  # default='warn'\n",
    "from math import *"
   ]
  },
  {
   "cell_type": "code",
   "execution_count": null,
   "metadata": {},
   "outputs": [],
   "source": [
    "import osmnx as ox\n",
    "import networkx as nx"
   ]
  },
  {
   "cell_type": "code",
   "execution_count": null,
   "metadata": {},
   "outputs": [],
   "source": [
    "def create_graph(loc, dist, transport_mode, loc_type=\"address\"):\n",
    "###Transport mode = ‘walk’, ‘bike’, ‘drive’, ‘drive_service’, ‘all’, ‘all_private’, ‘none’\n",
    "    if loc_type == \"address\":\n",
    "        G = ox.graph_from_address(loc, dist=dist, network_type=transport_mode)\n",
    "    elif loc_type == \"points\":\n",
    "        G = ox.graph_from_point(loc, dist=dist, network_type=transport_mode )\n",
    "    return G"
   ]
  },
  {
   "cell_type": "code",
   "execution_count": null,
   "metadata": {},
   "outputs": [],
   "source": [
    "G = create_graph(\"Paris\", 5000, \"drive\")\n"
   ]
  },
  {
   "cell_type": "code",
   "execution_count": null,
   "metadata": {},
   "outputs": [],
   "source": [
    "ox.plot_graph(G)"
   ]
  },
  {
   "cell_type": "code",
   "execution_count": null,
   "metadata": {},
   "outputs": [],
   "source": [
    "G = ox.add_edge_speeds(G) #Impute\n",
    "G = ox.add_edge_travel_times(G)"
   ]
  },
  {
   "cell_type": "code",
   "execution_count": null,
   "metadata": {},
   "outputs": [],
   "source": [
    "def dix_plus_proche_card(df, posi, carb):\n",
    "    data_1 = data_2_g(df, carb).sort_values('prix_valeur')\n",
    "    pos = list(map(float,Adresse_to_gps(posi).split(',')))\n",
    "    def distancetoposi(p2):\n",
    "        pos_carb = list(map(float, p2.split(',')))\n",
    "        a,b = pos_carb\n",
    "        pos_carb = b,a\n",
    "        x,y = pos\n",
    "        pos = y,x\n",
    "        route, longueur = itinéraire(pos, pos_carb) \n",
    "        return longueur\n",
    "    new_df = data_1['geom'].apply(distancetoposi).sort_values().head(10)\n",
    "    return data_1.loc[new_df.index.to_list()]"
   ]
  },
  {
   "cell_type": "code",
   "execution_count": null,
   "metadata": {},
   "outputs": [],
   "source": [
    "dat_ = pd.read_csv('data/prix-carburants-fichier-quotidien-test-ods.json', sep= ';', on_bad_lines= 'skip')"
   ]
  },
  {
   "cell_type": "code",
   "execution_count": null,
   "metadata": {},
   "outputs": [],
   "source": [
    "dix_plus_proche_card(data_2_g,\"1 rue de Rivoli, Paris, France\", 'SP95')"
   ]
  },
  {
   "cell_type": "code",
   "execution_count": null,
   "metadata": {},
   "outputs": [],
   "source": [
    "def itinéraire(position, station):\n",
    "    a,b = position\n",
    "    x,y = station\n",
    "    start_node = ox.nearest_nodes(G, a,b)\n",
    "    end_node = ox.nearest_nodes(G, x,y) # Calculate the shortest path\n",
    "    route = nx.shortest_path(G, start_node, end_node, weight='travel_time') #Plot the route and street networks\n",
    "    length = nx.shortest_path_length(G, source=start_node, target=end_node, weight='travel time', method=\"dijkstra\")\n",
    "    return(route, length)"
   ]
  },
  {
   "cell_type": "code",
   "execution_count": 1,
   "metadata": {},
   "outputs": [],
   "source": [
    "def dix_plus_proche(data, position):\n",
    "    def iti(station):\n",
    "        return(itinéraire(position, station)[1])\n",
    "    vector = data['geometry'].apply(iti)\n",
    "    return(vector)"
   ]
  },
  {
   "cell_type": "code",
   "execution_count": null,
   "metadata": {},
   "outputs": [],
   "source": [
    "from geopy.geocoders import Nominatim\n",
    "\n",
    "\n",
    "def Adresse_to_gps(Adresse) : \n",
    "\n",
    "    geolocator = Nominatim(user_agent=\"Projet Python\")\n",
    "    location = geolocator.geocode(Adresse)\n",
    "    return str(str(location.latitude) + ','+ str(location.longitude))\n",
    "\n",
    "\n",
    "Adresse_to_gps(\"1 rue d'Arsonval, Orsay, France\")"
   ]
  },
  {
   "cell_type": "code",
   "execution_count": null,
   "metadata": {},
   "outputs": [],
   "source": [
    "print(Adresse_to_gps(\"1 rue de Rivoli, Paris, France\"), Adresse_to_gps(\"63 rue du Ruisseau, Paris, France\"))\n"
   ]
  },
  {
   "cell_type": "code",
   "execution_count": null,
   "metadata": {},
   "outputs": [],
   "source": [
    "start = (2.3592784,48.8555424)\n",
    "end = (2.340438,48.8941015)\n",
    "end2 = (2.378077,48.856340)\n",
    "end3 =  (2.376176,48.864692)\n",
    "\n",
    "route, longueur = itinéraire(start, end2)\n",
    "route2, longueur2 = itinéraire(start, end3)\n",
    "print(longueur, longueur2)\n"
   ]
  },
  {
   "cell_type": "code",
   "execution_count": null,
   "metadata": {},
   "outputs": [],
   "source": [
    "G_bien = create_graph(\"France\", 100000, \"drive\")"
   ]
  },
  {
   "cell_type": "code",
   "execution_count": null,
   "metadata": {},
   "outputs": [],
   "source": [
    "data_g = gpd.read_file('data/prix-carburants-fichier-quotidien-test-ods.geojson')"
   ]
  },
  {
   "cell_type": "code",
   "execution_count": null,
   "metadata": {},
   "outputs": [],
   "source": [
    "data_g.columns"
   ]
  },
  {
   "cell_type": "code",
   "execution_count": null,
   "metadata": {},
   "outputs": [],
   "source": [
    "data_g.columns"
   ]
  },
  {
   "cell_type": "code",
   "execution_count": null,
   "metadata": {},
   "outputs": [],
   "source": [
    "def data_carb_g(df, carb):\n",
    "    data_1 = df[['adresse', 'ville', 'prix_valeur', 'prix_nom', 'geometry']]\n",
    "    d = data_1[data_1.prix_nom == carb]\n",
    "    d.drop_duplicates(keep = 'first', inplace=True) \n",
    "    #df.drop_duplicates(subset =\"'column'\", keep = 'first', inplace=True) si on veut supprimer selon une colonne\n",
    "    return d"
   ]
  },
  {
   "cell_type": "code",
   "execution_count": null,
   "metadata": {},
   "outputs": [],
   "source": [
    "data_2_g = data_carb_g(data_g, 'SP95').sort_values('prix_valeur')"
   ]
  },
  {
   "cell_type": "code",
   "execution_count": null,
   "metadata": {},
   "outputs": [],
   "source": [
    "data_2_g"
   ]
  },
  {
   "cell_type": "code",
   "execution_count": null,
   "metadata": {},
   "outputs": [],
   "source": [
    "data_2_g.loc[58312, 'geometry']"
   ]
  },
  {
   "cell_type": "code",
   "execution_count": null,
   "metadata": {},
   "outputs": [],
   "source": [
    "data_2_g.crs"
   ]
  },
  {
   "cell_type": "code",
   "execution_count": null,
   "metadata": {},
   "outputs": [],
   "source": [
    "from geopy.geocoders import Nominatim\n",
    "\n",
    "\n",
    "def Adresse_to_gps(Adresse) : \n",
    "\n",
    "    geolocator = Nominatim(user_agent=\"Projet Python\")\n",
    "    location = geolocator.geocode(Adresse)\n",
    "    return location.latitude, location.longitude\n",
    "\n",
    "\n",
    "Adresse_to_gps(\"1 rue d'Arsonval, Orsay, France\")"
   ]
  },
  {
   "cell_type": "code",
   "execution_count": null,
   "metadata": {},
   "outputs": [],
   "source": [
    "point = shapely.geometry.Point(Adresse_to_gps(\"1 rue d'Arsonval, Orsay, France\"))\n",
    "col_adresse = gpd.GeoSeries((point for i in range(len(data_2_g))),index= data_2_g.index, crs = 4326)"
   ]
  },
  {
   "cell_type": "code",
   "execution_count": null,
   "metadata": {},
   "outputs": [],
   "source": [
    "col_adresse.crs"
   ]
  },
  {
   "cell_type": "code",
   "execution_count": null,
   "metadata": {},
   "outputs": [],
   "source": [
    "data_2_g.distance(col_adresse)"
   ]
  }
 ],
 "metadata": {
  "kernelspec": {
   "display_name": "Python 3.10.4 64-bit",
   "language": "python",
   "name": "python3"
  },
  "language_info": {
   "codemirror_mode": {
    "name": "ipython",
    "version": 3
   },
   "file_extension": ".py",
   "mimetype": "text/x-python",
   "name": "python",
   "nbconvert_exporter": "python",
   "pygments_lexer": "ipython3",
   "version": "3.10.4"
  },
  "orig_nbformat": 4,
  "vscode": {
   "interpreter": {
    "hash": "7e1998ff7f8aa20ada591c520b972326324e5ea05489af9e422744c7c09f6dad"
   }
  }
 },
 "nbformat": 4,
 "nbformat_minor": 2
}
