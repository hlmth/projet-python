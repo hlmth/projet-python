{
 "cells": [
  {
   "cell_type": "code",
   "execution_count": 54,
   "metadata": {},
   "outputs": [],
   "source": [
    "import pandas as pd \n",
    "pd.options.mode.chained_assignment = None  # default='warn'"
   ]
  },
  {
   "cell_type": "code",
   "execution_count": 55,
   "metadata": {},
   "outputs": [],
   "source": [
    "data = pd.read_csv('data\\prix-carburants-fichier-quotidien-test-ods.csv', sep= ';', on_bad_lines= 'skip')"
   ]
  },
  {
   "cell_type": "code",
   "execution_count": 56,
   "metadata": {},
   "outputs": [
    {
     "data": {
      "text/plain": [
       "Index(['id', 'cp', 'pop', 'adresse', 'ville', 'horaires', 'rupture',\n",
       "       'fermeture', 'geom', 'prix_maj', 'prix_id', 'prix_valeur', 'prix_nom',\n",
       "       'com_arm_code', 'Nom Officiel Commune / Arrondissement Municipal',\n",
       "       'Code Officiel EPCI', 'Nom Officiel EPCI', 'Code Officiel Département',\n",
       "       'Nom Officiel Département', 'Code Officiel Région',\n",
       "       'Nom Officiel Région', 'services_service', 'Nom rupture',\n",
       "       'Début rupture', 'Fin rupture', 'Automate 24-24 (oui/non)'],\n",
       "      dtype='object')"
      ]
     },
     "execution_count": 56,
     "metadata": {},
     "output_type": "execute_result"
    }
   ],
   "source": [
    "data.columns"
   ]
  },
  {
   "cell_type": "markdown",
   "metadata": {},
   "source": [
    "Fonction pour définir la \"bonne\" base de données avec les données qui nous intéressent  \n",
    "Il faut l'améliorer pour qu'elle élimine les doublons"
   ]
  },
  {
   "cell_type": "code",
   "execution_count": 57,
   "metadata": {},
   "outputs": [],
   "source": [
    "def data_carb(df, carb):\n",
    "    data_1 = df[['adresse', 'ville', 'geom', 'prix_valeur', 'prix_nom']]\n",
    "    d = data_1[data_1.prix_nom == carb]\n",
    "    d.drop_duplicates(keep = 'first', inplace=True) \n",
    "    #df.drop_duplicates(subset =\"'column'\", keep = 'first', inplace=True) si on veut supprimer selon une colonne\n",
    "    return d\n",
    "\n",
    "\n"
   ]
  },
  {
   "cell_type": "code",
   "execution_count": 58,
   "metadata": {},
   "outputs": [],
   "source": [
    "data_2 = data_carb(data, 'SP95').sort_values('prix_valeur')"
   ]
  },
  {
   "cell_type": "code",
   "execution_count": 59,
   "metadata": {},
   "outputs": [
    {
     "data": {
      "text/html": [
       "<div>\n",
       "<style scoped>\n",
       "    .dataframe tbody tr th:only-of-type {\n",
       "        vertical-align: middle;\n",
       "    }\n",
       "\n",
       "    .dataframe tbody tr th {\n",
       "        vertical-align: top;\n",
       "    }\n",
       "\n",
       "    .dataframe thead th {\n",
       "        text-align: right;\n",
       "    }\n",
       "</style>\n",
       "<table border=\"1\" class=\"dataframe\">\n",
       "  <thead>\n",
       "    <tr style=\"text-align: right;\">\n",
       "      <th></th>\n",
       "      <th>adresse</th>\n",
       "      <th>ville</th>\n",
       "      <th>geom</th>\n",
       "      <th>prix_valeur</th>\n",
       "      <th>prix_nom</th>\n",
       "    </tr>\n",
       "  </thead>\n",
       "  <tbody>\n",
       "    <tr>\n",
       "      <th>2601</th>\n",
       "      <td>Avenue de l'Orme à Martin</td>\n",
       "      <td>Courcouronnes</td>\n",
       "      <td>48.631,2.417</td>\n",
       "      <td>1.169</td>\n",
       "      <td>SP95</td>\n",
       "    </tr>\n",
       "    <tr>\n",
       "      <th>2737</th>\n",
       "      <td>18 Grande Rue</td>\n",
       "      <td>DOZULé</td>\n",
       "      <td>49.231,-0.044</td>\n",
       "      <td>1.290</td>\n",
       "      <td>SP95</td>\n",
       "    </tr>\n",
       "    <tr>\n",
       "      <th>65471</th>\n",
       "      <td>13 Avenue Ampère</td>\n",
       "      <td>MONTIGNY-LE-BRETONNEUX</td>\n",
       "      <td>48.798,2.048</td>\n",
       "      <td>1.423</td>\n",
       "      <td>SP95</td>\n",
       "    </tr>\n",
       "    <tr>\n",
       "      <th>10380</th>\n",
       "      <td>le bourg</td>\n",
       "      <td>Groléjac</td>\n",
       "      <td>44.820868467717006,1.2905781261784</td>\n",
       "      <td>1.473</td>\n",
       "      <td>SP95</td>\n",
       "    </tr>\n",
       "    <tr>\n",
       "      <th>14519</th>\n",
       "      <td>531 Route de Strasbourg</td>\n",
       "      <td>VIRIAT</td>\n",
       "      <td>46.236,5.263</td>\n",
       "      <td>1.481</td>\n",
       "      <td>SP95</td>\n",
       "    </tr>\n",
       "    <tr>\n",
       "      <th>...</th>\n",
       "      <td>...</td>\n",
       "      <td>...</td>\n",
       "      <td>...</td>\n",
       "      <td>...</td>\n",
       "      <td>...</td>\n",
       "    </tr>\n",
       "    <tr>\n",
       "      <th>8063</th>\n",
       "      <td>23 Boulevard Victor Hugo</td>\n",
       "      <td>Saint-Ouen</td>\n",
       "      <td>48.911,2.332</td>\n",
       "      <td>2.290</td>\n",
       "      <td>SP95</td>\n",
       "    </tr>\n",
       "    <tr>\n",
       "      <th>24100</th>\n",
       "      <td>8,10,10bis Rue Bailleul</td>\n",
       "      <td>PARIS</td>\n",
       "      <td>48.861,2.341</td>\n",
       "      <td>2.370</td>\n",
       "      <td>SP95</td>\n",
       "    </tr>\n",
       "    <tr>\n",
       "      <th>11249</th>\n",
       "      <td>15 Avenue Duquesne</td>\n",
       "      <td>PARIS</td>\n",
       "      <td>48.853,2.308</td>\n",
       "      <td>2.600</td>\n",
       "      <td>SP95</td>\n",
       "    </tr>\n",
       "    <tr>\n",
       "      <th>43085</th>\n",
       "      <td>69 Avenue Kléber</td>\n",
       "      <td>Paris</td>\n",
       "      <td>48.865,2.289</td>\n",
       "      <td>2.690</td>\n",
       "      <td>SP95</td>\n",
       "    </tr>\n",
       "    <tr>\n",
       "      <th>64399</th>\n",
       "      <td>175 Avenue Ledru-Rollin</td>\n",
       "      <td>PARIS</td>\n",
       "      <td>48.85667,2.3791</td>\n",
       "      <td>2.900</td>\n",
       "      <td>SP95</td>\n",
       "    </tr>\n",
       "  </tbody>\n",
       "</table>\n",
       "<p>3758 rows × 5 columns</p>\n",
       "</div>"
      ],
      "text/plain": [
       "                         adresse                   ville  \\\n",
       "2601   Avenue de l'Orme à Martin           Courcouronnes   \n",
       "2737               18 Grande Rue                  DOZULé   \n",
       "65471           13 Avenue Ampère  MONTIGNY-LE-BRETONNEUX   \n",
       "10380                   le bourg                Groléjac   \n",
       "14519    531 Route de Strasbourg                  VIRIAT   \n",
       "...                          ...                     ...   \n",
       "8063    23 Boulevard Victor Hugo              Saint-Ouen   \n",
       "24100    8,10,10bis Rue Bailleul                   PARIS   \n",
       "11249         15 Avenue Duquesne                   PARIS   \n",
       "43085           69 Avenue Kléber                   Paris   \n",
       "64399    175 Avenue Ledru-Rollin                   PARIS   \n",
       "\n",
       "                                     geom  prix_valeur prix_nom  \n",
       "2601                         48.631,2.417        1.169     SP95  \n",
       "2737                        49.231,-0.044        1.290     SP95  \n",
       "65471                        48.798,2.048        1.423     SP95  \n",
       "10380  44.820868467717006,1.2905781261784        1.473     SP95  \n",
       "14519                        46.236,5.263        1.481     SP95  \n",
       "...                                   ...          ...      ...  \n",
       "8063                         48.911,2.332        2.290     SP95  \n",
       "24100                        48.861,2.341        2.370     SP95  \n",
       "11249                        48.853,2.308        2.600     SP95  \n",
       "43085                        48.865,2.289        2.690     SP95  \n",
       "64399                     48.85667,2.3791        2.900     SP95  \n",
       "\n",
       "[3758 rows x 5 columns]"
      ]
     },
     "execution_count": 59,
     "metadata": {},
     "output_type": "execute_result"
    }
   ],
   "source": [
    "data_2"
   ]
  },
  {
   "cell_type": "markdown",
   "metadata": {},
   "source": [
    "Fonction pour calculer la distance à partir de données de longitude et de latitude"
   ]
  },
  {
   "cell_type": "code",
   "execution_count": 60,
   "metadata": {},
   "outputs": [],
   "source": [
    "from math import cos, sin, acos \n",
    "\n",
    "def distance1(p1,p2):\n",
    "    lat1,long1 = p1\n",
    "    lat2,long2 = p2\n",
    "    dlong = long2 - long1\n",
    "    dist_ang = acos(sin(lat1)*sin(lat2) + cos(lat1)*cos(lat2)*cos(dlong))\n",
    "    return(6378137*dist_ang)"
   ]
  },
  {
   "cell_type": "code",
   "execution_count": 61,
   "metadata": {},
   "outputs": [
    {
     "data": {
      "text/plain": [
       "'48.7087952,2.1742033'"
      ]
     },
     "execution_count": 61,
     "metadata": {},
     "output_type": "execute_result"
    }
   ],
   "source": [
    "from geopy.geocoders import Nominatim\n",
    "\n",
    "\n",
    "def Adresse_to_gps(Adresse) : \n",
    "\n",
    "    geolocator = Nominatim(user_agent=\"Projet Python\")\n",
    "    location = geolocator.geocode(Adresse)\n",
    "    return str(str(location.latitude) + ','+ str(location.longitude))\n",
    "\n",
    "\n",
    "Adresse_to_gps(\"1 rue d'Arsonval, Orsay, France\")"
   ]
  },
  {
   "cell_type": "markdown",
   "metadata": {},
   "source": [
    "Fonction pour renvoyer un data frame avec les 10 plus proches stations essences qui propose le type de carburant recherché   \n",
    "Majeur problème : les doublons "
   ]
  },
  {
   "cell_type": "code",
   "execution_count": 62,
   "metadata": {},
   "outputs": [],
   "source": [
    "def dix_plus_proche_card(df, posi, carb):\n",
    "    data_1 = data_carb(df, carb).sort_values('prix_valeur')\n",
    "    pos = list(map(float,Adresse_to_gps(posi).split(',')))\n",
    "    def distancetoposi(p2):\n",
    "        pos_carb = list(map(float, p2.split(',')))\n",
    "        return distance1(pos, pos_carb)\n",
    "    new_df = data_1['geom'].apply(distancetoposi).sort_values().head(10)\n",
    "    return data_1.loc[new_df.index.to_list()]\n",
    "\n",
    "\n",
    "\n",
    "    \n"
   ]
  },
  {
   "cell_type": "code",
   "execution_count": 65,
   "metadata": {},
   "outputs": [
    {
     "data": {
      "text/html": [
       "<div>\n",
       "<style scoped>\n",
       "    .dataframe tbody tr th:only-of-type {\n",
       "        vertical-align: middle;\n",
       "    }\n",
       "\n",
       "    .dataframe tbody tr th {\n",
       "        vertical-align: top;\n",
       "    }\n",
       "\n",
       "    .dataframe thead th {\n",
       "        text-align: right;\n",
       "    }\n",
       "</style>\n",
       "<table border=\"1\" class=\"dataframe\">\n",
       "  <thead>\n",
       "    <tr style=\"text-align: right;\">\n",
       "      <th></th>\n",
       "      <th>adresse</th>\n",
       "      <th>ville</th>\n",
       "      <th>geom</th>\n",
       "      <th>prix_valeur</th>\n",
       "      <th>prix_nom</th>\n",
       "    </tr>\n",
       "  </thead>\n",
       "  <tbody>\n",
       "    <tr>\n",
       "      <th>18723</th>\n",
       "      <td>69 Avenue Charles de Gaulle</td>\n",
       "      <td>MORANGIS</td>\n",
       "      <td>48.706,2.343</td>\n",
       "      <td>1.759</td>\n",
       "      <td>SP95</td>\n",
       "    </tr>\n",
       "    <tr>\n",
       "      <th>43435</th>\n",
       "      <td>Rue de la Ballastière</td>\n",
       "      <td>Ligny-en-Barrois</td>\n",
       "      <td>48.677,5.326</td>\n",
       "      <td>1.700</td>\n",
       "      <td>SP95</td>\n",
       "    </tr>\n",
       "    <tr>\n",
       "      <th>38126</th>\n",
       "      <td>180 ROUTE NATIONALE 7</td>\n",
       "      <td>ATHIS-MONS</td>\n",
       "      <td>48.712,2.371</td>\n",
       "      <td>1.709</td>\n",
       "      <td>SP95</td>\n",
       "    </tr>\n",
       "    <tr>\n",
       "      <th>50277</th>\n",
       "      <td>KERGUENNEC</td>\n",
       "      <td>ROSCOFF</td>\n",
       "      <td>48.71344,-3.98569</td>\n",
       "      <td>1.750</td>\n",
       "      <td>SP95</td>\n",
       "    </tr>\n",
       "    <tr>\n",
       "      <th>5332</th>\n",
       "      <td>lieudit le village</td>\n",
       "      <td>Les Essarts-le-Roi</td>\n",
       "      <td>48.71419,1.92645</td>\n",
       "      <td>1.745</td>\n",
       "      <td>SP95</td>\n",
       "    </tr>\n",
       "    <tr>\n",
       "      <th>10514</th>\n",
       "      <td>RUE DU GENERAL DE GAULLE</td>\n",
       "      <td>AVRANCHES</td>\n",
       "      <td>48.68647,-1.36356</td>\n",
       "      <td>1.819</td>\n",
       "      <td>SP95</td>\n",
       "    </tr>\n",
       "    <tr>\n",
       "      <th>46246</th>\n",
       "      <td>PLACE DE BEAUPLAN</td>\n",
       "      <td>SAINT-RéMY-LèS-CHEVREUSE</td>\n",
       "      <td>48.716,2.085</td>\n",
       "      <td>1.737</td>\n",
       "      <td>SP95</td>\n",
       "    </tr>\n",
       "    <tr>\n",
       "      <th>18710</th>\n",
       "      <td>72 Avenue Jean Jaurès</td>\n",
       "      <td>Montgeron</td>\n",
       "      <td>48.716,2.446</td>\n",
       "      <td>1.770</td>\n",
       "      <td>SP95</td>\n",
       "    </tr>\n",
       "    <tr>\n",
       "      <th>13697</th>\n",
       "      <td>118 Rue de la Passerelle</td>\n",
       "      <td>CHILLY-MAZARIN</td>\n",
       "      <td>48.69943,2.32057</td>\n",
       "      <td>1.799</td>\n",
       "      <td>SP95</td>\n",
       "    </tr>\n",
       "    <tr>\n",
       "      <th>18347</th>\n",
       "      <td>120A ROUTE NATIONALE</td>\n",
       "      <td>GAMBSHEIM</td>\n",
       "      <td>48.699248714218,7.889266294415299</td>\n",
       "      <td>1.589</td>\n",
       "      <td>SP95</td>\n",
       "    </tr>\n",
       "  </tbody>\n",
       "</table>\n",
       "</div>"
      ],
      "text/plain": [
       "                           adresse                     ville  \\\n",
       "18723  69 Avenue Charles de Gaulle                  MORANGIS   \n",
       "43435        Rue de la Ballastière          Ligny-en-Barrois   \n",
       "38126        180 ROUTE NATIONALE 7                ATHIS-MONS   \n",
       "50277                   KERGUENNEC                   ROSCOFF   \n",
       "5332            lieudit le village        Les Essarts-le-Roi   \n",
       "10514     RUE DU GENERAL DE GAULLE                 AVRANCHES   \n",
       "46246            PLACE DE BEAUPLAN  SAINT-RéMY-LèS-CHEVREUSE   \n",
       "18710        72 Avenue Jean Jaurès                 Montgeron   \n",
       "13697     118 Rue de la Passerelle            CHILLY-MAZARIN   \n",
       "18347         120A ROUTE NATIONALE                 GAMBSHEIM   \n",
       "\n",
       "                                    geom  prix_valeur prix_nom  \n",
       "18723                       48.706,2.343        1.759     SP95  \n",
       "43435                       48.677,5.326        1.700     SP95  \n",
       "38126                       48.712,2.371        1.709     SP95  \n",
       "50277                  48.71344,-3.98569        1.750     SP95  \n",
       "5332                    48.71419,1.92645        1.745     SP95  \n",
       "10514                  48.68647,-1.36356        1.819     SP95  \n",
       "46246                       48.716,2.085        1.737     SP95  \n",
       "18710                       48.716,2.446        1.770     SP95  \n",
       "13697                   48.69943,2.32057        1.799     SP95  \n",
       "18347  48.699248714218,7.889266294415299        1.589     SP95  "
      ]
     },
     "execution_count": 65,
     "metadata": {},
     "output_type": "execute_result"
    }
   ],
   "source": [
    "dix_plus_proche_card(data, \"1 rue d'Arsonval, Orsay, France\" , 'SP95')"
   ]
  }
 ],
 "metadata": {
  "kernelspec": {
   "display_name": "Python 3.9.13 64-bit (microsoft store)",
   "language": "python",
   "name": "python3"
  },
  "language_info": {
   "codemirror_mode": {
    "name": "ipython",
    "version": 3
   },
   "file_extension": ".py",
   "mimetype": "text/x-python",
   "name": "python",
   "nbconvert_exporter": "python",
   "pygments_lexer": "ipython3",
   "version": "3.9.13"
  },
  "orig_nbformat": 4,
  "vscode": {
   "interpreter": {
    "hash": "b49ab16f02f294ae267a674cbb49c428cfb2ab8f5024afc5c58c85bfa43db9ee"
   }
  }
 },
 "nbformat": 4,
 "nbformat_minor": 2
}
