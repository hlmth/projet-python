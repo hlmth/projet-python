{
 "cells": [
  {
   "cell_type": "code",
   "execution_count": 14,
   "metadata": {},
   "outputs": [],
   "source": [
    "import pandas as pd \n",
    "import geopandas as gpd\n",
    "pd.options.mode.chained_assignment = None  # default='warn'"
   ]
  },
  {
   "cell_type": "markdown",
   "metadata": {},
   "source": [
    "On fait tourner ça et ça se met à jour tous les jours "
   ]
  },
  {
   "cell_type": "code",
   "execution_count": 15,
   "metadata": {},
   "outputs": [
    {
     "data": {
      "text/plain": [
       "('data/fichier.csv', <http.client.HTTPMessage at 0x1a4368fc7f0>)"
      ]
     },
     "execution_count": 15,
     "metadata": {},
     "output_type": "execute_result"
    }
   ],
   "source": [
    "import urllib\n",
    "urllib.request.urlretrieve(\"https://data.economie.gouv.fr/explore/dataset/prix-carburants-fichier-quotidien-test-ods/download/?format=csv&timezone=Europe/Berlin&lang=fr&use_labels_for_header=true&csv_separator=%3B\", \"data/fichier.csv\")"
   ]
  },
  {
   "cell_type": "code",
   "execution_count": 16,
   "metadata": {},
   "outputs": [
    {
     "data": {
      "text/plain": [
       "('data/fichier_inst.csv', <http.client.HTTPMessage at 0x1a4368f7ca0>)"
      ]
     },
     "execution_count": 16,
     "metadata": {},
     "output_type": "execute_result"
    }
   ],
   "source": [
    "urllib.request.urlretrieve(\"https://data.economie.gouv.fr/explore/dataset/prix-carburants-fichier-instantane-test-ods-copie/download/?format=csv&timezone=Europe/Berlin&lang=fr&use_labels_for_header=true&csv_separator=%3B\", \"data/fichier_inst.csv\")"
   ]
  },
  {
   "cell_type": "code",
   "execution_count": 17,
   "metadata": {},
   "outputs": [],
   "source": [
    "dat =pd.read_csv('data/fichier.csv', sep= ';', on_bad_lines= 'skip')"
   ]
  },
  {
   "cell_type": "code",
   "execution_count": 18,
   "metadata": {},
   "outputs": [],
   "source": [
    "dat_inst = pd.read_csv('data/fichier_inst.csv', sep= ';', on_bad_lines= 'skip')"
   ]
  },
  {
   "cell_type": "code",
   "execution_count": 19,
   "metadata": {},
   "outputs": [],
   "source": [
    "data = pd.read_csv('data/prix-carburants-fichier-quotidien-test-ods.csv', sep= ';', on_bad_lines= 'skip')"
   ]
  },
  {
   "cell_type": "code",
   "execution_count": 20,
   "metadata": {},
   "outputs": [
    {
     "data": {
      "text/plain": [
       "Index(['id', 'cp', 'pop', 'adresse', 'ville', 'horaires', 'rupture',\n",
       "       'fermeture', 'geom', 'prix_maj', 'prix_id', 'prix_valeur', 'prix_nom',\n",
       "       'com_arm_code', 'Nom Officiel Commune / Arrondissement Municipal',\n",
       "       'Code Officiel EPCI', 'Nom Officiel EPCI', 'Code Officiel Département',\n",
       "       'Nom Officiel Département', 'Code Officiel Région',\n",
       "       'Nom Officiel Région', 'services_service', 'Nom rupture',\n",
       "       'Début rupture', 'Fin rupture', 'Automate 24-24 (oui/non)'],\n",
       "      dtype='object')"
      ]
     },
     "execution_count": 20,
     "metadata": {},
     "output_type": "execute_result"
    }
   ],
   "source": [
    "data.columns"
   ]
  },
  {
   "cell_type": "markdown",
   "metadata": {},
   "source": [
    "Fonction pour définir la \"bonne\" base de données avec les données qui nous intéressent  \n",
    "Il faut l'améliorer pour qu'elle élimine les doublons"
   ]
  },
  {
   "cell_type": "code",
   "execution_count": 23,
   "metadata": {},
   "outputs": [],
   "source": [
    "def data_carb(df, carb):\n",
    "    data_1 = df[['adresse', 'ville', 'geom', 'prix_valeur', 'prix_nom']]\n",
    "    d = data_1[data_1.prix_nom == carb]\n",
    "    d.drop_duplicates(keep = 'first', inplace=True) \n",
    "    #df.drop_duplicates(subset =\"'column'\", keep = 'first', inplace=True) si on veut supprimer selon une colonne\n",
    "    return d\n",
    "\n",
    "\n"
   ]
  },
  {
   "cell_type": "code",
   "execution_count": 24,
   "metadata": {},
   "outputs": [],
   "source": [
    "data_2 = data_carb(data, 'SP95').sort_values('prix_valeur')"
   ]
  },
  {
   "cell_type": "markdown",
   "metadata": {},
   "source": [
    "Fonction pour calculer la distance à partir de données de longitude et de latitude"
   ]
  },
  {
   "cell_type": "code",
   "execution_count": 25,
   "metadata": {},
   "outputs": [],
   "source": [
    "from math import sin, cos, acos, pi\n",
    " \n",
    "def dms2dd(d, m, s):\n",
    "    \"\"\"Convertit un angle \"degrés minutes secondes\" en \"degrés décimaux\"\n",
    "    \"\"\"\n",
    "    return d + m/60 + s/3600\n",
    " \n",
    "def dd2dms(dd):\n",
    "    \"\"\"Convertit un angle \"degrés décimaux\" en \"degrés minutes secondes\"\n",
    "    \"\"\"\n",
    "    d = int(dd)\n",
    "    x = (dd-d)*60\n",
    "    m = int(x)\n",
    "    s = (x-m)*60\n",
    "    return d, m, s\n",
    " \n",
    "def deg2rad(dd):\n",
    "    \"\"\"Convertit un angle \"degrés décimaux\" en \"radians\"\n",
    "    \"\"\"\n",
    "    return dd/180*pi\n",
    " \n",
    "\n",
    "def rad2deg(rd):\n",
    "    \"\"\"Convertit un angle \"radians\" en \"degrés décimaux\"\n",
    "    \"\"\"\n",
    "    return rd/pi*180\n",
    " \n",
    "#############################################################################\n",
    "def distanceGPS(p1, p2):\n",
    "    \"\"\"Retourne la distance en mètres entre les 2 points A et B connus grâce à\n",
    "       leurs coordonnées GPS (en radians).\n",
    "    \"\"\"\n",
    "    latA, longA = p1\n",
    "    latB, longB = p2\n",
    "    # Rayon de la terre en mètres (sphère IAG-GRS80)\n",
    "    RT = 6378137\n",
    "    # angle en radians entre les 2 points\n",
    "    S = acos(sin(latA)*sin(latB) + cos(latA)*cos(latB)*cos(abs(longB-longA)))\n",
    "    # distance entre les 2 points, comptée sur un arc de grand cercle\n",
    "    return S*RT\n",
    "\n",
    "\n"
   ]
  },
  {
   "cell_type": "code",
   "execution_count": 26,
   "metadata": {},
   "outputs": [
    {
     "data": {
      "text/plain": [
       "'48.7087952,2.1742033'"
      ]
     },
     "execution_count": 26,
     "metadata": {},
     "output_type": "execute_result"
    }
   ],
   "source": [
    "from geopy.geocoders import Nominatim\n",
    "\n",
    "\n",
    "def Adresse_to_gps(Adresse) : \n",
    "\n",
    "    geolocator = Nominatim(user_agent=\"Projet Python\")\n",
    "    location = geolocator.geocode(Adresse)\n",
    "    return str(str(location.latitude) + ','+ str(location.longitude))\n",
    "\n",
    "\n",
    "Adresse_to_gps(\"1 rue d'Arsonval, Orsay, France\")"
   ]
  },
  {
   "cell_type": "markdown",
   "metadata": {},
   "source": [
    "Fonction pour renvoyer un data frame avec les 10 plus proches stations essences qui propose le type de carburant recherché   \n",
    "Majeur problème : les doublons "
   ]
  },
  {
   "cell_type": "code",
   "execution_count": 27,
   "metadata": {},
   "outputs": [],
   "source": [
    "def dix_plus_proche_card(df, posi, carb):\n",
    "    data_1 = data_carb(df, carb).sort_values('prix_valeur')\n",
    "    pos = list(map(float,Adresse_to_gps(posi).split(',')))\n",
    "    def distancetoposi(p2):\n",
    "        pos_carb = list(map(float, p2.split(',')))\n",
    "        return distanceGPS(pos, pos_carb)\n",
    "    new_df = data_1['geom'].apply(distancetoposi).sort_values().head(10)\n",
    "    return data_1.loc[new_df.index.to_list()]\n",
    "\n",
    "\n",
    "\n",
    "    \n"
   ]
  },
  {
   "cell_type": "code",
   "execution_count": 28,
   "metadata": {},
   "outputs": [
    {
     "data": {
      "text/html": [
       "<div>\n",
       "<style scoped>\n",
       "    .dataframe tbody tr th:only-of-type {\n",
       "        vertical-align: middle;\n",
       "    }\n",
       "\n",
       "    .dataframe tbody tr th {\n",
       "        vertical-align: top;\n",
       "    }\n",
       "\n",
       "    .dataframe thead th {\n",
       "        text-align: right;\n",
       "    }\n",
       "</style>\n",
       "<table border=\"1\" class=\"dataframe\">\n",
       "  <thead>\n",
       "    <tr style=\"text-align: right;\">\n",
       "      <th></th>\n",
       "      <th>adresse</th>\n",
       "      <th>ville</th>\n",
       "      <th>geom</th>\n",
       "      <th>prix_valeur</th>\n",
       "      <th>prix_nom</th>\n",
       "    </tr>\n",
       "  </thead>\n",
       "  <tbody>\n",
       "    <tr>\n",
       "      <th>1138</th>\n",
       "      <td>69 Avenue Charles de Gaulle</td>\n",
       "      <td>MORANGIS</td>\n",
       "      <td>48.706,2.343</td>\n",
       "      <td>1.739</td>\n",
       "      <td>SP95</td>\n",
       "    </tr>\n",
       "    <tr>\n",
       "      <th>3873</th>\n",
       "      <td>Rue de la Ballastière</td>\n",
       "      <td>Ligny-en-Barrois</td>\n",
       "      <td>48.677,5.326</td>\n",
       "      <td>1.631</td>\n",
       "      <td>SP95</td>\n",
       "    </tr>\n",
       "    <tr>\n",
       "      <th>28782</th>\n",
       "      <td>180 ROUTE NATIONALE 7</td>\n",
       "      <td>ATHIS-MONS</td>\n",
       "      <td>48.712,2.371</td>\n",
       "      <td>1.619</td>\n",
       "      <td>SP95</td>\n",
       "    </tr>\n",
       "    <tr>\n",
       "      <th>19739</th>\n",
       "      <td>KERGUENNEC</td>\n",
       "      <td>ROSCOFF</td>\n",
       "      <td>48.71344,-3.98569</td>\n",
       "      <td>1.750</td>\n",
       "      <td>SP95</td>\n",
       "    </tr>\n",
       "    <tr>\n",
       "      <th>3542</th>\n",
       "      <td>lieudit le village</td>\n",
       "      <td>Les Essarts-le-Roi</td>\n",
       "      <td>48.71419,1.92645</td>\n",
       "      <td>1.689</td>\n",
       "      <td>SP95</td>\n",
       "    </tr>\n",
       "    <tr>\n",
       "      <th>17396</th>\n",
       "      <td>RUE DU GENERAL DE GAULLE</td>\n",
       "      <td>AVRANCHES</td>\n",
       "      <td>48.68647,-1.36356</td>\n",
       "      <td>1.769</td>\n",
       "      <td>SP95</td>\n",
       "    </tr>\n",
       "    <tr>\n",
       "      <th>9728</th>\n",
       "      <td>PLACE DE BEAUPLAN</td>\n",
       "      <td>SAINT-RéMY-LèS-CHEVREUSE</td>\n",
       "      <td>48.716,2.085</td>\n",
       "      <td>1.737</td>\n",
       "      <td>SP95</td>\n",
       "    </tr>\n",
       "    <tr>\n",
       "      <th>30751</th>\n",
       "      <td>72 Avenue Jean Jaurès</td>\n",
       "      <td>Montgeron</td>\n",
       "      <td>48.716,2.446</td>\n",
       "      <td>1.740</td>\n",
       "      <td>SP95</td>\n",
       "    </tr>\n",
       "    <tr>\n",
       "      <th>26596</th>\n",
       "      <td>118 Rue de la Passerelle</td>\n",
       "      <td>CHILLY-MAZARIN</td>\n",
       "      <td>48.69943,2.32057</td>\n",
       "      <td>1.799</td>\n",
       "      <td>SP95</td>\n",
       "    </tr>\n",
       "    <tr>\n",
       "      <th>4112</th>\n",
       "      <td>120A ROUTE NATIONALE</td>\n",
       "      <td>GAMBSHEIM</td>\n",
       "      <td>48.699248714218,7.889266294415299</td>\n",
       "      <td>1.559</td>\n",
       "      <td>SP95</td>\n",
       "    </tr>\n",
       "  </tbody>\n",
       "</table>\n",
       "</div>"
      ],
      "text/plain": [
       "                           adresse                     ville  \\\n",
       "1138   69 Avenue Charles de Gaulle                  MORANGIS   \n",
       "3873         Rue de la Ballastière          Ligny-en-Barrois   \n",
       "28782        180 ROUTE NATIONALE 7                ATHIS-MONS   \n",
       "19739                   KERGUENNEC                   ROSCOFF   \n",
       "3542            lieudit le village        Les Essarts-le-Roi   \n",
       "17396     RUE DU GENERAL DE GAULLE                 AVRANCHES   \n",
       "9728             PLACE DE BEAUPLAN  SAINT-RéMY-LèS-CHEVREUSE   \n",
       "30751        72 Avenue Jean Jaurès                 Montgeron   \n",
       "26596     118 Rue de la Passerelle            CHILLY-MAZARIN   \n",
       "4112          120A ROUTE NATIONALE                 GAMBSHEIM   \n",
       "\n",
       "                                    geom  prix_valeur prix_nom  \n",
       "1138                        48.706,2.343        1.739     SP95  \n",
       "3873                        48.677,5.326        1.631     SP95  \n",
       "28782                       48.712,2.371        1.619     SP95  \n",
       "19739                  48.71344,-3.98569        1.750     SP95  \n",
       "3542                    48.71419,1.92645        1.689     SP95  \n",
       "17396                  48.68647,-1.36356        1.769     SP95  \n",
       "9728                        48.716,2.085        1.737     SP95  \n",
       "30751                       48.716,2.446        1.740     SP95  \n",
       "26596                   48.69943,2.32057        1.799     SP95  \n",
       "4112   48.699248714218,7.889266294415299        1.559     SP95  "
      ]
     },
     "execution_count": 28,
     "metadata": {},
     "output_type": "execute_result"
    }
   ],
   "source": [
    "dix_plus_proche_card(dat_inst, \"1 rue d'Arsonval, Orsay, France\" , 'SP95')"
   ]
  }
 ],
 "metadata": {
  "kernelspec": {
   "display_name": "Python 3.9.13 64-bit (microsoft store)",
   "language": "python",
   "name": "python3"
  },
  "language_info": {
   "codemirror_mode": {
    "name": "ipython",
    "version": 3
   },
   "file_extension": ".py",
   "mimetype": "text/x-python",
   "name": "python",
   "nbconvert_exporter": "python",
   "pygments_lexer": "ipython3",
   "version": "3.9.13"
  },
  "orig_nbformat": 4,
  "vscode": {
   "interpreter": {
    "hash": "b49ab16f02f294ae267a674cbb49c428cfb2ab8f5024afc5c58c85bfa43db9ee"
   }
  }
 },
 "nbformat": 4,
 "nbformat_minor": 2
}
