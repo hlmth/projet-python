{
 "cells": [
  {
   "cell_type": "code",
   "execution_count": 91,
   "metadata": {},
   "outputs": [],
   "source": [
    "import pandas as pd "
   ]
  },
  {
   "cell_type": "code",
   "execution_count": 92,
   "metadata": {},
   "outputs": [],
   "source": [
    "data = pd.read_csv('data\\prix-carburants-fichier-quotidien-test-ods.csv', sep= ';', on_bad_lines= 'skip')"
   ]
  },
  {
   "cell_type": "code",
   "execution_count": 93,
   "metadata": {},
   "outputs": [
    {
     "data": {
      "text/plain": [
       "Index(['id', 'cp', 'pop', 'adresse', 'ville', 'horaires', 'rupture',\n",
       "       'fermeture', 'geom', 'prix_maj', 'prix_id', 'prix_valeur', 'prix_nom',\n",
       "       'com_arm_code', 'Nom Officiel Commune / Arrondissement Municipal',\n",
       "       'Code Officiel EPCI', 'Nom Officiel EPCI', 'Code Officiel Département',\n",
       "       'Nom Officiel Département', 'Code Officiel Région',\n",
       "       'Nom Officiel Région', 'services_service', 'Nom rupture',\n",
       "       'Début rupture', 'Fin rupture', 'Automate 24-24 (oui/non)'],\n",
       "      dtype='object')"
      ]
     },
     "execution_count": 93,
     "metadata": {},
     "output_type": "execute_result"
    }
   ],
   "source": [
    "data.columns"
   ]
  },
  {
   "cell_type": "markdown",
   "metadata": {},
   "source": [
    "Fonction pour définir la \"bonne\" base de données avec les données qui nous intéressent  \n",
    "Il faut l'améliorer pour qu'elle élimine les doublons"
   ]
  },
  {
   "cell_type": "code",
   "execution_count": 94,
   "metadata": {},
   "outputs": [],
   "source": [
    "def data_carb(df, carb):\n",
    "    data_1 = df[['adresse', 'ville', 'geom', 'prix_valeur', 'prix_nom']]\n",
    "    d = data_1[data_1.prix_nom == carb]\n",
    "    d=d.drop_duplicates(keep = 'first', inplace=True) \n",
    "    #df.drop_duplicates(subset =\"'column'\", keep = 'first', inplace=True) si on veut supprimer selon une colonne\n",
    "\n",
    "    return d\n",
    "\n",
    "\n"
   ]
  },
  {
   "cell_type": "code",
   "execution_count": 95,
   "metadata": {},
   "outputs": [],
   "source": [
    "data_2 = data_carb(data, 'SP95').sort_values('prix_valeur')"
   ]
  },
  {
   "cell_type": "code",
   "execution_count": 96,
   "metadata": {},
   "outputs": [
    {
     "data": {
      "text/html": [
       "<div>\n",
       "<style scoped>\n",
       "    .dataframe tbody tr th:only-of-type {\n",
       "        vertical-align: middle;\n",
       "    }\n",
       "\n",
       "    .dataframe tbody tr th {\n",
       "        vertical-align: top;\n",
       "    }\n",
       "\n",
       "    .dataframe thead th {\n",
       "        text-align: right;\n",
       "    }\n",
       "</style>\n",
       "<table border=\"1\" class=\"dataframe\">\n",
       "  <thead>\n",
       "    <tr style=\"text-align: right;\">\n",
       "      <th></th>\n",
       "      <th>adresse</th>\n",
       "      <th>ville</th>\n",
       "      <th>geom</th>\n",
       "      <th>prix_valeur</th>\n",
       "      <th>prix_nom</th>\n",
       "    </tr>\n",
       "  </thead>\n",
       "  <tbody>\n",
       "    <tr>\n",
       "      <th>2601</th>\n",
       "      <td>Avenue de l'Orme à Martin</td>\n",
       "      <td>Courcouronnes</td>\n",
       "      <td>48.631,2.417</td>\n",
       "      <td>1.169</td>\n",
       "      <td>SP95</td>\n",
       "    </tr>\n",
       "    <tr>\n",
       "      <th>67001</th>\n",
       "      <td>18 Grande Rue</td>\n",
       "      <td>DOZULé</td>\n",
       "      <td>49.231,-0.044</td>\n",
       "      <td>1.290</td>\n",
       "      <td>SP95</td>\n",
       "    </tr>\n",
       "    <tr>\n",
       "      <th>2737</th>\n",
       "      <td>18 Grande Rue</td>\n",
       "      <td>DOZULé</td>\n",
       "      <td>49.231,-0.044</td>\n",
       "      <td>1.290</td>\n",
       "      <td>SP95</td>\n",
       "    </tr>\n",
       "    <tr>\n",
       "      <th>38557</th>\n",
       "      <td>18 Grande Rue</td>\n",
       "      <td>DOZULé</td>\n",
       "      <td>49.231,-0.044</td>\n",
       "      <td>1.290</td>\n",
       "      <td>SP95</td>\n",
       "    </tr>\n",
       "    <tr>\n",
       "      <th>65471</th>\n",
       "      <td>13 Avenue Ampère</td>\n",
       "      <td>MONTIGNY-LE-BRETONNEUX</td>\n",
       "      <td>48.798,2.048</td>\n",
       "      <td>1.423</td>\n",
       "      <td>SP95</td>\n",
       "    </tr>\n",
       "    <tr>\n",
       "      <th>...</th>\n",
       "      <td>...</td>\n",
       "      <td>...</td>\n",
       "      <td>...</td>\n",
       "      <td>...</td>\n",
       "      <td>...</td>\n",
       "    </tr>\n",
       "    <tr>\n",
       "      <th>46107</th>\n",
       "      <td>15 Avenue Duquesne</td>\n",
       "      <td>PARIS</td>\n",
       "      <td>48.853,2.308</td>\n",
       "      <td>2.600</td>\n",
       "      <td>SP95</td>\n",
       "    </tr>\n",
       "    <tr>\n",
       "      <th>53592</th>\n",
       "      <td>69 Avenue Kléber</td>\n",
       "      <td>Paris</td>\n",
       "      <td>48.865,2.289</td>\n",
       "      <td>2.690</td>\n",
       "      <td>SP95</td>\n",
       "    </tr>\n",
       "    <tr>\n",
       "      <th>58108</th>\n",
       "      <td>69 Avenue Kléber</td>\n",
       "      <td>Paris</td>\n",
       "      <td>48.865,2.289</td>\n",
       "      <td>2.690</td>\n",
       "      <td>SP95</td>\n",
       "    </tr>\n",
       "    <tr>\n",
       "      <th>43085</th>\n",
       "      <td>69 Avenue Kléber</td>\n",
       "      <td>Paris</td>\n",
       "      <td>48.865,2.289</td>\n",
       "      <td>2.690</td>\n",
       "      <td>SP95</td>\n",
       "    </tr>\n",
       "    <tr>\n",
       "      <th>64399</th>\n",
       "      <td>175 Avenue Ledru-Rollin</td>\n",
       "      <td>PARIS</td>\n",
       "      <td>48.85667,2.3791</td>\n",
       "      <td>2.900</td>\n",
       "      <td>SP95</td>\n",
       "    </tr>\n",
       "  </tbody>\n",
       "</table>\n",
       "<p>9390 rows × 5 columns</p>\n",
       "</div>"
      ],
      "text/plain": [
       "                         adresse                   ville             geom  \\\n",
       "2601   Avenue de l'Orme à Martin           Courcouronnes     48.631,2.417   \n",
       "67001              18 Grande Rue                  DOZULé    49.231,-0.044   \n",
       "2737               18 Grande Rue                  DOZULé    49.231,-0.044   \n",
       "38557              18 Grande Rue                  DOZULé    49.231,-0.044   \n",
       "65471           13 Avenue Ampère  MONTIGNY-LE-BRETONNEUX     48.798,2.048   \n",
       "...                          ...                     ...              ...   \n",
       "46107         15 Avenue Duquesne                   PARIS     48.853,2.308   \n",
       "53592           69 Avenue Kléber                   Paris     48.865,2.289   \n",
       "58108           69 Avenue Kléber                   Paris     48.865,2.289   \n",
       "43085           69 Avenue Kléber                   Paris     48.865,2.289   \n",
       "64399    175 Avenue Ledru-Rollin                   PARIS  48.85667,2.3791   \n",
       "\n",
       "       prix_valeur prix_nom  \n",
       "2601         1.169     SP95  \n",
       "67001        1.290     SP95  \n",
       "2737         1.290     SP95  \n",
       "38557        1.290     SP95  \n",
       "65471        1.423     SP95  \n",
       "...            ...      ...  \n",
       "46107        2.600     SP95  \n",
       "53592        2.690     SP95  \n",
       "58108        2.690     SP95  \n",
       "43085        2.690     SP95  \n",
       "64399        2.900     SP95  \n",
       "\n",
       "[9390 rows x 5 columns]"
      ]
     },
     "execution_count": 96,
     "metadata": {},
     "output_type": "execute_result"
    }
   ],
   "source": [
    "data_2"
   ]
  },
  {
   "cell_type": "markdown",
   "metadata": {},
   "source": [
    "Fonction pour calculer la distance à partir de données de longitude et de latitude"
   ]
  },
  {
   "cell_type": "code",
   "execution_count": 97,
   "metadata": {},
   "outputs": [],
   "source": [
    "from math import cos, sin, acos \n",
    "\n",
    "def distance1(p1,p2):\n",
    "    lat1,long1 = p1\n",
    "    lat2,long2 = p2\n",
    "    dlong = long2 - long1\n",
    "    dist_ang = acos(sin(lat1)*sin(lat2) + cos(lat1)*cos(lat2)*cos(dlong))\n",
    "    return(6378137*dist_ang)"
   ]
  },
  {
   "cell_type": "code",
   "execution_count": 100,
   "metadata": {},
   "outputs": [
    {
     "data": {
      "text/plain": [
       "'48.7087952,2.1742033'"
      ]
     },
     "execution_count": 100,
     "metadata": {},
     "output_type": "execute_result"
    }
   ],
   "source": [
    "from geopy.geocoders import Nominatim\n",
    "\n",
    "\n",
    "def Adresse_to_gps(Adresse) : \n",
    "\n",
    "    geolocator = Nominatim(user_agent=\"Projet Python\")\n",
    "    location = geolocator.geocode(Adresse)\n",
    "    return str(str(location.latitude) + ','+ str(location.longitude))\n",
    "\n",
    "\n",
    "Adresse_to_gps(\"1 rue d'Arsonval, Orsay, France\")"
   ]
  },
  {
   "cell_type": "markdown",
   "metadata": {},
   "source": [
    "Fonction pour renvoyer un data frame avec les 10 plus proches stations essences qui propose le type de carburant recherché   \n",
    "Majeur problème : les doublons "
   ]
  },
  {
   "cell_type": "code",
   "execution_count": 101,
   "metadata": {},
   "outputs": [],
   "source": [
    "def dix_plus_proche_card(df, posi, carb):\n",
    "    data_1 = data_carb(df, carb).sort_values('prix_valeur')\n",
    "    pos = list(map(float,Adresse_to_gps(posi).split(',')))\n",
    "    def distancetoposi(p2):\n",
    "        pos_carb = list(map(float, p2.split(',')))\n",
    "        return distance1(pos, pos_carb)\n",
    "    new_df = data_1['geom'].apply(distancetoposi).sort_values().head(10)\n",
    "    return data_1.loc[new_df.index.to_list()]\n",
    "\n",
    "\n",
    "\n",
    "    \n"
   ]
  },
  {
   "cell_type": "code",
   "execution_count": 103,
   "metadata": {},
   "outputs": [
    {
     "data": {
      "text/html": [
       "<div>\n",
       "<style scoped>\n",
       "    .dataframe tbody tr th:only-of-type {\n",
       "        vertical-align: middle;\n",
       "    }\n",
       "\n",
       "    .dataframe tbody tr th {\n",
       "        vertical-align: top;\n",
       "    }\n",
       "\n",
       "    .dataframe thead th {\n",
       "        text-align: right;\n",
       "    }\n",
       "</style>\n",
       "<table border=\"1\" class=\"dataframe\">\n",
       "  <thead>\n",
       "    <tr style=\"text-align: right;\">\n",
       "      <th></th>\n",
       "      <th>adresse</th>\n",
       "      <th>ville</th>\n",
       "      <th>geom</th>\n",
       "      <th>prix_valeur</th>\n",
       "      <th>prix_nom</th>\n",
       "    </tr>\n",
       "  </thead>\n",
       "  <tbody>\n",
       "    <tr>\n",
       "      <th>68902</th>\n",
       "      <td>Route de Longjumeau</td>\n",
       "      <td>CHILLY-MAZARIN</td>\n",
       "      <td>48.71,2.298</td>\n",
       "      <td>1.750</td>\n",
       "      <td>E10</td>\n",
       "    </tr>\n",
       "    <tr>\n",
       "      <th>55130</th>\n",
       "      <td>Route de Longjumeau</td>\n",
       "      <td>CHILLY-MAZARIN</td>\n",
       "      <td>48.71,2.298</td>\n",
       "      <td>1.750</td>\n",
       "      <td>E10</td>\n",
       "    </tr>\n",
       "    <tr>\n",
       "      <th>76068</th>\n",
       "      <td>69 Avenue Charles de Gaulle</td>\n",
       "      <td>MORANGIS</td>\n",
       "      <td>48.706,2.343</td>\n",
       "      <td>1.709</td>\n",
       "      <td>E10</td>\n",
       "    </tr>\n",
       "    <tr>\n",
       "      <th>25262</th>\n",
       "      <td>69 Avenue Charles de Gaulle</td>\n",
       "      <td>MORANGIS</td>\n",
       "      <td>48.706,2.343</td>\n",
       "      <td>1.709</td>\n",
       "      <td>E10</td>\n",
       "    </tr>\n",
       "    <tr>\n",
       "      <th>13691</th>\n",
       "      <td>38 AV DE MORANGIS</td>\n",
       "      <td>ATHIS MONS</td>\n",
       "      <td>48.706,2.369</td>\n",
       "      <td>1.859</td>\n",
       "      <td>E10</td>\n",
       "    </tr>\n",
       "    <tr>\n",
       "      <th>41567</th>\n",
       "      <td>CHEMIN DE BRIIS CD 59</td>\n",
       "      <td>Villebon-sur-Yvette</td>\n",
       "      <td>48.7046,2.25396</td>\n",
       "      <td>1.659</td>\n",
       "      <td>E10</td>\n",
       "    </tr>\n",
       "    <tr>\n",
       "      <th>28596</th>\n",
       "      <td>CHEMIN DE BRIIS CD 59</td>\n",
       "      <td>Villebon-sur-Yvette</td>\n",
       "      <td>48.7046,2.25396</td>\n",
       "      <td>1.659</td>\n",
       "      <td>E10</td>\n",
       "    </tr>\n",
       "    <tr>\n",
       "      <th>45188</th>\n",
       "      <td>CHEMIN DE BRIIS CD 59</td>\n",
       "      <td>Villebon-sur-Yvette</td>\n",
       "      <td>48.7046,2.25396</td>\n",
       "      <td>1.659</td>\n",
       "      <td>E10</td>\n",
       "    </tr>\n",
       "    <tr>\n",
       "      <th>41573</th>\n",
       "      <td>180 ROUTE NATIONALE 7</td>\n",
       "      <td>ATHIS-MONS</td>\n",
       "      <td>48.712,2.371</td>\n",
       "      <td>1.656</td>\n",
       "      <td>E10</td>\n",
       "    </tr>\n",
       "    <tr>\n",
       "      <th>61582</th>\n",
       "      <td>RUE DE LONGJUMEAU RUE AMPERE</td>\n",
       "      <td>Chilly-Mazarin</td>\n",
       "      <td>48.713,2.298</td>\n",
       "      <td>1.889</td>\n",
       "      <td>E10</td>\n",
       "    </tr>\n",
       "  </tbody>\n",
       "</table>\n",
       "</div>"
      ],
      "text/plain": [
       "                            adresse                ville             geom  \\\n",
       "68902           Route de Longjumeau       CHILLY-MAZARIN      48.71,2.298   \n",
       "55130           Route de Longjumeau       CHILLY-MAZARIN      48.71,2.298   \n",
       "76068   69 Avenue Charles de Gaulle             MORANGIS     48.706,2.343   \n",
       "25262   69 Avenue Charles de Gaulle             MORANGIS     48.706,2.343   \n",
       "13691             38 AV DE MORANGIS           ATHIS MONS     48.706,2.369   \n",
       "41567         CHEMIN DE BRIIS CD 59  Villebon-sur-Yvette  48.7046,2.25396   \n",
       "28596         CHEMIN DE BRIIS CD 59  Villebon-sur-Yvette  48.7046,2.25396   \n",
       "45188         CHEMIN DE BRIIS CD 59  Villebon-sur-Yvette  48.7046,2.25396   \n",
       "41573         180 ROUTE NATIONALE 7           ATHIS-MONS     48.712,2.371   \n",
       "61582  RUE DE LONGJUMEAU RUE AMPERE       Chilly-Mazarin     48.713,2.298   \n",
       "\n",
       "       prix_valeur prix_nom  \n",
       "68902        1.750      E10  \n",
       "55130        1.750      E10  \n",
       "76068        1.709      E10  \n",
       "25262        1.709      E10  \n",
       "13691        1.859      E10  \n",
       "41567        1.659      E10  \n",
       "28596        1.659      E10  \n",
       "45188        1.659      E10  \n",
       "41573        1.656      E10  \n",
       "61582        1.889      E10  "
      ]
     },
     "execution_count": 103,
     "metadata": {},
     "output_type": "execute_result"
    }
   ],
   "source": [
    "dix_plus_proche_card(data, \"1 rue d'Arsonval, Orsay, France\" , 'E10')"
   ]
  }
 ],
 "metadata": {
  "kernelspec": {
   "display_name": "Python 3.9.13 64-bit (microsoft store)",
   "language": "python",
   "name": "python3"
  },
  "language_info": {
   "codemirror_mode": {
    "name": "ipython",
    "version": 3
   },
   "file_extension": ".py",
   "mimetype": "text/x-python",
   "name": "python",
   "nbconvert_exporter": "python",
   "pygments_lexer": "ipython3",
   "version": "3.9.13"
  },
  "orig_nbformat": 4,
  "vscode": {
   "interpreter": {
    "hash": "b49ab16f02f294ae267a674cbb49c428cfb2ab8f5024afc5c58c85bfa43db9ee"
   }
  }
 },
 "nbformat": 4,
 "nbformat_minor": 2
}
