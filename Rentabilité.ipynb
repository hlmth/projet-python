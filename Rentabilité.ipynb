{
 "cells": [
  {
   "cell_type": "code",
   "execution_count": 9,
   "metadata": {},
   "outputs": [],
   "source": [
    "import pandas as pd\n",
    "\n",
    "df = pd.read_csv(\"D:/code/2ème année/projet-python/data/prix-carburants-fichier-quotidien-test-ods.csv\", sep=';', on_bad_lines='skip')\n",
    "\n",
    "def data_carb(df, carb):\n",
    "    data_1 = df[['adresse', 'ville', 'geom', 'prix_valeur', 'prix_nom']]\n",
    "    d = data_1[data_1.prix_nom == carb]\n",
    "    #d=d.drop_duplicates(keep = 'first', inplace=True) \n",
    "    #df.drop_duplicates(subset =\"'column'\", keep = 'first', inplace=True) si on veut supprimer selon une colonne\n",
    "\n",
    "# a ajouter : un traitement des NaN\n",
    "    return d\n",
    "\n",
    "df_2 = data_carb(df, 'SP95').sort_values('prix_valeur')\n",
    "df_test=df_2.sample(5)"
   ]
  },
  {
   "cell_type": "code",
   "execution_count": 24,
   "metadata": {},
   "outputs": [
    {
     "name": "stdout",
     "output_type": "stream",
     "text": [
      "48.7087952,2.1742033\n"
     ]
    }
   ],
   "source": [
    "from geopy.geocoders import Nominatim\n",
    "\n",
    "\n",
    "def Adresse_to_gps(Adresse) : \n",
    "\n",
    "    geolocator = Nominatim(user_agent=\"Projet Python\")\n",
    "    location = geolocator.geocode(Adresse)\n",
    "    return str(str(location.latitude) + ','+ str(location.longitude))\n",
    "\n",
    "from math import cos, sin, acos \n",
    "\n",
    "def distance1(p1,p2):\n",
    "    lat1,long1 = p1\n",
    "    lat2,long2 = p2\n",
    "    dlong = long2 - long1\n",
    "    dist_ang = acos(sin(lat1)*sin(lat2) + cos(lat1)*cos(lat2)*cos(dlong))\n",
    "    return(6378137*dist_ang)\n",
    "\n",
    "print(Adresse_to_gps(\"1 rue d'Arsonval, Orsay, France\"))"
   ]
  },
  {
   "cell_type": "code",
   "execution_count": 25,
   "metadata": {},
   "outputs": [],
   "source": [
    "df_opti=df_test.assign(cout=1) #nouvelle colonne avec le cout du plein en tenant compte du trajet et du prix\n",
    "\n",
    "\n",
    "def prix_plein(Quantité, adresse, station) : \n",
    "    position=Adresse_to_gps(adresse)\n",
    "    A = list(map(float,position.split(',')))\n",
    "    B = list(map(float,df_opti.iloc[station,2].split(',')))\n",
    "    \n",
    "    D= distance1(A,B)     #calcul de la distance avec la station (marche pas donc j'ai mis une constante)\n",
    "    conso_trajet=D*0.06 #calcul du nb de litre d'essence necessaire pour aller a la station\n",
    "    P=Quantité+conso_trajet #calcul du nb de litre necessaire pour faire le plein après le trajet\n",
    "    prix_L=df_opti.iloc[station,3] #prix au litre à la station\n",
    "    prix_trajet=D*conso_trajet #prix du trajet\n",
    "    px_plein=prix_L*P-prix_trajet #prix du plein\n",
    "    return px_plein\n",
    "\n"
   ]
  },
  {
   "cell_type": "code",
   "execution_count": 26,
   "metadata": {},
   "outputs": [
    {
     "name": "stdout",
     "output_type": "stream",
     "text": [
      "                       adresse       ville              geom  prix_valeur  \\\n",
      "44865  38 rue du moulin à vent  VéNISSIEUX  45.73012,4.85621        1.709   \n",
      "\n",
      "      prix_nom          cout  \n",
      "44865     SP95 -2.126759e+13  \n"
     ]
    }
   ],
   "source": [
    "#df_opti=df_test.assign(cout=1) #nouvelle colonne avec le cout du plein en tenant compte du trajet et du prix\n",
    "\n",
    "for i in range(len(df_opti)) : \n",
    "    C=prix_plein(50,\"1 rue d'Arsonval, Orsay, France\",i)\n",
    "    df_opti.iloc[i,5]=C\n",
    "\n",
    "df_opti = df_opti.sort_values('cout', ascending=True)\n",
    "print(df_opti.head(1)) #station la plus rentable"
   ]
  }
 ],
 "metadata": {
  "kernelspec": {
   "display_name": "Python 3.9.13 64-bit (microsoft store)",
   "language": "python",
   "name": "python3"
  },
  "language_info": {
   "codemirror_mode": {
    "name": "ipython",
    "version": 3
   },
   "file_extension": ".py",
   "mimetype": "text/x-python",
   "name": "python",
   "nbconvert_exporter": "python",
   "pygments_lexer": "ipython3",
   "version": "3.9.13"
  },
  "orig_nbformat": 4,
  "vscode": {
   "interpreter": {
    "hash": "b49ab16f02f294ae267a674cbb49c428cfb2ab8f5024afc5c58c85bfa43db9ee"
   }
  }
 },
 "nbformat": 4,
 "nbformat_minor": 2
}
