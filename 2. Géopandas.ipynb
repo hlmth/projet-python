{
 "cells": [
  {
   "attachments": {},
   "cell_type": "markdown",
   "metadata": {},
   "source": [
    "# 2. Les stations les plus proches avec géopandas\n",
    "\n",
    "On se sert de géopandas et des geodataframes vus précedemment pour trouver les stations les plus proche de la position de l'usager."
   ]
  },
  {
   "cell_type": "code",
   "execution_count": 5,
   "metadata": {},
   "outputs": [],
   "source": [
    "import pandas as pd \n",
    "import geopandas as gpd\n",
    "import urllib\n",
    "import shapely\n",
    "pd.options.mode.chained_assignment = None  # default='warn'\n",
    "from math import *\n",
    "from geopy.geocoders import Nominatim\n",
    "import module_projet as md"
   ]
  },
  {
   "attachments": {},
   "cell_type": "markdown",
   "metadata": {},
   "source": [
    "On prend donc le geodataframe avec données instantannées et on le nettoie en enlevant les doublons et en gardant les colonnes qui nous intéressent. \n",
    "Ensuite, on vérifie dans quel système de projection est le geodataframe."
   ]
  },
  {
   "cell_type": "code",
   "execution_count": 3,
   "metadata": {},
   "outputs": [],
   "source": [
    "dat_inst_g = gpd.read_file('data/fichier_inst_g.geojson')"
   ]
  },
  {
   "cell_type": "code",
   "execution_count": 6,
   "metadata": {},
   "outputs": [],
   "source": [
    "data_g = md.data_carb(dat_inst_g, 'Gazole',['adresse', 'ville', 'prix_valeur', 'prix_nom', 'geometry'])"
   ]
  },
  {
   "cell_type": "code",
   "execution_count": 20,
   "metadata": {},
   "outputs": [
    {
     "data": {
      "text/plain": [
       "<Geographic 2D CRS: EPSG:4326>\n",
       "Name: WGS 84\n",
       "Axis Info [ellipsoidal]:\n",
       "- Lat[north]: Geodetic latitude (degree)\n",
       "- Lon[east]: Geodetic longitude (degree)\n",
       "Area of Use:\n",
       "- name: World.\n",
       "- bounds: (-180.0, -90.0, 180.0, 90.0)\n",
       "Datum: World Geodetic System 1984 ensemble\n",
       "- Ellipsoid: WGS 84\n",
       "- Prime Meridian: Greenwich"
      ]
     },
     "execution_count": 20,
     "metadata": {},
     "output_type": "execute_result"
    }
   ],
   "source": [
    "data_g.crs"
   ]
  },
  {
   "attachments": {},
   "cell_type": "markdown",
   "metadata": {},
   "source": [
    "On fait maintenant une fonction pour trouver les stations les 10 stations les plus proches en faisant attention de se projeter en projection Lambert pour faire le calcul de distance puisque c'est le système de projection officiel en France. "
   ]
  },
  {
   "cell_type": "code",
   "execution_count": 24,
   "metadata": {},
   "outputs": [],
   "source": [
    "def dix_plus_proche_g(df, posi, carb): \n",
    "    data = md.data_carb(df, carb,['adresse', 'ville', 'prix_valeur', 'prix_nom', 'geometry'])\n",
    "    p = shapely.geometry.Point(list(map(float, md.Adresse_to_gps(posi).split(','))))\n",
    "    col_ad = gpd.GeoSeries((p for i in range(len(data))),index= data.index, crs = 4326)\n",
    "    new_data = data.to_crs(2154)\n",
    "    new_col = col_ad.to_crs(2154)\n",
    "    data_1 = new_data.distance(new_col).sort_values().head(10)\n",
    "    return data.loc[data_1.index.to_list()]"
   ]
  },
  {
   "cell_type": "code",
   "execution_count": 25,
   "metadata": {},
   "outputs": [
    {
     "data": {
      "text/html": [
       "<div>\n",
       "<style scoped>\n",
       "    .dataframe tbody tr th:only-of-type {\n",
       "        vertical-align: middle;\n",
       "    }\n",
       "\n",
       "    .dataframe tbody tr th {\n",
       "        vertical-align: top;\n",
       "    }\n",
       "\n",
       "    .dataframe thead th {\n",
       "        text-align: right;\n",
       "    }\n",
       "</style>\n",
       "<table border=\"1\" class=\"dataframe\">\n",
       "  <thead>\n",
       "    <tr style=\"text-align: right;\">\n",
       "      <th></th>\n",
       "      <th>adresse</th>\n",
       "      <th>ville</th>\n",
       "      <th>prix_valeur</th>\n",
       "      <th>prix_nom</th>\n",
       "      <th>geometry</th>\n",
       "    </tr>\n",
       "  </thead>\n",
       "  <tbody>\n",
       "    <tr>\n",
       "      <th>6321</th>\n",
       "      <td>Cala Longa</td>\n",
       "      <td>Bonifacio</td>\n",
       "      <td>1.768</td>\n",
       "      <td>Gazole</td>\n",
       "      <td>POINT (9.16600 41.39200)</td>\n",
       "    </tr>\n",
       "    <tr>\n",
       "      <th>2200</th>\n",
       "      <td>sennola</td>\n",
       "      <td>BONIFACIO</td>\n",
       "      <td>1.767</td>\n",
       "      <td>Gazole</td>\n",
       "      <td>POINT (9.16500 41.39100)</td>\n",
       "    </tr>\n",
       "    <tr>\n",
       "      <th>10989</th>\n",
       "      <td>358 San Cipriano</td>\n",
       "      <td>Lecci</td>\n",
       "      <td>1.750</td>\n",
       "      <td>Gazole</td>\n",
       "      <td>POINT (9.33600 41.63900)</td>\n",
       "    </tr>\n",
       "    <tr>\n",
       "      <th>28068</th>\n",
       "      <td>Route de Bonifacio</td>\n",
       "      <td>Porto-Vecchio</td>\n",
       "      <td>1.800</td>\n",
       "      <td>Gazole</td>\n",
       "      <td>POINT (9.27300 41.57100)</td>\n",
       "    </tr>\n",
       "    <tr>\n",
       "      <th>17308</th>\n",
       "      <td>Route de bonifacio BP115</td>\n",
       "      <td>Porto-Vecchio</td>\n",
       "      <td>1.750</td>\n",
       "      <td>Gazole</td>\n",
       "      <td>POINT (9.27469 41.57844)</td>\n",
       "    </tr>\n",
       "    <tr>\n",
       "      <th>11092</th>\n",
       "      <td>Les 4 Chemins BP115</td>\n",
       "      <td>Porto-Vecchio</td>\n",
       "      <td>1.750</td>\n",
       "      <td>Gazole</td>\n",
       "      <td>POINT (9.27600 41.59800)</td>\n",
       "    </tr>\n",
       "    <tr>\n",
       "      <th>19655</th>\n",
       "      <td>Station TOTAL - Quartier La Poretta</td>\n",
       "      <td>PORTO-VECCHIO</td>\n",
       "      <td>1.740</td>\n",
       "      <td>Gazole</td>\n",
       "      <td>POINT (9.27600 41.60200)</td>\n",
       "    </tr>\n",
       "    <tr>\n",
       "      <th>29251</th>\n",
       "      <td>RTE N 198</td>\n",
       "      <td>Porto-Vecchio</td>\n",
       "      <td>1.750</td>\n",
       "      <td>Gazole</td>\n",
       "      <td>POINT (9.27700 41.60400)</td>\n",
       "    </tr>\n",
       "    <tr>\n",
       "      <th>31149</th>\n",
       "      <td>route de bastia</td>\n",
       "      <td>Porto-Vecchio</td>\n",
       "      <td>1.740</td>\n",
       "      <td>Gazole</td>\n",
       "      <td>POINT (9.28000 41.61400)</td>\n",
       "    </tr>\n",
       "    <tr>\n",
       "      <th>13066</th>\n",
       "      <td>Station TOTAL La Trinité - RN 198 - Pitrera</td>\n",
       "      <td>PORTO-VECCHIO</td>\n",
       "      <td>1.775</td>\n",
       "      <td>Gazole</td>\n",
       "      <td>POINT (9.29420 41.63490)</td>\n",
       "    </tr>\n",
       "  </tbody>\n",
       "</table>\n",
       "</div>"
      ],
      "text/plain": [
       "                                           adresse          ville  \\\n",
       "6321                                    Cala Longa      Bonifacio   \n",
       "2200                                       sennola      BONIFACIO   \n",
       "10989                             358 San Cipriano          Lecci   \n",
       "28068                           Route de Bonifacio  Porto-Vecchio   \n",
       "17308                     Route de bonifacio BP115  Porto-Vecchio   \n",
       "11092                          Les 4 Chemins BP115  Porto-Vecchio   \n",
       "19655          Station TOTAL - Quartier La Poretta  PORTO-VECCHIO   \n",
       "29251                                    RTE N 198  Porto-Vecchio   \n",
       "31149                              route de bastia  Porto-Vecchio   \n",
       "13066  Station TOTAL La Trinité - RN 198 - Pitrera  PORTO-VECCHIO   \n",
       "\n",
       "       prix_valeur prix_nom                  geometry  \n",
       "6321         1.768   Gazole  POINT (9.16600 41.39200)  \n",
       "2200         1.767   Gazole  POINT (9.16500 41.39100)  \n",
       "10989        1.750   Gazole  POINT (9.33600 41.63900)  \n",
       "28068        1.800   Gazole  POINT (9.27300 41.57100)  \n",
       "17308        1.750   Gazole  POINT (9.27469 41.57844)  \n",
       "11092        1.750   Gazole  POINT (9.27600 41.59800)  \n",
       "19655        1.740   Gazole  POINT (9.27600 41.60200)  \n",
       "29251        1.750   Gazole  POINT (9.27700 41.60400)  \n",
       "31149        1.740   Gazole  POINT (9.28000 41.61400)  \n",
       "13066        1.775   Gazole  POINT (9.29420 41.63490)  "
      ]
     },
     "execution_count": 25,
     "metadata": {},
     "output_type": "execute_result"
    }
   ],
   "source": [
    "dix_plus_proche_g(data_g, \"1 rue de Rivoli, Paris, France\", \"Gazole\")"
   ]
  },
  {
   "attachments": {},
   "cell_type": "markdown",
   "metadata": {},
   "source": [
    "Le résultat n'est pas concluant comme on peut rapidement le voir et malgré de nombreuses recherches et une attention particulière portée sur les systèmes de projection, nous n'avons pas réussi à trouver pourquoi. C'est pourquoi nous allons par la suite résonner avec des dataframes classiques."
   ]
  }
 ],
 "metadata": {
  "kernelspec": {
   "display_name": "Python 3",
   "language": "python",
   "name": "python3"
  },
  "language_info": {
   "codemirror_mode": {
    "name": "ipython",
    "version": 3
   },
   "file_extension": ".py",
   "mimetype": "text/x-python",
   "name": "python",
   "nbconvert_exporter": "python",
   "pygments_lexer": "ipython3",
   "version": "3.9.13 (tags/v3.9.13:6de2ca5, May 17 2022, 16:36:42) [MSC v.1929 64 bit (AMD64)]"
  },
  "orig_nbformat": 4,
  "vscode": {
   "interpreter": {
    "hash": "b49ab16f02f294ae267a674cbb49c428cfb2ab8f5024afc5c58c85bfa43db9ee"
   }
  }
 },
 "nbformat": 4,
 "nbformat_minor": 2
}
