{
 "cells": [
  {
   "cell_type": "code",
   "execution_count": 1,
   "metadata": {},
   "outputs": [],
   "source": [
    "import pandas as pd \n",
    "import geopandas as gpd\n",
    "import urllib\n",
    "import shapely\n",
    "pd.options.mode.chained_assignment = None  # default='warn'"
   ]
  },
  {
   "cell_type": "code",
   "execution_count": 2,
   "metadata": {},
   "outputs": [],
   "source": [
    "data_g = gpd.read_file('data/prix-carburants-fichier-quotidien-test-ods.geojson')"
   ]
  },
  {
   "cell_type": "code",
   "execution_count": 3,
   "metadata": {},
   "outputs": [
    {
     "data": {
      "text/plain": [
       "Index(['prix_valeur', 'rupture_nom', 'pop', 'dep_name', 'services_service',\n",
       "       'rupture_debut', 'prix_maj', 'com_arm_name', 'adresse', 'horaires',\n",
       "       'ville', 'rupture', 'reg_code', 'epci_name', 'com_arm_code', 'prix_nom',\n",
       "       'cp', 'fermeture', 'horaires_automate_24_24', 'dep_code', 'epci_code',\n",
       "       'reg_name', 'prix_id', 'id', 'geometry'],\n",
       "      dtype='object')"
      ]
     },
     "execution_count": 3,
     "metadata": {},
     "output_type": "execute_result"
    }
   ],
   "source": [
    "data_g.columns"
   ]
  },
  {
   "cell_type": "code",
   "execution_count": 4,
   "metadata": {},
   "outputs": [],
   "source": [
    "def data_carb_g(df, carb):\n",
    "    data_1 = df[['adresse', 'ville', 'prix_valeur', 'prix_nom', 'geometry']]\n",
    "    d = data_1[data_1.prix_nom == carb]\n",
    "    d.drop_duplicates(keep = 'first', inplace=True) \n",
    "    #df.drop_duplicates(subset =\"'column'\", keep = 'first', inplace=True) si on veut supprimer selon une colonne\n",
    "    return d"
   ]
  },
  {
   "cell_type": "code",
   "execution_count": 5,
   "metadata": {},
   "outputs": [],
   "source": [
    "data_2_g = data_carb_g(data_g, 'SP95').sort_values('prix_valeur')"
   ]
  },
  {
   "cell_type": "code",
   "execution_count": 6,
   "metadata": {},
   "outputs": [
    {
     "data": {
      "text/html": [
       "<div>\n",
       "<style scoped>\n",
       "    .dataframe tbody tr th:only-of-type {\n",
       "        vertical-align: middle;\n",
       "    }\n",
       "\n",
       "    .dataframe tbody tr th {\n",
       "        vertical-align: top;\n",
       "    }\n",
       "\n",
       "    .dataframe thead th {\n",
       "        text-align: right;\n",
       "    }\n",
       "</style>\n",
       "<table border=\"1\" class=\"dataframe\">\n",
       "  <thead>\n",
       "    <tr style=\"text-align: right;\">\n",
       "      <th></th>\n",
       "      <th>adresse</th>\n",
       "      <th>ville</th>\n",
       "      <th>prix_valeur</th>\n",
       "      <th>prix_nom</th>\n",
       "      <th>geometry</th>\n",
       "    </tr>\n",
       "  </thead>\n",
       "  <tbody>\n",
       "    <tr>\n",
       "      <th>2402</th>\n",
       "      <td>Avenue de l'Orme à Martin</td>\n",
       "      <td>Courcouronnes</td>\n",
       "      <td>1.169</td>\n",
       "      <td>SP95</td>\n",
       "      <td>POINT (2.41700 48.63100)</td>\n",
       "    </tr>\n",
       "    <tr>\n",
       "      <th>60125</th>\n",
       "      <td>13 Avenue Ampère</td>\n",
       "      <td>MONTIGNY-LE-BRETONNEUX</td>\n",
       "      <td>1.423</td>\n",
       "      <td>SP95</td>\n",
       "      <td>POINT (2.04800 48.79800)</td>\n",
       "    </tr>\n",
       "    <tr>\n",
       "      <th>36655</th>\n",
       "      <td>754 route d'albertville</td>\n",
       "      <td>SEVRIER</td>\n",
       "      <td>1.499</td>\n",
       "      <td>SP95</td>\n",
       "      <td>POINT (6.14300 45.85600)</td>\n",
       "    </tr>\n",
       "    <tr>\n",
       "      <th>22911</th>\n",
       "      <td>Aire de Saint-Hilaire Cottes A26</td>\n",
       "      <td>SAINT-HILAIRE COTTES</td>\n",
       "      <td>1.499</td>\n",
       "      <td>SP95</td>\n",
       "      <td>POINT (2.39400 50.56600)</td>\n",
       "    </tr>\n",
       "    <tr>\n",
       "      <th>25102</th>\n",
       "      <td>ROUTE DE CHATEAU LAVALLIE</td>\n",
       "      <td>LA MEMBROLLE-SUR-CHOISILLE</td>\n",
       "      <td>1.506</td>\n",
       "      <td>SP95</td>\n",
       "      <td>POINT (0.62264 47.44276)</td>\n",
       "    </tr>\n",
       "    <tr>\n",
       "      <th>...</th>\n",
       "      <td>...</td>\n",
       "      <td>...</td>\n",
       "      <td>...</td>\n",
       "      <td>...</td>\n",
       "      <td>...</td>\n",
       "    </tr>\n",
       "    <tr>\n",
       "      <th>44978</th>\n",
       "      <td>8,10,10bis Rue Bailleul</td>\n",
       "      <td>PARIS</td>\n",
       "      <td>2.240</td>\n",
       "      <td>SP95</td>\n",
       "      <td>POINT (2.34100 48.86100)</td>\n",
       "    </tr>\n",
       "    <tr>\n",
       "      <th>11148</th>\n",
       "      <td>15 Avenue Duquesne</td>\n",
       "      <td>PARIS</td>\n",
       "      <td>2.600</td>\n",
       "      <td>SP95</td>\n",
       "      <td>POINT (2.30800 48.85300)</td>\n",
       "    </tr>\n",
       "    <tr>\n",
       "      <th>43359</th>\n",
       "      <td>69 Avenue Kléber</td>\n",
       "      <td>Paris</td>\n",
       "      <td>2.690</td>\n",
       "      <td>SP95</td>\n",
       "      <td>POINT (2.28900 48.86500)</td>\n",
       "    </tr>\n",
       "    <tr>\n",
       "      <th>4049</th>\n",
       "      <td>253 Boulevard Raspail</td>\n",
       "      <td>PARIS</td>\n",
       "      <td>2.690</td>\n",
       "      <td>SP95</td>\n",
       "      <td>POINT (2.33100 48.83800)</td>\n",
       "    </tr>\n",
       "    <tr>\n",
       "      <th>58312</th>\n",
       "      <td>175 Avenue Ledru-Rollin</td>\n",
       "      <td>PARIS</td>\n",
       "      <td>2.900</td>\n",
       "      <td>SP95</td>\n",
       "      <td>POINT (2.37910 48.85667)</td>\n",
       "    </tr>\n",
       "  </tbody>\n",
       "</table>\n",
       "<p>3709 rows × 5 columns</p>\n",
       "</div>"
      ],
      "text/plain": [
       "                                adresse                       ville  \\\n",
       "2402          Avenue de l'Orme à Martin               Courcouronnes   \n",
       "60125                  13 Avenue Ampère      MONTIGNY-LE-BRETONNEUX   \n",
       "36655           754 route d'albertville                     SEVRIER   \n",
       "22911  Aire de Saint-Hilaire Cottes A26        SAINT-HILAIRE COTTES   \n",
       "25102         ROUTE DE CHATEAU LAVALLIE  LA MEMBROLLE-SUR-CHOISILLE   \n",
       "...                                 ...                         ...   \n",
       "44978           8,10,10bis Rue Bailleul                       PARIS   \n",
       "11148                15 Avenue Duquesne                       PARIS   \n",
       "43359                  69 Avenue Kléber                       Paris   \n",
       "4049              253 Boulevard Raspail                       PARIS   \n",
       "58312           175 Avenue Ledru-Rollin                       PARIS   \n",
       "\n",
       "       prix_valeur prix_nom                  geometry  \n",
       "2402         1.169     SP95  POINT (2.41700 48.63100)  \n",
       "60125        1.423     SP95  POINT (2.04800 48.79800)  \n",
       "36655        1.499     SP95  POINT (6.14300 45.85600)  \n",
       "22911        1.499     SP95  POINT (2.39400 50.56600)  \n",
       "25102        1.506     SP95  POINT (0.62264 47.44276)  \n",
       "...            ...      ...                       ...  \n",
       "44978        2.240     SP95  POINT (2.34100 48.86100)  \n",
       "11148        2.600     SP95  POINT (2.30800 48.85300)  \n",
       "43359        2.690     SP95  POINT (2.28900 48.86500)  \n",
       "4049         2.690     SP95  POINT (2.33100 48.83800)  \n",
       "58312        2.900     SP95  POINT (2.37910 48.85667)  \n",
       "\n",
       "[3709 rows x 5 columns]"
      ]
     },
     "execution_count": 6,
     "metadata": {},
     "output_type": "execute_result"
    }
   ],
   "source": [
    "data_2_g"
   ]
  },
  {
   "cell_type": "code",
   "execution_count": 7,
   "metadata": {},
   "outputs": [
    {
     "data": {
      "image/svg+xml": "<svg xmlns=\"http://www.w3.org/2000/svg\" xmlns:xlink=\"http://www.w3.org/1999/xlink\" width=\"100.0\" height=\"100.0\" viewBox=\"1.3791000000000002 47.85667 2.0 2.0\" preserveAspectRatio=\"xMinYMin meet\"><g transform=\"matrix(1,0,0,-1,0,97.71334)\"><circle cx=\"2.3791\" cy=\"48.85667\" r=\"0.06\" stroke=\"#555555\" stroke-width=\"0.02\" fill=\"#66cc99\" opacity=\"0.6\" /></g></svg>",
      "text/plain": [
       "<shapely.geometry.point.Point at 0x230ed50de50>"
      ]
     },
     "execution_count": 7,
     "metadata": {},
     "output_type": "execute_result"
    }
   ],
   "source": [
    "data_2_g.loc[58312, 'geometry']"
   ]
  },
  {
   "cell_type": "code",
   "execution_count": 8,
   "metadata": {},
   "outputs": [
    {
     "data": {
      "text/plain": [
       "<Geographic 2D CRS: EPSG:4326>\n",
       "Name: WGS 84\n",
       "Axis Info [ellipsoidal]:\n",
       "- Lat[north]: Geodetic latitude (degree)\n",
       "- Lon[east]: Geodetic longitude (degree)\n",
       "Area of Use:\n",
       "- name: World.\n",
       "- bounds: (-180.0, -90.0, 180.0, 90.0)\n",
       "Datum: World Geodetic System 1984 ensemble\n",
       "- Ellipsoid: WGS 84\n",
       "- Prime Meridian: Greenwich"
      ]
     },
     "execution_count": 8,
     "metadata": {},
     "output_type": "execute_result"
    }
   ],
   "source": [
    "data_2_g.crs"
   ]
  },
  {
   "cell_type": "code",
   "execution_count": 9,
   "metadata": {},
   "outputs": [
    {
     "data": {
      "text/plain": [
       "(48.7087952, 2.1742033)"
      ]
     },
     "execution_count": 9,
     "metadata": {},
     "output_type": "execute_result"
    }
   ],
   "source": [
    "from geopy.geocoders import Nominatim\n",
    "\n",
    "\n",
    "def Adresse_to_gps(Adresse) : \n",
    "\n",
    "    geolocator = Nominatim(user_agent=\"Projet Python\")\n",
    "    location = geolocator.geocode(Adresse)\n",
    "    return location.latitude, location.longitude\n",
    "\n",
    "\n",
    "Adresse_to_gps(\"1 rue d'Arsonval, Orsay, France\")"
   ]
  },
  {
   "cell_type": "code",
   "execution_count": 23,
   "metadata": {},
   "outputs": [],
   "source": [
    "point = shapely.geometry.Point(Adresse_to_gps(\"1 rue d'Arsonval, Orsay, France\"))\n",
    "col_adresse = gpd.GeoSeries((point for i in range(len(data_2_g))),index= data_2_g.index, crs = 4326)"
   ]
  },
  {
   "cell_type": "code",
   "execution_count": 24,
   "metadata": {},
   "outputs": [
    {
     "data": {
      "text/plain": [
       "<Geographic 2D CRS: EPSG:4326>\n",
       "Name: WGS 84\n",
       "Axis Info [ellipsoidal]:\n",
       "- Lat[north]: Geodetic latitude (degree)\n",
       "- Lon[east]: Geodetic longitude (degree)\n",
       "Area of Use:\n",
       "- name: World.\n",
       "- bounds: (-180.0, -90.0, 180.0, 90.0)\n",
       "Datum: World Geodetic System 1984 ensemble\n",
       "- Ellipsoid: WGS 84\n",
       "- Prime Meridian: Greenwich"
      ]
     },
     "execution_count": 24,
     "metadata": {},
     "output_type": "execute_result"
    }
   ],
   "source": [
    "col_adresse.crs"
   ]
  },
  {
   "cell_type": "code",
   "execution_count": 26,
   "metadata": {},
   "outputs": [
    {
     "name": "stderr",
     "output_type": "stream",
     "text": [
      "C:\\Users\\hugol\\AppData\\Local\\Temp\\ipykernel_12112\\689889311.py:1: UserWarning: Geometry is in a geographic CRS. Results from 'distance' are likely incorrect. Use 'GeoSeries.to_crs()' to re-project geometries to a projected CRS before this operation.\n",
      "\n",
      "  data_2_g.distance(col_adresse)\n"
     ]
    },
    {
     "data": {
      "text/plain": [
       "2402     65.583262\n",
       "60125    65.962173\n",
       "36655    60.991362\n",
       "22911    66.983776\n",
       "25102    66.041809\n",
       "           ...    \n",
       "44978    65.799920\n",
       "11148    65.817504\n",
       "43359    65.839410\n",
       "4049     65.790651\n",
       "58312    65.770003\n",
       "Length: 3709, dtype: float64"
      ]
     },
     "execution_count": 26,
     "metadata": {},
     "output_type": "execute_result"
    }
   ],
   "source": [
    "data_2_g.distance(col_adresse)"
   ]
  }
 ],
 "metadata": {
  "kernelspec": {
   "display_name": "Python 3.9.13 64-bit (microsoft store)",
   "language": "python",
   "name": "python3"
  },
  "language_info": {
   "codemirror_mode": {
    "name": "ipython",
    "version": 3
   },
   "file_extension": ".py",
   "mimetype": "text/x-python",
   "name": "python",
   "nbconvert_exporter": "python",
   "pygments_lexer": "ipython3",
   "version": "3.9.13"
  },
  "orig_nbformat": 4,
  "vscode": {
   "interpreter": {
    "hash": "b49ab16f02f294ae267a674cbb49c428cfb2ab8f5024afc5c58c85bfa43db9ee"
   }
  }
 },
 "nbformat": 4,
 "nbformat_minor": 2
}
